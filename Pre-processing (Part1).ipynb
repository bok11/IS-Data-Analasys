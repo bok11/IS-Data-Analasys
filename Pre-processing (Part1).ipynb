{
 "cells": [
  {
   "cell_type": "code",
   "execution_count": 1,
   "metadata": {
    "collapsed": true
   },
   "outputs": [],
   "source": [
    "import pandas as pd\n",
    "import seaborn as sns\n",
    "import missingno as msno\n",
    "import matplotlib.pyplot as plt\n",
    "import numpy as np"
   ]
  },
  {
   "cell_type": "markdown",
   "metadata": {},
   "source": [
    "# Loading the data"
   ]
  },
  {
   "cell_type": "code",
   "execution_count": 2,
   "metadata": {},
   "outputs": [
    {
     "name": "stderr",
     "output_type": "stream",
     "text": [
      "/home/bok/anaconda3/lib/python3.6/site-packages/IPython/core/interactiveshell.py:2698: DtypeWarning: Columns (21) have mixed types. Specify dtype option on import or set low_memory=False.\n",
      "  interactivity=interactivity, compiler=compiler, result=result)\n"
     ]
    },
    {
     "data": {
      "text/plain": [
       "(95218, 24)"
      ]
     },
     "execution_count": 2,
     "metadata": {},
     "output_type": "execute_result"
    }
   ],
   "source": [
    "df = pd.Series()\n",
    "df['raw'] = pd.read_csv('./Data/Annual_Parking_Study_Data.csv')\n",
    "df['raw'].shape\n"
   ]
  },
  {
   "cell_type": "code",
   "execution_count": 88,
   "metadata": {},
   "outputs": [
    {
     "data": {
      "text/plain": [
       "0                            NaN\n",
       "1                            NaN\n",
       "2                            NaN\n",
       "3                            NaN\n",
       "4                            NaN\n",
       "5                            NaN\n",
       "6                            NaN\n",
       "7        Restricted Parking Zone\n",
       "8        Restricted Parking Zone\n",
       "9                            NaN\n",
       "10                           NaN\n",
       "11                           NaN\n",
       "12                           NaN\n",
       "13       Restricted Parking Zone\n",
       "14       Restricted Parking Zone\n",
       "15                           NaN\n",
       "16                           NaN\n",
       "17                           NaN\n",
       "18                           NaN\n",
       "19                           NaN\n",
       "20                           NaN\n",
       "21                           NaN\n",
       "22                           NaN\n",
       "23       Restricted Parking Zone\n",
       "24       Restricted Parking Zone\n",
       "25       Restricted Parking Zone\n",
       "26       Restricted Parking Zone\n",
       "27                           NaN\n",
       "28                           NaN\n",
       "29                           NaN\n",
       "                  ...           \n",
       "95188                          0\n",
       "95189                          0\n",
       "95190                          0\n",
       "95191                          0\n",
       "95192                          0\n",
       "95193                          0\n",
       "95194                          0\n",
       "95195                          0\n",
       "95196                          0\n",
       "95197                          0\n",
       "95198                          0\n",
       "95199                          0\n",
       "95200                          0\n",
       "95201                          0\n",
       "95202                          0\n",
       "95203                          0\n",
       "95204                          0\n",
       "95205                          0\n",
       "95206                          0\n",
       "95207                          0\n",
       "95208                          0\n",
       "95209                          0\n",
       "95210                          0\n",
       "95211                          0\n",
       "95212                          0\n",
       "95213                          0\n",
       "95214                          0\n",
       "95215                          0\n",
       "95216                          0\n",
       "95217                          0\n",
       "Name: RPZ Blocks, Length: 95218, dtype: object"
      ]
     },
     "execution_count": 88,
     "metadata": {},
     "output_type": "execute_result"
    }
   ],
   "source": [
    "df['raw'].iloc[0]"
   ]
  },
  {
   "cell_type": "markdown",
   "metadata": {},
   "source": [
    "# Data cleaning"
   ]
  },
  {
   "cell_type": "code",
   "execution_count": 4,
   "metadata": {
    "scrolled": false
   },
   "outputs": [
    {
     "data": {
      "image/png": "[encoded data removed]",
      "text/plain": [
       "<matplotlib.figure.Figure at 0x7fa0e421b780>"
      ]
     },
     "metadata": {},
     "output_type": "display_data"
    }
   ],
   "source": [
    "msno.matrix(df['raw'])"
   ]
  },
  {
   "cell_type": "code",
   "execution_count": 5,
   "metadata": {},
   "outputs": [
    {
     "name": "stdout",
     "output_type": "stream",
     "text": [
      "Amount of lines containing N/A:\t\t95108\n",
      "Percent of lines containing N/A:\t99.88%\n"
     ]
    }
   ],
   "source": [
    "NA = df['raw'].shape[0] - df['raw'].dropna().shape[0]\n",
    "print('Amount of lines containing N/A:\\t\\t{}'.format(NA))\n",
    "print('Percent of lines containing N/A:\\t{:.2f}%'.format(100*NA/df['raw'].shape[0]))"
   ]
  },
  {
   "cell_type": "markdown",
   "metadata": {},
   "source": [
    "There are some columns, which mostly contains missing values. Thees identify as Peak_Hour_SDOT, RPZ_Count, TG_Car2Go, BMW_DN, Field Notes and Time Stamp. Further more it is worth investegating the columns Sub_Area, RPZ_Blocks and CSM."
   ]
  },
  {
   "cell_type": "markdown",
   "metadata": {},
   "source": [
    "## Time stamp investegation\n",
    "Time stamp has alot of missing values. It would be interesting to see, if timestamps has a relation with the study_Time, Study Date and Study Year columns."
   ]
  },
  {
   "cell_type": "code",
   "execution_count": 6,
   "metadata": {},
   "outputs": [
    {
     "name": "stdout",
     "output_type": "stream",
     "text": [
      "Amount of lines containing N/A:\t\t76340\n",
      "Percent of lines containing N/A:\t80.17%\n"
     ]
    }
   ],
   "source": [
    "NA = df['raw']['Time Stamp'].shape[0] - df['raw']['Time Stamp'].dropna().shape[0]\n",
    "print('Amount of lines containing N/A:\\t\\t{}'.format(NA))\n",
    "print('Percent of lines containing N/A:\\t{:.2f}%'.format(100*NA/df['raw'].shape[0]))"
   ]
  },
  {
   "cell_type": "code",
   "execution_count": 7,
   "metadata": {},
   "outputs": [
    {
     "data": {
      "text/html": [
       "<div>\n",
       "<style>\n",
       "    .dataframe thead tr:only-child th {\n",
       "        text-align: right;\n",
       "    }\n",
       "\n",
       "    .dataframe thead th {\n",
       "        text-align: left;\n",
       "    }\n",
       "\n",
       "    .dataframe tbody tr th {\n",
       "        vertical-align: top;\n",
       "    }\n",
       "</style>\n",
       "<table border=\"1\" class=\"dataframe\">\n",
       "  <thead>\n",
       "    <tr style=\"text-align: right;\">\n",
       "      <th></th>\n",
       "      <th>Time Stamp</th>\n",
       "      <th>Study_Time</th>\n",
       "      <th>Study Date</th>\n",
       "      <th>Study Year</th>\n",
       "    </tr>\n",
       "  </thead>\n",
       "  <tbody>\n",
       "    <tr>\n",
       "      <th>36373</th>\n",
       "      <td>0.894028</td>\n",
       "      <td>9:00 PM</td>\n",
       "      <td>5/24/2016</td>\n",
       "      <td>2016</td>\n",
       "    </tr>\n",
       "    <tr>\n",
       "      <th>72494</th>\n",
       "      <td>0.754861</td>\n",
       "      <td>6:00 PM</td>\n",
       "      <td>4/5/2016</td>\n",
       "      <td>2016</td>\n",
       "    </tr>\n",
       "    <tr>\n",
       "      <th>72647</th>\n",
       "      <td>0.793750</td>\n",
       "      <td>7:00 PM</td>\n",
       "      <td>4/5/2016</td>\n",
       "      <td>2016</td>\n",
       "    </tr>\n",
       "    <tr>\n",
       "      <th>72973</th>\n",
       "      <td>0.877778</td>\n",
       "      <td>9:00 PM</td>\n",
       "      <td>4/5/2016</td>\n",
       "      <td>2016</td>\n",
       "    </tr>\n",
       "    <tr>\n",
       "      <th>73339</th>\n",
       "      <td>0.638194</td>\n",
       "      <td>3:00 PM</td>\n",
       "      <td>4/5/2016</td>\n",
       "      <td>2016</td>\n",
       "    </tr>\n",
       "  </tbody>\n",
       "</table>\n",
       "</div>"
      ],
      "text/plain": [
       "       Time Stamp Study_Time Study Date  Study Year\n",
       "36373    0.894028    9:00 PM  5/24/2016        2016\n",
       "72494    0.754861    6:00 PM   4/5/2016        2016\n",
       "72647    0.793750    7:00 PM   4/5/2016        2016\n",
       "72973    0.877778    9:00 PM   4/5/2016        2016\n",
       "73339    0.638194    3:00 PM   4/5/2016        2016"
      ]
     },
     "execution_count": 7,
     "metadata": {},
     "output_type": "execute_result"
    }
   ],
   "source": [
    "df['raw'][df['raw']['Time Stamp'].notnull()].head()[['Time Stamp','Study_Time','Study Date','Study Year']]"
   ]
  },
  {
   "cell_type": "markdown",
   "metadata": {},
   "source": [
    "The time stamp seem to be of a different type than date time. As no information is provided as to what format the timestamp values have, and the column is 80% missing values, a new timestamp will be created from study time and study date columns. This new timestamp column will be used as index"
   ]
  },
  {
   "cell_type": "code",
   "execution_count": 8,
   "metadata": {
    "collapsed": true
   },
   "outputs": [],
   "source": [
    "df['fixed'] = df['raw'].drop('Time Stamp',axis=1)\n",
    "df['fixed']['Time stamp'] = pd.to_datetime(df['raw']['Study_Time'] + ' ' + df['raw']['Study Date'])\n",
    "df['fixed'] = df['fixed'].drop(['Study_Time','Study Date','Study Year'],axis=1)\n",
    "df['fixed'] = df['fixed'].set_index('Time stamp')\n",
    "df['fixed'].sort_index(inplace=True)"
   ]
  },
  {
   "cell_type": "code",
   "execution_count": 9,
   "metadata": {
    "collapsed": true
   },
   "outputs": [],
   "source": [
    "df['fixed'] = df['raw'].drop('Time Stamp',axis=1)\n",
    "df['fixed']['Time stamp'] = pd.to_datetime(df['raw']['Study_Time'] + ' ' + df['raw']['Study Date'])\n",
    "df['fixed'] = df['fixed'].drop(['Study_Time','Study Date','Study Year'],axis=1)\n",
    "df['fixed'] = df['fixed'].set_index('Time stamp')\n",
    "df['fixed'].sort_index(inplace=True)"
   ]
  },
  {
   "cell_type": "code",
   "execution_count": 10,
   "metadata": {},
   "outputs": [
    {
     "data": {
      "text/html": [
       "<div>\n",
       "<style>\n",
       "    .dataframe thead tr:only-child th {\n",
       "        text-align: right;\n",
       "    }\n",
       "\n",
       "    .dataframe thead th {\n",
       "        text-align: left;\n",
       "    }\n",
       "\n",
       "    .dataframe tbody tr th {\n",
       "        vertical-align: top;\n",
       "    }\n",
       "</style>\n",
       "<table border=\"1\" class=\"dataframe\">\n",
       "  <thead>\n",
       "    <tr style=\"text-align: right;\">\n",
       "      <th></th>\n",
       "      <th>Elmntkey</th>\n",
       "      <th>Study_Area</th>\n",
       "      <th>Sub_Area</th>\n",
       "      <th>Side</th>\n",
       "      <th>Unitdesc</th>\n",
       "      <th>Parking_Category</th>\n",
       "      <th>Peak Hour_SDOT</th>\n",
       "      <th>Parking_Spaces</th>\n",
       "      <th>Total_Vehicle_Count</th>\n",
       "      <th>Dp_Count</th>\n",
       "      <th>Rpz_Count</th>\n",
       "      <th>TG_Car2Go</th>\n",
       "      <th>BMW_DN</th>\n",
       "      <th>Field Notes</th>\n",
       "      <th>Construction</th>\n",
       "      <th>Event Closure</th>\n",
       "      <th>Subarea Label</th>\n",
       "      <th>Peak Hour? (Yes or No)</th>\n",
       "      <th>RPZ Blocks</th>\n",
       "      <th>CSM</th>\n",
       "    </tr>\n",
       "    <tr>\n",
       "      <th>Time stamp</th>\n",
       "      <th></th>\n",
       "      <th></th>\n",
       "      <th></th>\n",
       "      <th></th>\n",
       "      <th></th>\n",
       "      <th></th>\n",
       "      <th></th>\n",
       "      <th></th>\n",
       "      <th></th>\n",
       "      <th></th>\n",
       "      <th></th>\n",
       "      <th></th>\n",
       "      <th></th>\n",
       "      <th></th>\n",
       "      <th></th>\n",
       "      <th></th>\n",
       "      <th></th>\n",
       "      <th></th>\n",
       "      <th></th>\n",
       "      <th></th>\n",
       "    </tr>\n",
       "  </thead>\n",
       "  <tbody>\n",
       "    <tr>\n",
       "      <th>2014-04-08 08:00:00</th>\n",
       "      <td>24558</td>\n",
       "      <td>12th Ave - Weekday</td>\n",
       "      <td>NaN</td>\n",
       "      <td>E</td>\n",
       "      <td>12TH AVE BETWEEN E MARION ST AND E SPRING ST</td>\n",
       "      <td>Paid Parking</td>\n",
       "      <td>NaN</td>\n",
       "      <td>8.0</td>\n",
       "      <td>1.0</td>\n",
       "      <td>0</td>\n",
       "      <td>NaN</td>\n",
       "      <td>NaN</td>\n",
       "      <td>NaN</td>\n",
       "      <td>delivery vehicle</td>\n",
       "      <td>No</td>\n",
       "      <td>No</td>\n",
       "      <td>12th Ave - Weekday</td>\n",
       "      <td>No</td>\n",
       "      <td>NaN</td>\n",
       "      <td>NaN</td>\n",
       "    </tr>\n",
       "    <tr>\n",
       "      <th>2014-04-08 08:00:00</th>\n",
       "      <td>24553</td>\n",
       "      <td>12th Ave - Weekday</td>\n",
       "      <td>NaN</td>\n",
       "      <td>W</td>\n",
       "      <td>12TH AVE BETWEEN E CHERRY ST AND E COLUMBIA ST</td>\n",
       "      <td>Paid Parking</td>\n",
       "      <td>NaN</td>\n",
       "      <td>7.0</td>\n",
       "      <td>3.0</td>\n",
       "      <td>0</td>\n",
       "      <td>NaN</td>\n",
       "      <td>NaN</td>\n",
       "      <td>NaN</td>\n",
       "      <td>NaN</td>\n",
       "      <td>No</td>\n",
       "      <td>No</td>\n",
       "      <td>12th Ave - Weekday</td>\n",
       "      <td>No</td>\n",
       "      <td>NaN</td>\n",
       "      <td>NaN</td>\n",
       "    </tr>\n",
       "    <tr>\n",
       "      <th>2014-04-08 08:00:00</th>\n",
       "      <td>69437</td>\n",
       "      <td>12th Ave - Weekday</td>\n",
       "      <td>NaN</td>\n",
       "      <td>W</td>\n",
       "      <td>12TH AVE BETWEEN E JAMES CT AND E CHERRY ST</td>\n",
       "      <td>Paid Parking</td>\n",
       "      <td>NaN</td>\n",
       "      <td>4.0</td>\n",
       "      <td>2.0</td>\n",
       "      <td>0</td>\n",
       "      <td>NaN</td>\n",
       "      <td>NaN</td>\n",
       "      <td>NaN</td>\n",
       "      <td>NaN</td>\n",
       "      <td>No</td>\n",
       "      <td>No</td>\n",
       "      <td>12th Ave - Weekday</td>\n",
       "      <td>No</td>\n",
       "      <td>NaN</td>\n",
       "      <td>NaN</td>\n",
       "    </tr>\n",
       "    <tr>\n",
       "      <th>2014-04-08 08:00:00</th>\n",
       "      <td>46725</td>\n",
       "      <td>12th Ave - Weekday</td>\n",
       "      <td>NaN</td>\n",
       "      <td>W</td>\n",
       "      <td>12TH AVE BETWEEN E JEFFERSON ST AND E BARCLAY CT</td>\n",
       "      <td>Paid Parking</td>\n",
       "      <td>NaN</td>\n",
       "      <td>5.0</td>\n",
       "      <td>0.0</td>\n",
       "      <td>0</td>\n",
       "      <td>NaN</td>\n",
       "      <td>NaN</td>\n",
       "      <td>NaN</td>\n",
       "      <td>NaN</td>\n",
       "      <td>No</td>\n",
       "      <td>No</td>\n",
       "      <td>12th Ave - Weekday</td>\n",
       "      <td>No</td>\n",
       "      <td>NaN</td>\n",
       "      <td>NaN</td>\n",
       "    </tr>\n",
       "    <tr>\n",
       "      <th>2014-04-08 08:00:00</th>\n",
       "      <td>69441</td>\n",
       "      <td>12th Ave - Weekday</td>\n",
       "      <td>NaN</td>\n",
       "      <td>W</td>\n",
       "      <td>12TH AVE BETWEEN E SPRING ST AND E MADISON ST</td>\n",
       "      <td>Paid Parking</td>\n",
       "      <td>NaN</td>\n",
       "      <td>3.0</td>\n",
       "      <td>0.0</td>\n",
       "      <td>0</td>\n",
       "      <td>NaN</td>\n",
       "      <td>NaN</td>\n",
       "      <td>NaN</td>\n",
       "      <td>NaN</td>\n",
       "      <td>No</td>\n",
       "      <td>No</td>\n",
       "      <td>12th Ave - Weekday</td>\n",
       "      <td>No</td>\n",
       "      <td>NaN</td>\n",
       "      <td>NaN</td>\n",
       "    </tr>\n",
       "  </tbody>\n",
       "</table>\n",
       "</div>"
      ],
      "text/plain": [
       "                     Elmntkey          Study_Area Sub_Area Side  \\\n",
       "Time stamp                                                        \n",
       "2014-04-08 08:00:00     24558  12th Ave - Weekday      NaN    E   \n",
       "2014-04-08 08:00:00     24553  12th Ave - Weekday      NaN    W   \n",
       "2014-04-08 08:00:00     69437  12th Ave - Weekday      NaN    W   \n",
       "2014-04-08 08:00:00     46725  12th Ave - Weekday      NaN    W   \n",
       "2014-04-08 08:00:00     69441  12th Ave - Weekday      NaN    W   \n",
       "\n",
       "                                                             Unitdesc  \\\n",
       "Time stamp                                                              \n",
       "2014-04-08 08:00:00      12TH AVE BETWEEN E MARION ST AND E SPRING ST   \n",
       "2014-04-08 08:00:00    12TH AVE BETWEEN E CHERRY ST AND E COLUMBIA ST   \n",
       "2014-04-08 08:00:00       12TH AVE BETWEEN E JAMES CT AND E CHERRY ST   \n",
       "2014-04-08 08:00:00  12TH AVE BETWEEN E JEFFERSON ST AND E BARCLAY CT   \n",
       "2014-04-08 08:00:00     12TH AVE BETWEEN E SPRING ST AND E MADISON ST   \n",
       "\n",
       "                    Parking_Category Peak Hour_SDOT  Parking_Spaces  \\\n",
       "Time stamp                                                            \n",
       "2014-04-08 08:00:00     Paid Parking            NaN             8.0   \n",
       "2014-04-08 08:00:00     Paid Parking            NaN             7.0   \n",
       "2014-04-08 08:00:00     Paid Parking            NaN             4.0   \n",
       "2014-04-08 08:00:00     Paid Parking            NaN             5.0   \n",
       "2014-04-08 08:00:00     Paid Parking            NaN             3.0   \n",
       "\n",
       "                     Total_Vehicle_Count  Dp_Count  Rpz_Count  TG_Car2Go  \\\n",
       "Time stamp                                                                 \n",
       "2014-04-08 08:00:00                  1.0         0        NaN        NaN   \n",
       "2014-04-08 08:00:00                  3.0         0        NaN        NaN   \n",
       "2014-04-08 08:00:00                  2.0         0        NaN        NaN   \n",
       "2014-04-08 08:00:00                  0.0         0        NaN        NaN   \n",
       "2014-04-08 08:00:00                  0.0         0        NaN        NaN   \n",
       "\n",
       "                     BMW_DN       Field Notes Construction Event Closure  \\\n",
       "Time stamp                                                                 \n",
       "2014-04-08 08:00:00     NaN  delivery vehicle           No            No   \n",
       "2014-04-08 08:00:00     NaN               NaN           No            No   \n",
       "2014-04-08 08:00:00     NaN               NaN           No            No   \n",
       "2014-04-08 08:00:00     NaN               NaN           No            No   \n",
       "2014-04-08 08:00:00     NaN               NaN           No            No   \n",
       "\n",
       "                          Subarea Label Peak Hour? (Yes or No) RPZ Blocks  CSM  \n",
       "Time stamp                                                                      \n",
       "2014-04-08 08:00:00  12th Ave - Weekday                     No        NaN  NaN  \n",
       "2014-04-08 08:00:00  12th Ave - Weekday                     No        NaN  NaN  \n",
       "2014-04-08 08:00:00  12th Ave - Weekday                     No        NaN  NaN  \n",
       "2014-04-08 08:00:00  12th Ave - Weekday                     No        NaN  NaN  \n",
       "2014-04-08 08:00:00  12th Ave - Weekday                     No        NaN  NaN  "
      ]
     },
     "execution_count": 10,
     "metadata": {},
     "output_type": "execute_result"
    }
   ],
   "source": [
    "df['fixed'].head()"
   ]
  },
  {
   "cell_type": "markdown",
   "metadata": {},
   "source": [
    "Now the data is sorted by date, and the 2 columns Study_Time and Study Date has been removed.\n",
    "It makes sense to make a new missing value matrix, to get a better understanding of the missing values versus time."
   ]
  },
  {
   "cell_type": "code",
   "execution_count": 11,
   "metadata": {},
   "outputs": [
    {
     "data": {
      "image/png": "[encoded data removed]",
      "text/plain": [
       "<matplotlib.figure.Figure at 0x7fa0a6462710>"
      ]
     },
     "metadata": {},
     "output_type": "display_data"
    }
   ],
   "source": [
    "msno.matrix(df['fixed'])"
   ]
  },
  {
   "cell_type": "code",
   "execution_count": 12,
   "metadata": {},
   "outputs": [
    {
     "name": "stdout",
     "output_type": "stream",
     "text": [
      "Amount of lines containing N/A:\t\t95089\n",
      "Percent of lines containing N/A:\t99.86%\n"
     ]
    }
   ],
   "source": [
    "NA = df['fixed'].shape[0] - df['fixed'].dropna().shape[0]\n",
    "print('Amount of lines containing N/A:\\t\\t{}'.format(NA))\n",
    "print('Percent of lines containing N/A:\\t{:.2f}%'.format(100*NA/df['raw'].shape[0]))"
   ]
  },
  {
   "cell_type": "markdown",
   "metadata": {},
   "source": [
    "The data has been slighty rearanged when sorting by the new timestamp column.\n",
    "The amount of missing value rows has not changed at this point."
   ]
  },
  {
   "cell_type": "markdown",
   "metadata": {},
   "source": [
    "## Exploration of the unknown columns\n",
    "Before making a decision, it would be usefull to investegate what data associated with each of the columns.  \n",
    "The data did not come with a description, which means we will have to look at the data and try to interpret meaning and usefullness for our case."
   ]
  },
  {
   "cell_type": "code",
   "execution_count": 13,
   "metadata": {
    "collapsed": true
   },
   "outputs": [],
   "source": [
    "# clumns names to drop. Column names will be added after evaluation of each.\n",
    "dropList = []"
   ]
  },
  {
   "cell_type": "markdown",
   "metadata": {},
   "source": [
    "### Peak Hour_SDOT"
   ]
  },
  {
   "cell_type": "code",
   "execution_count": 14,
   "metadata": {
    "scrolled": true
   },
   "outputs": [
    {
     "name": "stdout",
     "output_type": "stream",
     "text": [
      "Amount of lines containing N/A:\t\t84420\n",
      "Percent of lines containing N/A:\t88.66%\n"
     ]
    },
    {
     "data": {
      "text/plain": [
       "6-9AM 3-7PM       2592\n",
       "3-7PM             1939\n",
       "7-9AM             1504\n",
       "4-6PM             1391\n",
       "6-9AM 3-6PM        758\n",
       "6-9AM              754\n",
       "                   544\n",
       "7-9AM 4-6PM        511\n",
       "3-6PM              456\n",
       "6-9AM 3-6:30PM     173\n",
       "Name: Peak Hour_SDOT, dtype: int64"
      ]
     },
     "execution_count": 14,
     "metadata": {},
     "output_type": "execute_result"
    }
   ],
   "source": [
    "NA = df['fixed']['Peak Hour_SDOT'].shape[0] - df['fixed']['Peak Hour_SDOT'].dropna().shape[0]\n",
    "print('Amount of lines containing N/A:\\t\\t{}'.format(NA))\n",
    "print('Percent of lines containing N/A:\\t{:.2f}%'.format(100*NA/df['fixed'].shape[0]))\n",
    "df['fixed']['Peak Hour_SDOT'].value_counts().head(10)"
   ]
  },
  {
   "cell_type": "markdown",
   "metadata": {},
   "source": [
    "This column seem to provide information, as to the busiest hours for the area. This is a very interesting column, but because nearly 90% of the data is missing, we choose to remove this column from the main dataset.   \n",
    "A dataset with peakhours will also be made, after the cleaning, to explore the possibility to predict the mising values. It is noted, that a binary \"is peak hour\" column also exists, which could be used to generate the peak hours category."
   ]
  },
  {
   "cell_type": "code",
   "execution_count": 15,
   "metadata": {
    "collapsed": true
   },
   "outputs": [],
   "source": [
    "dropList.append('Peak Hour_SDOT')"
   ]
  },
  {
   "cell_type": "markdown",
   "metadata": {},
   "source": [
    "### TG_Car2Go"
   ]
  },
  {
   "cell_type": "code",
   "execution_count": 16,
   "metadata": {
    "scrolled": true
   },
   "outputs": [
    {
     "name": "stdout",
     "output_type": "stream",
     "text": [
      "Amount of lines containing N/A:\t\t68736\n",
      "Percent of lines containing N/A:\t72.19%\n"
     ]
    },
    {
     "data": {
      "text/plain": [
       "0.0    21374\n",
       "1.0     4040\n",
       "2.0      781\n",
       "3.0      174\n",
       "4.0       66\n",
       "5.0       22\n",
       "7.0        9\n",
       "6.0        8\n",
       "9.0        4\n",
       "8.0        4\n",
       "Name: TG_Car2Go, dtype: int64"
      ]
     },
     "execution_count": 16,
     "metadata": {},
     "output_type": "execute_result"
    }
   ],
   "source": [
    "NA = df['fixed']['TG_Car2Go'].shape[0] - df['fixed']['TG_Car2Go'].dropna().shape[0]\n",
    "print('Amount of lines containing N/A:\\t\\t{}'.format(NA))\n",
    "print('Percent of lines containing N/A:\\t{:.2f}%'.format(100*NA/df['fixed'].shape[0]))\n",
    "df['fixed']['TG_Car2Go'].value_counts().head(10)"
   ]
  },
  {
   "cell_type": "markdown",
   "metadata": {},
   "source": [
    "Car 2 go is a car sharing service. This is not relevant for our use, and furthermore the columns does not seem to be interpreted.  \n",
    "This column is marked as a drop column, with no second thoughts."
   ]
  },
  {
   "cell_type": "code",
   "execution_count": 17,
   "metadata": {
    "collapsed": true
   },
   "outputs": [],
   "source": [
    "dropList.append('TG_Car2Go')"
   ]
  },
  {
   "cell_type": "markdown",
   "metadata": {},
   "source": [
    "### BMW_DN"
   ]
  },
  {
   "cell_type": "code",
   "execution_count": 18,
   "metadata": {
    "scrolled": true
   },
   "outputs": [
    {
     "name": "stdout",
     "output_type": "stream",
     "text": [
      "Amount of lines containing N/A:\t\t89461\n",
      "Percent of lines containing N/A:\t93.95%\n"
     ]
    },
    {
     "data": {
      "text/plain": [
       "0.0    5240\n",
       "1.0     479\n",
       "2.0      18\n",
       "3.0      10\n",
       "4.0       9\n",
       "5.0       1\n",
       "Name: BMW_DN, dtype: int64"
      ]
     },
     "execution_count": 18,
     "metadata": {},
     "output_type": "execute_result"
    }
   ],
   "source": [
    "NA = df['fixed']['BMW_DN'].shape[0] - df['fixed']['BMW_DN'].dropna().shape[0]\n",
    "print('Amount of lines containing N/A:\\t\\t{}'.format(NA))\n",
    "print('Percent of lines containing N/A:\\t{:.2f}%'.format(100*NA/df['raw'].shape[0]))\n",
    "df['fixed']['BMW_DN'].value_counts().head(10)"
   ]
  },
  {
   "cell_type": "markdown",
   "metadata": {},
   "source": [
    "This column only has 5 different values. As we are unable to interpret what it means, this column is also marked for drop."
   ]
  },
  {
   "cell_type": "code",
   "execution_count": 19,
   "metadata": {
    "collapsed": true
   },
   "outputs": [],
   "source": [
    "dropList.append('BMW_DN')"
   ]
  },
  {
   "cell_type": "markdown",
   "metadata": {},
   "source": [
    "### Rpz_Count and RPZ Blocks\n",
    "It is assumed that RPZ has the same meaning in this context. It makes sense to investegate the two RPZ columns together."
   ]
  },
  {
   "cell_type": "code",
   "execution_count": 20,
   "metadata": {
    "scrolled": true
   },
   "outputs": [
    {
     "name": "stdout",
     "output_type": "stream",
     "text": [
      "Amount of lines containing N/A:\t\t70264\n",
      "Percent of lines containing N/A:\t73.79%\n"
     ]
    },
    {
     "data": {
      "text/plain": [
       "0.0    18386\n",
       "4.0      988\n",
       "3.0      960\n",
       "1.0      857\n",
       "5.0      834\n",
       "2.0      790\n",
       "6.0      651\n",
       "7.0      525\n",
       "8.0      401\n",
       "9.0      204\n",
       "Name: Rpz_Count, dtype: int64"
      ]
     },
     "execution_count": 20,
     "metadata": {},
     "output_type": "execute_result"
    }
   ],
   "source": [
    "NA = df['fixed']['Rpz_Count'].shape[0] - df['fixed']['Rpz_Count'].dropna().shape[0]\n",
    "print('Amount of lines containing N/A:\\t\\t{}'.format(NA))\n",
    "print('Percent of lines containing N/A:\\t{:.2f}%'.format(100*NA/df['fixed'].shape[0]))\n",
    "df['fixed']['Rpz_Count'].value_counts().head(10)"
   ]
  },
  {
   "cell_type": "code",
   "execution_count": 21,
   "metadata": {},
   "outputs": [
    {
     "name": "stdout",
     "output_type": "stream",
     "text": [
      "Amount of lines containing N/A:\t\t25315\n",
      "Percent of lines containing N/A:\t26.59%\n"
     ]
    },
    {
     "data": {
      "text/plain": [
       "0.0                        47132\n",
       "0                           5629\n",
       "Restricted Parking Zone     4578\n",
       "21                          3940\n",
       "4                           2298\n",
       "13.0                        1913\n",
       "7                           1462\n",
       "24                           749\n",
       "27                           728\n",
       "2                            601\n",
       "Name: RPZ Blocks, dtype: int64"
      ]
     },
     "execution_count": 21,
     "metadata": {},
     "output_type": "execute_result"
    }
   ],
   "source": [
    "NA = df['fixed']['RPZ Blocks'].shape[0] - df['fixed']['RPZ Blocks'].dropna().shape[0]\n",
    "print('Amount of lines containing N/A:\\t\\t{}'.format(NA))\n",
    "print('Percent of lines containing N/A:\\t{:.2f}%'.format(100*NA/df['fixed'].shape[0]))\n",
    "df['fixed']['RPZ Blocks'].value_counts().head(10)"
   ]
  },
  {
   "cell_type": "markdown",
   "metadata": {},
   "source": [
    "RPZ only has one solid lead, this is the value \"Restricted Parking Zone\", found in the blocks column. This could indicate this is a form of \"parking ticket\" column. Our focus is only on legal means of parking, and therefore the RPZ columns is added to the drop list."
   ]
  },
  {
   "cell_type": "code",
   "execution_count": 22,
   "metadata": {
    "collapsed": true
   },
   "outputs": [],
   "source": [
    "dropList.append('Rpz_Count')\n",
    "dropList.append('RPZ Blocks')"
   ]
  },
  {
   "cell_type": "markdown",
   "metadata": {},
   "source": [
    "### CSM"
   ]
  },
  {
   "cell_type": "code",
   "execution_count": 23,
   "metadata": {},
   "outputs": [
    {
     "name": "stdout",
     "output_type": "stream",
     "text": [
      "Amount of lines containing N/A:\t\t29867\n",
      "Percent of lines containing N/A:\t31.37%\n"
     ]
    },
    {
     "data": {
      "text/plain": [
       "Y                                                                                                          58896\n",
       "N                                                                                                           6429\n",
       "parking, paid, load (0,0,0 to 20,20,17)                                                                       12\n",
       "Parking, paid, load, zone (7,7,1,2 to 18,18,11,1)                                                              4\n",
       "Parking, paid, load, zone (7,7,1,2 to 18,18,11,1); total, 30m (21,4 to 18,7)                                   2\n",
       "Parking, paid, load, zone (7,7,1,2 to 18,18,11,1); total, 3m (25,0 to 24,1), moved 4 from paid to other        2\n",
       "Parking, paid, load, zone (7,7,1,2 to 18,18,11,1); total, 30m (24,3 to 18,9)                                   1\n",
       "parking, paid, load (0,0,0 to 20,20,17); total,30m (23,6 to 20,10)                                             1\n",
       "Parking, paid, load, zone (7,7,1,2 to 18,18,11,1); total, 30m (25,3 to 18,10)                                  1\n",
       "Parking, paid, load, zone (7,7,1,2 to 18,18,11,1); total, 3m (23,0 to 22,1), moved 2 from paid to other        1\n",
       "Name: CSM, dtype: int64"
      ]
     },
     "execution_count": 23,
     "metadata": {},
     "output_type": "execute_result"
    }
   ],
   "source": [
    "NA = df['fixed']['CSM'].shape[0] - df['fixed']['CSM'].dropna().shape[0]\n",
    "print('Amount of lines containing N/A:\\t\\t{}'.format(NA))\n",
    "print('Percent of lines containing N/A:\\t{:.2f}%'.format(100*NA/df['fixed'].shape[0]))\n",
    "df['fixed']['CSM'].value_counts().head(10)"
   ]
  },
  {
   "cell_type": "markdown",
   "metadata": {},
   "source": [
    "This column has something to do with the parking zone. The biggest part of the data is marked Y and the second largest part is marked N. As there is no clue as to what is being asked, the column is also marked for drop."
   ]
  },
  {
   "cell_type": "code",
   "execution_count": 24,
   "metadata": {
    "collapsed": true
   },
   "outputs": [],
   "source": [
    "dropList.append('CSM')"
   ]
  },
  {
   "cell_type": "markdown",
   "metadata": {},
   "source": [
    "### Field notes\n",
    "This field is suspected to hold notes taken by the observer. To confirm this, the first few notes will be investegated."
   ]
  },
  {
   "cell_type": "code",
   "execution_count": 25,
   "metadata": {},
   "outputs": [
    {
     "name": "stdout",
     "output_type": "stream",
     "text": [
      "Amount of lines containing N/A:\t\t84369\n",
      "Percent of lines containing N/A:\t88.61%\n"
     ]
    },
    {
     "data": {
      "text/plain": [
       "Time stamp\n",
       "2014-04-08 08:00:00                                     delivery vehicle\n",
       "2014-04-08 08:00:00                                 schoolbus in loading\n",
       "2014-04-08 08:00:00                       one school bus counted as paid\n",
       "2014-04-08 09:00:00                               delivery truck in load\n",
       "2014-04-08 10:00:00                   parking enforcement marked as paid\n",
       "2014-04-08 12:00:00                             delivery in load - large\n",
       "2014-04-08 13:00:00                                    parking attendant\n",
       "2014-04-08 14:00:00                                   long utility truck\n",
       "2014-04-08 15:00:00    south-pointing truck parked in center lane(not...\n",
       "2014-04-08 16:00:00                                 1 motorcycle in paid\n",
       "Name: Field Notes, dtype: object"
      ]
     },
     "execution_count": 25,
     "metadata": {},
     "output_type": "execute_result"
    }
   ],
   "source": [
    "NA = df['fixed']['Field Notes'].shape[0] - df['fixed']['Field Notes'].dropna().shape[0]\n",
    "print('Amount of lines containing N/A:\\t\\t{}'.format(NA))\n",
    "print('Percent of lines containing N/A:\\t{:.2f}%'.format(100*NA/df['fixed'].shape[0]))\n",
    "df['fixed']['Field Notes'].dropna().head(10)"
   ]
  },
  {
   "cell_type": "markdown",
   "metadata": {},
   "source": [
    "As suspected, this is notes for the observation. This is not usefull information for us, and is marked for drop."
   ]
  },
  {
   "cell_type": "code",
   "execution_count": 26,
   "metadata": {
    "collapsed": true
   },
   "outputs": [],
   "source": [
    "dropList.append('Field Notes')"
   ]
  },
  {
   "cell_type": "markdown",
   "metadata": {},
   "source": [
    "## Cleaning\n",
    "Now the columns has been marked for drop, a clean version of the dataset can be made."
   ]
  },
  {
   "cell_type": "code",
   "execution_count": 27,
   "metadata": {
    "collapsed": true
   },
   "outputs": [],
   "source": [
    "df['clean'] = df['fixed'].drop(dropList,axis=1) "
   ]
  },
  {
   "cell_type": "code",
   "execution_count": 28,
   "metadata": {},
   "outputs": [
    {
     "data": {
      "image/png": "[encoded data removed]",
      "text/plain": [
       "<matplotlib.figure.Figure at 0x7fa0a641b828>"
      ]
     },
     "metadata": {},
     "output_type": "display_data"
    }
   ],
   "source": [
    "msno.matrix(df['clean'])"
   ]
  },
  {
   "cell_type": "code",
   "execution_count": 29,
   "metadata": {},
   "outputs": [
    {
     "name": "stdout",
     "output_type": "stream",
     "text": [
      "Amount of lines containing N/A:\t\t9450\n",
      "Percent of lines containing N/A:\t9.92%\n"
     ]
    }
   ],
   "source": [
    "NA = df['clean'].shape[0] - df['clean'].dropna().shape[0]\n",
    "print('Amount of lines containing N/A:\\t\\t{}'.format(NA))\n",
    "print('Percent of lines containing N/A:\\t{:.2f}%'.format(100*NA/df['clean'].shape[0]))"
   ]
  },
  {
   "cell_type": "markdown",
   "metadata": {},
   "source": [
    "### Sub Area\n",
    "For now, sub area is kept. This is only for consideration."
   ]
  },
  {
   "cell_type": "code",
   "execution_count": 30,
   "metadata": {},
   "outputs": [
    {
     "data": {
      "text/plain": [
       "Paid Parking               71903\n",
       "Restricted Parking Zone     7560\n",
       "No Parking Allowed          6033\n",
       "Time Limited Parking        5945\n",
       "Unrestricted Parking        3638\n",
       "Carpool Parking              139\n",
       "Name: Parking_Category, dtype: int64"
      ]
     },
     "execution_count": 30,
     "metadata": {},
     "output_type": "execute_result"
    }
   ],
   "source": [
    "df['clean']['Parking_Category'].value_counts()"
   ]
  },
  {
   "cell_type": "code",
   "execution_count": null,
   "metadata": {
    "collapsed": true,
    "scrolled": true
   },
   "outputs": [],
   "source": []
  },
  {
   "cell_type": "code",
   "execution_count": 31,
   "metadata": {
    "scrolled": true
   },
   "outputs": [
    {
     "data": {
      "text/plain": [
       "North         14070\n",
       "Paid          11867\n",
       "Unpaid        10695\n",
       "Core          10663\n",
       "Edge          10206\n",
       "South          7578\n",
       "Periphery      6461\n",
       "Retail         4316\n",
       "2              2314\n",
       "Financial      2101\n",
       "Waterfront     2046\n",
       "10             1846\n",
       "2 Hour         1313\n",
       "10 Hour         741\n",
       "NorthWest       520\n",
       "0               364\n",
       "4 Hour           52\n",
       "                 32\n",
       "Name: Sub_Area, dtype: int64"
      ]
     },
     "execution_count": 31,
     "metadata": {},
     "output_type": "execute_result"
    }
   ],
   "source": [
    "df['clean']['Sub_Area'].value_counts()"
   ]
  },
  {
   "cell_type": "code",
   "execution_count": 32,
   "metadata": {
    "scrolled": true
   },
   "outputs": [
    {
     "data": {
      "text/plain": [
       "Belltown (North Subarea)          6048\n",
       "Pike-Pine (Paid Subarea)          4148\n",
       "First Hill (Paid Subarea)         3892\n",
       "Denny Triangle (North Subarea)    3121\n",
       "Pioneer Square (Edge Subarea)     2870\n",
       "Name: Subarea Label, dtype: int64"
      ]
     },
     "execution_count": 32,
     "metadata": {},
     "output_type": "execute_result"
    }
   ],
   "source": [
    "df['clean']['Subarea Label'].value_counts().head()"
   ]
  },
  {
   "cell_type": "markdown",
   "metadata": {},
   "source": [
    "The Subarea Label column, has a paranteses holding all the missing information about the subarea.\n",
    "I will try to extract that information."
   ]
  },
  {
   "cell_type": "code",
   "execution_count": 33,
   "metadata": {},
   "outputs": [
    {
     "data": {
      "text/plain": [
       "North Subarea)         14070\n",
       "Paid Subarea)          11867\n",
       "Unpaid Subarea)        10695\n",
       "Core Subarea)          10663\n",
       "Edge Subarea)          10206\n",
       "South Subarea)          7578\n",
       "Periphery Subarea)      6461\n",
       "Retail Subarea)         4316\n",
       "2 Hour Subarea)         3627\n",
       "10 Hour Subarea)        2587\n",
       "Financial Subarea)      2101\n",
       "Waterfront Subarea)     2046\n",
       "NorthWest Subarea)       520\n",
       "0 Subarea)               364\n",
       "4 Hour Subarea)           52\n",
       "Spring)                   39\n",
       "Summer)                   39\n",
       "  Subarea)                32\n",
       "Name: Subarea Label, dtype: int64"
      ]
     },
     "execution_count": 33,
     "metadata": {},
     "output_type": "execute_result"
    }
   ],
   "source": [
    "df['clean']['Subarea Label'].str.split('(').str[1].value_counts()"
   ]
  },
  {
   "cell_type": "code",
   "execution_count": 34,
   "metadata": {
    "collapsed": true
   },
   "outputs": [],
   "source": [
    "# dictionary\n",
    "di = {'North Subarea)': \"North\",\n",
    "      'Paid Subarea)': \"Paid\",\n",
    "      'Core Subarea)' : 'Core', \n",
    "      'Unpaid Subarea)' : 'Unpaid', \n",
    "      'Edge Subarea)' : 'Edge', \n",
    "      'South Subarea)' : 'South',\n",
    "      'Periphery Subarea)' : 'Periphery', \n",
    "      'Retail Subarea)' : 'Retail', \n",
    "      '2 Hour Subarea)' : '2-hour',\n",
    "      '10 Hour Subarea)' : '10-hour',\n",
    "      'Financial Subarea)' : 'Financecial',\n",
    "      'Waterfront Subarea)' : 'Waterfront',\n",
    "      'NorthWest Subarea)' : 'NorthWest',\n",
    "      '0 Subarea)' : '0',\n",
    "      '4 Hour Subarea)' : '4-hour',\n",
    "      '  Subarea)' : 'unknown'}"
   ]
  },
  {
   "cell_type": "code",
   "execution_count": 35,
   "metadata": {
    "collapsed": true
   },
   "outputs": [],
   "source": [
    "# applying dictionary\n",
    "df['clean']['Sub_Area'] = df['clean']['Subarea Label'].str.split('(').str[1].replace(di,)\n",
    "\n",
    "# replacing left overs with unknown\n",
    "df['clean']['Sub_Area'] = df['clean']['Sub_Area'].replace(np.nan,'unknown')"
   ]
  },
  {
   "cell_type": "code",
   "execution_count": 36,
   "metadata": {},
   "outputs": [
    {
     "name": "stdout",
     "output_type": "stream",
     "text": [
      "Amount of lines containing N/A:\t\t1579\n",
      "Percent of lines containing N/A:\t1.66%\n"
     ]
    }
   ],
   "source": [
    "NA = df['clean'].shape[0] - df['clean'].dropna().shape[0]\n",
    "print('Amount of lines containing N/A:\\t\\t{}'.format(NA))\n",
    "print('Percent of lines containing N/A:\\t{:.2f}%'.format(100*NA/df['clean'].shape[0]))"
   ]
  },
  {
   "cell_type": "code",
   "execution_count": 37,
   "metadata": {
    "collapsed": true
   },
   "outputs": [],
   "source": [
    "df['clean'] = df['clean'].dropna()"
   ]
  },
  {
   "cell_type": "code",
   "execution_count": 38,
   "metadata": {},
   "outputs": [
    {
     "data": {
      "text/plain": [
       "(93639, 13)"
      ]
     },
     "execution_count": 38,
     "metadata": {},
     "output_type": "execute_result"
    }
   ],
   "source": [
    "df['clean'].shape"
   ]
  },
  {
   "cell_type": "markdown",
   "metadata": {},
   "source": [
    "### Weekday / Weekend column"
   ]
  },
  {
   "cell_type": "markdown",
   "metadata": {},
   "source": [
    "To create the column identiying whether a observation was made during a weekday or a weekend, we will use the timestamp."
   ]
  },
  {
   "cell_type": "code",
   "execution_count": 39,
   "metadata": {},
   "outputs": [],
   "source": [
    "# dictionary\n",
    "di = {0: 'Weekday',\n",
    "      1: 'Weekday',\n",
    "      2: 'Weekday',\n",
    "      3: 'Weekday',\n",
    "      4: 'Weekday',\n",
    "      5: 'Weekend',\n",
    "      6: 'Weekend'}\n",
    "\n",
    "df['clean'] = df['clean'].reset_index()\n",
    "df['clean']['Day'] = df['clean']['Time stamp'].dt.weekday.replace(di)\n",
    "df['clean'] = df['clean'].set_index('Time stamp')\n"
   ]
  },
  {
   "cell_type": "markdown",
   "metadata": {},
   "source": [
    "## Location identifiers"
   ]
  },
  {
   "cell_type": "code",
   "execution_count": 40,
   "metadata": {
    "scrolled": true
   },
   "outputs": [
    {
     "data": {
      "text/html": [
       "<div>\n",
       "<style>\n",
       "    .dataframe thead tr:only-child th {\n",
       "        text-align: right;\n",
       "    }\n",
       "\n",
       "    .dataframe thead th {\n",
       "        text-align: left;\n",
       "    }\n",
       "\n",
       "    .dataframe tbody tr th {\n",
       "        vertical-align: top;\n",
       "    }\n",
       "</style>\n",
       "<table border=\"1\" class=\"dataframe\">\n",
       "  <thead>\n",
       "    <tr style=\"text-align: right;\">\n",
       "      <th></th>\n",
       "      <th>Elmntkey</th>\n",
       "      <th>Study_Area</th>\n",
       "      <th>Sub_Area</th>\n",
       "      <th>Side</th>\n",
       "      <th>Unitdesc</th>\n",
       "      <th>Parking_Category</th>\n",
       "      <th>Parking_Spaces</th>\n",
       "      <th>Total_Vehicle_Count</th>\n",
       "      <th>Dp_Count</th>\n",
       "      <th>Construction</th>\n",
       "      <th>Event Closure</th>\n",
       "      <th>Subarea Label</th>\n",
       "      <th>Peak Hour? (Yes or No)</th>\n",
       "      <th>Day</th>\n",
       "    </tr>\n",
       "    <tr>\n",
       "      <th>Time stamp</th>\n",
       "      <th></th>\n",
       "      <th></th>\n",
       "      <th></th>\n",
       "      <th></th>\n",
       "      <th></th>\n",
       "      <th></th>\n",
       "      <th></th>\n",
       "      <th></th>\n",
       "      <th></th>\n",
       "      <th></th>\n",
       "      <th></th>\n",
       "      <th></th>\n",
       "      <th></th>\n",
       "      <th></th>\n",
       "    </tr>\n",
       "  </thead>\n",
       "  <tbody>\n",
       "    <tr>\n",
       "      <th>2014-04-08 08:00:00</th>\n",
       "      <td>24558</td>\n",
       "      <td>12th Ave - Weekday</td>\n",
       "      <td>unknown</td>\n",
       "      <td>E</td>\n",
       "      <td>12TH AVE BETWEEN E MARION ST AND E SPRING ST</td>\n",
       "      <td>Paid Parking</td>\n",
       "      <td>8.0</td>\n",
       "      <td>1.0</td>\n",
       "      <td>0</td>\n",
       "      <td>No</td>\n",
       "      <td>No</td>\n",
       "      <td>12th Ave - Weekday</td>\n",
       "      <td>No</td>\n",
       "      <td>Weekday</td>\n",
       "    </tr>\n",
       "    <tr>\n",
       "      <th>2014-04-08 08:00:00</th>\n",
       "      <td>24553</td>\n",
       "      <td>12th Ave - Weekday</td>\n",
       "      <td>unknown</td>\n",
       "      <td>W</td>\n",
       "      <td>12TH AVE BETWEEN E CHERRY ST AND E COLUMBIA ST</td>\n",
       "      <td>Paid Parking</td>\n",
       "      <td>7.0</td>\n",
       "      <td>3.0</td>\n",
       "      <td>0</td>\n",
       "      <td>No</td>\n",
       "      <td>No</td>\n",
       "      <td>12th Ave - Weekday</td>\n",
       "      <td>No</td>\n",
       "      <td>Weekday</td>\n",
       "    </tr>\n",
       "    <tr>\n",
       "      <th>2014-04-08 08:00:00</th>\n",
       "      <td>69437</td>\n",
       "      <td>12th Ave - Weekday</td>\n",
       "      <td>unknown</td>\n",
       "      <td>W</td>\n",
       "      <td>12TH AVE BETWEEN E JAMES CT AND E CHERRY ST</td>\n",
       "      <td>Paid Parking</td>\n",
       "      <td>4.0</td>\n",
       "      <td>2.0</td>\n",
       "      <td>0</td>\n",
       "      <td>No</td>\n",
       "      <td>No</td>\n",
       "      <td>12th Ave - Weekday</td>\n",
       "      <td>No</td>\n",
       "      <td>Weekday</td>\n",
       "    </tr>\n",
       "    <tr>\n",
       "      <th>2014-04-08 08:00:00</th>\n",
       "      <td>46725</td>\n",
       "      <td>12th Ave - Weekday</td>\n",
       "      <td>unknown</td>\n",
       "      <td>W</td>\n",
       "      <td>12TH AVE BETWEEN E JEFFERSON ST AND E BARCLAY CT</td>\n",
       "      <td>Paid Parking</td>\n",
       "      <td>5.0</td>\n",
       "      <td>0.0</td>\n",
       "      <td>0</td>\n",
       "      <td>No</td>\n",
       "      <td>No</td>\n",
       "      <td>12th Ave - Weekday</td>\n",
       "      <td>No</td>\n",
       "      <td>Weekday</td>\n",
       "    </tr>\n",
       "    <tr>\n",
       "      <th>2014-04-08 08:00:00</th>\n",
       "      <td>69441</td>\n",
       "      <td>12th Ave - Weekday</td>\n",
       "      <td>unknown</td>\n",
       "      <td>W</td>\n",
       "      <td>12TH AVE BETWEEN E SPRING ST AND E MADISON ST</td>\n",
       "      <td>Paid Parking</td>\n",
       "      <td>3.0</td>\n",
       "      <td>0.0</td>\n",
       "      <td>0</td>\n",
       "      <td>No</td>\n",
       "      <td>No</td>\n",
       "      <td>12th Ave - Weekday</td>\n",
       "      <td>No</td>\n",
       "      <td>Weekday</td>\n",
       "    </tr>\n",
       "  </tbody>\n",
       "</table>\n",
       "</div>"
      ],
      "text/plain": [
       "                     Elmntkey          Study_Area Sub_Area Side  \\\n",
       "Time stamp                                                        \n",
       "2014-04-08 08:00:00     24558  12th Ave - Weekday  unknown    E   \n",
       "2014-04-08 08:00:00     24553  12th Ave - Weekday  unknown    W   \n",
       "2014-04-08 08:00:00     69437  12th Ave - Weekday  unknown    W   \n",
       "2014-04-08 08:00:00     46725  12th Ave - Weekday  unknown    W   \n",
       "2014-04-08 08:00:00     69441  12th Ave - Weekday  unknown    W   \n",
       "\n",
       "                                                             Unitdesc  \\\n",
       "Time stamp                                                              \n",
       "2014-04-08 08:00:00      12TH AVE BETWEEN E MARION ST AND E SPRING ST   \n",
       "2014-04-08 08:00:00    12TH AVE BETWEEN E CHERRY ST AND E COLUMBIA ST   \n",
       "2014-04-08 08:00:00       12TH AVE BETWEEN E JAMES CT AND E CHERRY ST   \n",
       "2014-04-08 08:00:00  12TH AVE BETWEEN E JEFFERSON ST AND E BARCLAY CT   \n",
       "2014-04-08 08:00:00     12TH AVE BETWEEN E SPRING ST AND E MADISON ST   \n",
       "\n",
       "                    Parking_Category  Parking_Spaces  Total_Vehicle_Count  \\\n",
       "Time stamp                                                                  \n",
       "2014-04-08 08:00:00     Paid Parking             8.0                  1.0   \n",
       "2014-04-08 08:00:00     Paid Parking             7.0                  3.0   \n",
       "2014-04-08 08:00:00     Paid Parking             4.0                  2.0   \n",
       "2014-04-08 08:00:00     Paid Parking             5.0                  0.0   \n",
       "2014-04-08 08:00:00     Paid Parking             3.0                  0.0   \n",
       "\n",
       "                     Dp_Count Construction Event Closure       Subarea Label  \\\n",
       "Time stamp                                                                     \n",
       "2014-04-08 08:00:00         0           No            No  12th Ave - Weekday   \n",
       "2014-04-08 08:00:00         0           No            No  12th Ave - Weekday   \n",
       "2014-04-08 08:00:00         0           No            No  12th Ave - Weekday   \n",
       "2014-04-08 08:00:00         0           No            No  12th Ave - Weekday   \n",
       "2014-04-08 08:00:00         0           No            No  12th Ave - Weekday   \n",
       "\n",
       "                    Peak Hour? (Yes or No)      Day  \n",
       "Time stamp                                           \n",
       "2014-04-08 08:00:00                     No  Weekday  \n",
       "2014-04-08 08:00:00                     No  Weekday  \n",
       "2014-04-08 08:00:00                     No  Weekday  \n",
       "2014-04-08 08:00:00                     No  Weekday  \n",
       "2014-04-08 08:00:00                     No  Weekday  "
      ]
     },
     "execution_count": 40,
     "metadata": {},
     "output_type": "execute_result"
    }
   ],
   "source": [
    "df['clean'].head()"
   ]
  },
  {
   "cell_type": "markdown",
   "metadata": {},
   "source": [
    "The location columns are Study_Area, Sub_Area, Side, Unitdesc and Subarea Label.  \n",
    "Let us investigate these attributes"
   ]
  },
  {
   "cell_type": "code",
   "execution_count": 41,
   "metadata": {
    "scrolled": false
   },
   "outputs": [
    {
     "name": "stdout",
     "output_type": "stream",
     "text": [
      "\n",
      "Sub_Area:\n",
      "North     13886\n",
      "Paid      11756\n",
      "Core      10542\n",
      "Unpaid    10449\n",
      "Edge      10206\n",
      "Name: Sub_Area, dtype: int64\n",
      "\n",
      "Side:\n",
      "W     14860\n",
      "E     13760\n",
      "S     13372\n",
      "N     13146\n",
      "NE    10910\n",
      "Name: Side, dtype: int64\n",
      "\n",
      "Unitdesc:\n",
      "NW 54TH SR ST BETWEEN 30TH WR AVE NW AND 32ND AVE NW    208\n",
      "S WELLER ST BETWEEN MAYNARD AL S AND 7TH AVE S          166\n",
      "S KING ST BETWEEN 7TH AVE S AND CANTON AL S             166\n",
      "7TH AVE S BETWEEN S MAIN ST AND S JACKSON ST            166\n",
      "8TH AVE S BETWEEN S KING ST AND S WELLER ST             166\n",
      "Name: Unitdesc, dtype: int64\n",
      "\n",
      "Study_Area:\n",
      "Belltown            8526\n",
      "South Lake Union    7722\n",
      "First Hill          5796\n",
      "Pike-Pine           5287\n",
      "Pioneer Square      4592\n",
      "Name: Study_Area, dtype: int64\n",
      "\n",
      "Subarea Label:\n",
      "Belltown (North Subarea)          6048\n",
      "Pike-Pine (Paid Subarea)          4148\n",
      "First Hill (Paid Subarea)         3892\n",
      "Denny Triangle (North Subarea)    3121\n",
      "Pioneer Square (Edge Subarea)     2870\n",
      "Name: Subarea Label, dtype: int64\n",
      "Ballard Locks Spring                  39\n",
      "Ballard Locks - Weekday (Spring)      39\n",
      "Ballard Locks - Weekday (Summer)      39\n",
      "Capitol Hill - Weekday (  Subarea)    16\n",
      "Fremont - Weekday (  Subarea)         16\n",
      "Name: Subarea Label, dtype: int64\n"
     ]
    }
   ],
   "source": [
    "print('\\nSub_Area:')\n",
    "print(df['clean']['Sub_Area'].value_counts().head())\n",
    "print('\\nSide:')\n",
    "print(df['clean']['Side'].value_counts().head())\n",
    "print('\\nUnitdesc:')\n",
    "print(df['clean']['Unitdesc'].value_counts().head())\n",
    "print('\\nStudy_Area:')\n",
    "print(df['clean']['Study_Area'].value_counts().head())\n",
    "print('\\nSubarea Label:')\n",
    "print(df['clean']['Subarea Label'].value_counts().head())\n",
    "print(df['clean']['Subarea Label'].value_counts().tail())"
   ]
  },
  {
   "cell_type": "markdown",
   "metadata": {},
   "source": [
    "It seems like the location is described most precisely by unitdesc combined with side, followed by Study_Area and Sub_Area. For our purpose, there is no reason to distinguish between the side of the street, and we should combine the rows.\n",
    "Also subarea label, hold a combination of both study_area, Sub_area and the Day column. This is not necesarry, as all this information already resides in the other columns. The column will be removed."
   ]
  },
  {
   "cell_type": "code",
   "execution_count": 42,
   "metadata": {
    "collapsed": true
   },
   "outputs": [],
   "source": [
    "df['clean'] = df['clean'].drop('Subarea Label',axis=1) "
   ]
  },
  {
   "cell_type": "markdown",
   "metadata": {},
   "source": [
    "For location, it would make more sense to have 3 columns, in the style below:\n",
    "\n",
    "|name      |Description|\n",
    "|-------------------|-----------|\n",
    "|Area          |Identifier for the area (E.g. North,south, core)|\n",
    "|Sub_area         |The sub area the observation was made on (E.g: 12th Ave)|\n",
    "|Location           |A more exact location (E.g. 12TH AVE BETWEEN E MARION ST AND E SPRING ST) |\n"
   ]
  },
  {
   "cell_type": "code",
   "execution_count": 43,
   "metadata": {
    "collapsed": true
   },
   "outputs": [],
   "source": [
    "# renaming attribute Sub_area to Area\n",
    "df['clean'] = df['clean'].rename(columns = {'Sub_Area':'Area'})\n",
    "\n",
    "# Removing the event from study area, and creating a column with only the desired information\n",
    "df['clean']['Sub_Area'] = df['clean']['Study_Area'].str.split('-').str[0]\n",
    "df['clean'] = df['clean'].drop('Study_Area',axis=1) \n",
    "\n",
    "# rename Unitdesc to Location\n",
    "df['clean'] = df['clean'].rename(columns = {'Unitdesc':'Location'})"
   ]
  },
  {
   "cell_type": "code",
   "execution_count": 44,
   "metadata": {
    "scrolled": true
   },
   "outputs": [
    {
     "data": {
      "text/plain": [
       "['Elmntkey',\n",
       " 'Area',\n",
       " 'Side',\n",
       " 'Location',\n",
       " 'Parking_Category',\n",
       " 'Parking_Spaces',\n",
       " 'Total_Vehicle_Count',\n",
       " 'Dp_Count',\n",
       " 'Construction',\n",
       " 'Event Closure',\n",
       " 'Peak Hour? (Yes or No)',\n",
       " 'Day',\n",
       " 'Sub_Area']"
      ]
     },
     "execution_count": 44,
     "metadata": {},
     "output_type": "execute_result"
    }
   ],
   "source": [
    "df['clean'].columns.tolist()"
   ]
  },
  {
   "cell_type": "code",
   "execution_count": 45,
   "metadata": {
    "collapsed": true
   },
   "outputs": [],
   "source": [
    "df['clean'] = df['clean'].reindex_axis(['Elmntkey','Area','Sub_Area','Location','Side','Day',\n",
    "                                        'Parking_Category','Peak Hour? (Yes or No)','Parking_Spaces','Total_Vehicle_Count','Dp_Count',\n",
    "                                        'Construction','Event Closure'], axis=1)"
   ]
  },
  {
   "cell_type": "markdown",
   "metadata": {},
   "source": [
    "It will now be investigated, if the unknown labels can be found, by investegating the Sub_Area"
   ]
  },
  {
   "cell_type": "code",
   "execution_count": 46,
   "metadata": {
    "scrolled": false
   },
   "outputs": [
    {
     "data": {
      "text/plain": [
       "['12th Ave ',\n",
       " 'Westlake ',\n",
       " 'Uptown Triangle ',\n",
       " 'University District ',\n",
       " 'Ballard Locks ',\n",
       " 'Green Lake ',\n",
       " 'Chinatown/ID ',\n",
       " 'Fremont ',\n",
       " 'Cherry Hill ',\n",
       " 'Capitol Hill ',\n",
       " 'Belltown ',\n",
       " 'Little Saigon ',\n",
       " 'Pioneer Square ',\n",
       " 'Denny Triangle ',\n",
       " 'Commercial Core ',\n",
       " 'Pike',\n",
       " 'South Lake Union ',\n",
       " 'First Hill ',\n",
       " 'Ballard ',\n",
       " 'Roosevelt ',\n",
       " 'Uptown ',\n",
       " 'University District',\n",
       " 'Denny Triangle',\n",
       " 'Uptown Triangle',\n",
       " '12th Avenue',\n",
       " 'Capitol Hill',\n",
       " 'Commercial Core',\n",
       " 'Chinatown/ID',\n",
       " 'Columbia City',\n",
       " 'Cherry Hill',\n",
       " 'Fremont',\n",
       " 'South Lake Union',\n",
       " 'Green Lake',\n",
       " 'Roosevelt',\n",
       " 'Belltown',\n",
       " 'Uptown',\n",
       " 'First Hill',\n",
       " 'Ballard Locks',\n",
       " 'Westlake',\n",
       " 'Ballard',\n",
       " 'Ballard Locks Summer',\n",
       " 'Pioneer Square',\n",
       " 'Dexter',\n",
       " '15th Avenue',\n",
       " 'Ballard Locks Spring ',\n",
       " 'Ballard Locks summer']"
      ]
     },
     "execution_count": 46,
     "metadata": {},
     "output_type": "execute_result"
    }
   ],
   "source": [
    "df['clean']['Sub_Area'].unique().tolist()"
   ]
  },
  {
   "cell_type": "markdown",
   "metadata": {},
   "source": [
    "First of all, some attributes are spelled slightly different. This will have to be fixed, for easier indexing."
   ]
  },
  {
   "cell_type": "code",
   "execution_count": 47,
   "metadata": {
    "collapsed": true
   },
   "outputs": [],
   "source": [
    "# dictionary\n",
    "di = {'12th Ave ' : '12th Ave',\n",
    "      'Westlake ' : 'Westlake',\n",
    "      'Uptown Triangle ' : 'Uptown Triangle',\n",
    "      'University District ' : 'University District',\n",
    "      'Ballard Locks' : 'Ballard',\n",
    "      'Green Lake ' : 'Green Lake',\n",
    "      'Chinatown/ID ' : 'Chinatown',\n",
    "      'Fremont ' : 'Fremont',\n",
    "      'Cherry Hill ' : 'Cherry Hill',\n",
    "      'Capitol Hill ' : 'Capitol Hill',\n",
    "      'Belltown ' : 'Belltown',\n",
    "      'Little Saigon ' : 'Little Saigon',\n",
    "      'Pioneer Square ' : 'Pioneer Square',\n",
    "      'Denny Triangle ' : 'Denny Triangle',\n",
    "      'Commercial Core ' : 'Commercial Core',\n",
    "      'South Lake Union ' : 'South Lake Union',\n",
    "      'First Hill ' : 'First Hill',\n",
    "      'Ballard ' : 'Ballard',\n",
    "      'Roosevelt ' : 'Roosevelt',\n",
    "      'Uptown ' : 'Uptown',\n",
    "      '12th Avenue' : '12th Ave',\n",
    "      'Chinatown/ID' : 'Chinatown',\n",
    "      'Ballard Locks Summer' : 'Ballard',\n",
    "      'Ballard Locks Spring ' : 'Ballard',\n",
    "      'Ballard Locks summer' : 'Ballard',\n",
    "      '15th Avenue' : '15th Ave',\n",
    "      'Ballard Locks ' : 'Ballard'\n",
    "      }\n",
    "\n",
    "# Rename\n",
    "df['clean']['Sub_Area'] = df['clean']['Sub_Area'].replace(di)"
   ]
  },
  {
   "cell_type": "markdown",
   "metadata": {},
   "source": [
    "Now, we will check each the sub labels, attachet to the unknown areas"
   ]
  },
  {
   "cell_type": "code",
   "execution_count": 48,
   "metadata": {},
   "outputs": [
    {
     "data": {
      "text/plain": [
       "['12th Ave',\n",
       " 'Uptown Triangle',\n",
       " 'Fremont',\n",
       " 'Capitol Hill',\n",
       " 'Little Saigon',\n",
       " 'First Hill',\n",
       " 'Columbia City',\n",
       " 'South Lake Union',\n",
       " 'Ballard',\n",
       " 'Green Lake',\n",
       " 'Cherry Hill']"
      ]
     },
     "execution_count": 48,
     "metadata": {},
     "output_type": "execute_result"
    }
   ],
   "source": [
    "df['clean'][df['clean']['Area'].isin({'unknown'})]['Sub_Area'].unique().tolist()"
   ]
  },
  {
   "cell_type": "markdown",
   "metadata": {},
   "source": [
    "Now, i will investigate if any of these streets, has been registered with an area at some point."
   ]
  },
  {
   "cell_type": "code",
   "execution_count": 49,
   "metadata": {
    "scrolled": false
   },
   "outputs": [
    {
     "name": "stdout",
     "output_type": "stream",
     "text": [
      "\n",
      " 12th Ave\n",
      "unknown    793\n",
      "Name: Area, dtype: int64\n",
      "\n",
      " Uptown Triangle\n",
      "unknown    1246\n",
      "Name: Area, dtype: int64\n",
      "\n",
      " Fremont\n",
      "Unpaid     1290\n",
      "Paid        638\n",
      "unknown      16\n",
      "Name: Area, dtype: int64\n",
      "\n",
      " Capitol Hill\n",
      "South      1397\n",
      "Unpaid     1358\n",
      "North      1241\n",
      "unknown      16\n",
      "Name: Area, dtype: int64\n",
      "\n",
      " Little Saigon\n",
      "unknown    533\n",
      "Name: Area, dtype: int64\n",
      "\n",
      " First Hill\n",
      "Paid       3892\n",
      "unknown    3801\n",
      "Unpaid      308\n",
      "Name: Area, dtype: int64\n",
      "\n",
      " Columbia City\n",
      "unknown    700\n",
      "Name: Area, dtype: int64\n",
      "\n",
      " South Lake Union\n",
      "2-hour       3276\n",
      "10-hour      2418\n",
      "South        2054\n",
      "North         559\n",
      "NorthWest     507\n",
      "0             364\n",
      "Unpaid        169\n",
      "unknown        78\n",
      "Name: Area, dtype: int64\n",
      "\n",
      " Ballard\n",
      "Edge         1722\n",
      "Unpaid       1676\n",
      "Core         1016\n",
      "Periphery     352\n",
      "unknown       234\n",
      "Summer)        39\n",
      "Spring)        39\n",
      "Name: Area, dtype: int64\n",
      "\n",
      " Green Lake\n",
      "Unpaid     872\n",
      "Paid       766\n",
      "unknown    330\n",
      "Name: Area, dtype: int64\n",
      "\n",
      " Cherry Hill\n",
      "Unpaid     965\n",
      "Paid       252\n",
      "unknown     78\n",
      "Name: Area, dtype: int64\n"
     ]
    }
   ],
   "source": [
    "mylist = df['clean'][df['clean']['Area'].isin({'unknown'})]['Sub_Area'].unique().tolist()\n",
    "\n",
    "for item in mylist:\n",
    "    print('\\n',item)\n",
    "    print(df['clean'][df['clean']['Sub_Area'].isin({item})]['Area'].value_counts())"
   ]
  },
  {
   "cell_type": "markdown",
   "metadata": {},
   "source": [
    "It seems like the column Area is not what we expected. It is unclear what the use of this is. We chose to delete it."
   ]
  },
  {
   "cell_type": "code",
   "execution_count": 50,
   "metadata": {
    "collapsed": true
   },
   "outputs": [],
   "source": [
    "df['clean'] = df['clean'].drop('Area',axis=1)"
   ]
  },
  {
   "cell_type": "markdown",
   "metadata": {},
   "source": [
    "We can now rename the other axis, to Area and Sub_Area instead of Sub_Area and Location"
   ]
  },
  {
   "cell_type": "code",
   "execution_count": 51,
   "metadata": {
    "collapsed": true
   },
   "outputs": [],
   "source": [
    "# rename Unitdesc to Location\n",
    "df['clean'] = df['clean'].rename(columns = {'Sub_Area':'Area','Location':'Sub_Area'})"
   ]
  },
  {
   "cell_type": "markdown",
   "metadata": {},
   "source": [
    "## Renaming attributes"
   ]
  },
  {
   "cell_type": "code",
   "execution_count": 52,
   "metadata": {
    "scrolled": false
   },
   "outputs": [
    {
     "data": {
      "text/html": [
       "<div>\n",
       "<style>\n",
       "    .dataframe thead tr:only-child th {\n",
       "        text-align: right;\n",
       "    }\n",
       "\n",
       "    .dataframe thead th {\n",
       "        text-align: left;\n",
       "    }\n",
       "\n",
       "    .dataframe tbody tr th {\n",
       "        vertical-align: top;\n",
       "    }\n",
       "</style>\n",
       "<table border=\"1\" class=\"dataframe\">\n",
       "  <thead>\n",
       "    <tr style=\"text-align: right;\">\n",
       "      <th></th>\n",
       "      <th>Elmntkey</th>\n",
       "      <th>Area</th>\n",
       "      <th>Sub_Area</th>\n",
       "      <th>Side</th>\n",
       "      <th>Day</th>\n",
       "      <th>Parking_Category</th>\n",
       "      <th>Peak Hour? (Yes or No)</th>\n",
       "      <th>Parking_Spaces</th>\n",
       "      <th>Total_Vehicle_Count</th>\n",
       "      <th>Dp_Count</th>\n",
       "      <th>Construction</th>\n",
       "      <th>Event Closure</th>\n",
       "    </tr>\n",
       "    <tr>\n",
       "      <th>Time stamp</th>\n",
       "      <th></th>\n",
       "      <th></th>\n",
       "      <th></th>\n",
       "      <th></th>\n",
       "      <th></th>\n",
       "      <th></th>\n",
       "      <th></th>\n",
       "      <th></th>\n",
       "      <th></th>\n",
       "      <th></th>\n",
       "      <th></th>\n",
       "      <th></th>\n",
       "    </tr>\n",
       "  </thead>\n",
       "  <tbody>\n",
       "    <tr>\n",
       "      <th>2014-04-08 08:00:00</th>\n",
       "      <td>24558</td>\n",
       "      <td>12th Ave</td>\n",
       "      <td>12TH AVE BETWEEN E MARION ST AND E SPRING ST</td>\n",
       "      <td>E</td>\n",
       "      <td>Weekday</td>\n",
       "      <td>Paid Parking</td>\n",
       "      <td>No</td>\n",
       "      <td>8.0</td>\n",
       "      <td>1.0</td>\n",
       "      <td>0</td>\n",
       "      <td>No</td>\n",
       "      <td>No</td>\n",
       "    </tr>\n",
       "    <tr>\n",
       "      <th>2014-04-08 08:00:00</th>\n",
       "      <td>24553</td>\n",
       "      <td>12th Ave</td>\n",
       "      <td>12TH AVE BETWEEN E CHERRY ST AND E COLUMBIA ST</td>\n",
       "      <td>W</td>\n",
       "      <td>Weekday</td>\n",
       "      <td>Paid Parking</td>\n",
       "      <td>No</td>\n",
       "      <td>7.0</td>\n",
       "      <td>3.0</td>\n",
       "      <td>0</td>\n",
       "      <td>No</td>\n",
       "      <td>No</td>\n",
       "    </tr>\n",
       "    <tr>\n",
       "      <th>2014-04-08 08:00:00</th>\n",
       "      <td>69437</td>\n",
       "      <td>12th Ave</td>\n",
       "      <td>12TH AVE BETWEEN E JAMES CT AND E CHERRY ST</td>\n",
       "      <td>W</td>\n",
       "      <td>Weekday</td>\n",
       "      <td>Paid Parking</td>\n",
       "      <td>No</td>\n",
       "      <td>4.0</td>\n",
       "      <td>2.0</td>\n",
       "      <td>0</td>\n",
       "      <td>No</td>\n",
       "      <td>No</td>\n",
       "    </tr>\n",
       "    <tr>\n",
       "      <th>2014-04-08 08:00:00</th>\n",
       "      <td>46725</td>\n",
       "      <td>12th Ave</td>\n",
       "      <td>12TH AVE BETWEEN E JEFFERSON ST AND E BARCLAY CT</td>\n",
       "      <td>W</td>\n",
       "      <td>Weekday</td>\n",
       "      <td>Paid Parking</td>\n",
       "      <td>No</td>\n",
       "      <td>5.0</td>\n",
       "      <td>0.0</td>\n",
       "      <td>0</td>\n",
       "      <td>No</td>\n",
       "      <td>No</td>\n",
       "    </tr>\n",
       "    <tr>\n",
       "      <th>2014-04-08 08:00:00</th>\n",
       "      <td>69441</td>\n",
       "      <td>12th Ave</td>\n",
       "      <td>12TH AVE BETWEEN E SPRING ST AND E MADISON ST</td>\n",
       "      <td>W</td>\n",
       "      <td>Weekday</td>\n",
       "      <td>Paid Parking</td>\n",
       "      <td>No</td>\n",
       "      <td>3.0</td>\n",
       "      <td>0.0</td>\n",
       "      <td>0</td>\n",
       "      <td>No</td>\n",
       "      <td>No</td>\n",
       "    </tr>\n",
       "  </tbody>\n",
       "</table>\n",
       "</div>"
      ],
      "text/plain": [
       "                     Elmntkey      Area  \\\n",
       "Time stamp                                \n",
       "2014-04-08 08:00:00     24558  12th Ave   \n",
       "2014-04-08 08:00:00     24553  12th Ave   \n",
       "2014-04-08 08:00:00     69437  12th Ave   \n",
       "2014-04-08 08:00:00     46725  12th Ave   \n",
       "2014-04-08 08:00:00     69441  12th Ave   \n",
       "\n",
       "                                                             Sub_Area Side  \\\n",
       "Time stamp                                                                   \n",
       "2014-04-08 08:00:00      12TH AVE BETWEEN E MARION ST AND E SPRING ST    E   \n",
       "2014-04-08 08:00:00    12TH AVE BETWEEN E CHERRY ST AND E COLUMBIA ST    W   \n",
       "2014-04-08 08:00:00       12TH AVE BETWEEN E JAMES CT AND E CHERRY ST    W   \n",
       "2014-04-08 08:00:00  12TH AVE BETWEEN E JEFFERSON ST AND E BARCLAY CT    W   \n",
       "2014-04-08 08:00:00     12TH AVE BETWEEN E SPRING ST AND E MADISON ST    W   \n",
       "\n",
       "                         Day Parking_Category Peak Hour? (Yes or No)  \\\n",
       "Time stamp                                                             \n",
       "2014-04-08 08:00:00  Weekday     Paid Parking                     No   \n",
       "2014-04-08 08:00:00  Weekday     Paid Parking                     No   \n",
       "2014-04-08 08:00:00  Weekday     Paid Parking                     No   \n",
       "2014-04-08 08:00:00  Weekday     Paid Parking                     No   \n",
       "2014-04-08 08:00:00  Weekday     Paid Parking                     No   \n",
       "\n",
       "                     Parking_Spaces  Total_Vehicle_Count  Dp_Count  \\\n",
       "Time stamp                                                           \n",
       "2014-04-08 08:00:00             8.0                  1.0         0   \n",
       "2014-04-08 08:00:00             7.0                  3.0         0   \n",
       "2014-04-08 08:00:00             4.0                  2.0         0   \n",
       "2014-04-08 08:00:00             5.0                  0.0         0   \n",
       "2014-04-08 08:00:00             3.0                  0.0         0   \n",
       "\n",
       "                    Construction Event Closure  \n",
       "Time stamp                                      \n",
       "2014-04-08 08:00:00           No            No  \n",
       "2014-04-08 08:00:00           No            No  \n",
       "2014-04-08 08:00:00           No            No  \n",
       "2014-04-08 08:00:00           No            No  \n",
       "2014-04-08 08:00:00           No            No  "
      ]
     },
     "execution_count": 52,
     "metadata": {},
     "output_type": "execute_result"
    }
   ],
   "source": [
    "df['clean'].head()"
   ]
  },
  {
   "cell_type": "markdown",
   "metadata": {},
   "source": [
    "An updated table with information about each column is shown here. Investigation is shown below."
   ]
  },
  {
   "cell_type": "markdown",
   "metadata": {},
   "source": [
    "\n",
    "\n",
    "|Original name      |New name|Description|\n",
    "|-------------------|-----------|-|\n",
    "|Elmntkey           |ID|Identifier for the observation location|\n",
    "|Study_Area         |Area|The area where the observation was made|\n",
    "|Sub_Area           |Sub_Area|The area, on a larger scale, where the observation was made|\n",
    "|Side               |Side|Which side of the street/parking lot was observed|\n",
    "|Unitdesc           |Location|The location of the observation in human language|\n",
    "|Parking_Category   |Parking_Category|The type of parking, e.g. Paid|\n",
    "|Parking_Spaces     |Free_Spaces|The amount of availible parking spots|\n",
    "|Total_Vehicle_Count|Used_Spaces|The amount of vehicle parked|\n",
    "|Dp_Count           |Dp_Count| *DROPED* Disabled parking|\n",
    "|Construction       |Construction|A true false column, identifying if the lot is closed due to construction|\n",
    "|Event Closure      |Event Closures|A true false column, identifying if a lot is closed due to an event|\n",
    "|Subarea Label      |Subarea Label|The area where the observation was made|\n",
    "|Peak Hour? (Yes or No)|Peak Hour|Indicates if the observation was made during a peak hour|\n",
    "|Day                |Day|A clomun indicating if the observation is made on a weekday, an event day or a sunday|"
   ]
  },
  {
   "cell_type": "markdown",
   "metadata": {},
   "source": [
    "### Elmntkey"
   ]
  },
  {
   "cell_type": "code",
   "execution_count": 53,
   "metadata": {},
   "outputs": [
    {
     "name": "stdout",
     "output_type": "stream",
     "text": [
      "Elmntkey\n"
     ]
    },
    {
     "data": {
      "text/plain": [
       "94736    104\n",
       "94731    104\n",
       "94732    104\n",
       "42966     83\n",
       "57017     83\n",
       "8301      83\n",
       "75282     83\n",
       "43941     83\n",
       "66622     83\n",
       "42962     83\n",
       "Name: Elmntkey, dtype: int64"
      ]
     },
     "execution_count": 53,
     "metadata": {},
     "output_type": "execute_result"
    }
   ],
   "source": [
    "print('Elmntkey')\n",
    "df['clean']['Elmntkey'].value_counts().head(10)"
   ]
  },
  {
   "cell_type": "code",
   "execution_count": 54,
   "metadata": {
    "scrolled": false
   },
   "outputs": [
    {
     "data": {
      "text/html": [
       "<div>\n",
       "<style>\n",
       "    .dataframe thead tr:only-child th {\n",
       "        text-align: right;\n",
       "    }\n",
       "\n",
       "    .dataframe thead th {\n",
       "        text-align: left;\n",
       "    }\n",
       "\n",
       "    .dataframe tbody tr th {\n",
       "        vertical-align: top;\n",
       "    }\n",
       "</style>\n",
       "<table border=\"1\" class=\"dataframe\">\n",
       "  <thead>\n",
       "    <tr style=\"text-align: right;\">\n",
       "      <th></th>\n",
       "      <th>Elmntkey</th>\n",
       "      <th>Area</th>\n",
       "      <th>Sub_Area</th>\n",
       "      <th>Side</th>\n",
       "      <th>Day</th>\n",
       "      <th>Parking_Category</th>\n",
       "      <th>Peak Hour? (Yes or No)</th>\n",
       "      <th>Parking_Spaces</th>\n",
       "      <th>Total_Vehicle_Count</th>\n",
       "      <th>Dp_Count</th>\n",
       "      <th>Construction</th>\n",
       "      <th>Event Closure</th>\n",
       "    </tr>\n",
       "    <tr>\n",
       "      <th>Time stamp</th>\n",
       "      <th></th>\n",
       "      <th></th>\n",
       "      <th></th>\n",
       "      <th></th>\n",
       "      <th></th>\n",
       "      <th></th>\n",
       "      <th></th>\n",
       "      <th></th>\n",
       "      <th></th>\n",
       "      <th></th>\n",
       "      <th></th>\n",
       "      <th></th>\n",
       "    </tr>\n",
       "  </thead>\n",
       "  <tbody>\n",
       "    <tr>\n",
       "      <th>2014-04-10 08:00:00</th>\n",
       "      <td>94736</td>\n",
       "      <td>Ballard</td>\n",
       "      <td>NW 54TH SR ST BETWEEN 32ND AVE NW AND NW 54TH ST</td>\n",
       "      <td>N</td>\n",
       "      <td>Weekday</td>\n",
       "      <td>Paid Parking</td>\n",
       "      <td>No</td>\n",
       "      <td>12.0</td>\n",
       "      <td>0.0</td>\n",
       "      <td>0</td>\n",
       "      <td>No</td>\n",
       "      <td>No</td>\n",
       "    </tr>\n",
       "    <tr>\n",
       "      <th>2014-04-10 09:00:00</th>\n",
       "      <td>94736</td>\n",
       "      <td>Ballard</td>\n",
       "      <td>NW 54TH SR ST BETWEEN 32ND AVE NW AND NW 54TH ST</td>\n",
       "      <td>N</td>\n",
       "      <td>Weekday</td>\n",
       "      <td>Paid Parking</td>\n",
       "      <td>No</td>\n",
       "      <td>12.0</td>\n",
       "      <td>0.0</td>\n",
       "      <td>0</td>\n",
       "      <td>No</td>\n",
       "      <td>No</td>\n",
       "    </tr>\n",
       "    <tr>\n",
       "      <th>2014-04-10 10:00:00</th>\n",
       "      <td>94736</td>\n",
       "      <td>Ballard</td>\n",
       "      <td>NW 54TH SR ST BETWEEN 32ND AVE NW AND NW 54TH ST</td>\n",
       "      <td>N</td>\n",
       "      <td>Weekday</td>\n",
       "      <td>Paid Parking</td>\n",
       "      <td>No</td>\n",
       "      <td>12.0</td>\n",
       "      <td>0.0</td>\n",
       "      <td>0</td>\n",
       "      <td>No</td>\n",
       "      <td>No</td>\n",
       "    </tr>\n",
       "    <tr>\n",
       "      <th>2014-04-10 11:00:00</th>\n",
       "      <td>94736</td>\n",
       "      <td>Ballard</td>\n",
       "      <td>NW 54TH SR ST BETWEEN 32ND AVE NW AND NW 54TH ST</td>\n",
       "      <td>N</td>\n",
       "      <td>Weekday</td>\n",
       "      <td>Paid Parking</td>\n",
       "      <td>No</td>\n",
       "      <td>12.0</td>\n",
       "      <td>0.0</td>\n",
       "      <td>0</td>\n",
       "      <td>No</td>\n",
       "      <td>No</td>\n",
       "    </tr>\n",
       "    <tr>\n",
       "      <th>2014-04-10 12:00:00</th>\n",
       "      <td>94736</td>\n",
       "      <td>Ballard</td>\n",
       "      <td>NW 54TH SR ST BETWEEN 32ND AVE NW AND NW 54TH ST</td>\n",
       "      <td>N</td>\n",
       "      <td>Weekday</td>\n",
       "      <td>Paid Parking</td>\n",
       "      <td>No</td>\n",
       "      <td>12.0</td>\n",
       "      <td>0.0</td>\n",
       "      <td>0</td>\n",
       "      <td>No</td>\n",
       "      <td>No</td>\n",
       "    </tr>\n",
       "  </tbody>\n",
       "</table>\n",
       "</div>"
      ],
      "text/plain": [
       "                     Elmntkey     Area  \\\n",
       "Time stamp                               \n",
       "2014-04-10 08:00:00     94736  Ballard   \n",
       "2014-04-10 09:00:00     94736  Ballard   \n",
       "2014-04-10 10:00:00     94736  Ballard   \n",
       "2014-04-10 11:00:00     94736  Ballard   \n",
       "2014-04-10 12:00:00     94736  Ballard   \n",
       "\n",
       "                                                             Sub_Area Side  \\\n",
       "Time stamp                                                                   \n",
       "2014-04-10 08:00:00  NW 54TH SR ST BETWEEN 32ND AVE NW AND NW 54TH ST    N   \n",
       "2014-04-10 09:00:00  NW 54TH SR ST BETWEEN 32ND AVE NW AND NW 54TH ST    N   \n",
       "2014-04-10 10:00:00  NW 54TH SR ST BETWEEN 32ND AVE NW AND NW 54TH ST    N   \n",
       "2014-04-10 11:00:00  NW 54TH SR ST BETWEEN 32ND AVE NW AND NW 54TH ST    N   \n",
       "2014-04-10 12:00:00  NW 54TH SR ST BETWEEN 32ND AVE NW AND NW 54TH ST    N   \n",
       "\n",
       "                         Day Parking_Category Peak Hour? (Yes or No)  \\\n",
       "Time stamp                                                             \n",
       "2014-04-10 08:00:00  Weekday     Paid Parking                     No   \n",
       "2014-04-10 09:00:00  Weekday     Paid Parking                     No   \n",
       "2014-04-10 10:00:00  Weekday     Paid Parking                     No   \n",
       "2014-04-10 11:00:00  Weekday     Paid Parking                     No   \n",
       "2014-04-10 12:00:00  Weekday     Paid Parking                     No   \n",
       "\n",
       "                     Parking_Spaces  Total_Vehicle_Count  Dp_Count  \\\n",
       "Time stamp                                                           \n",
       "2014-04-10 08:00:00            12.0                  0.0         0   \n",
       "2014-04-10 09:00:00            12.0                  0.0         0   \n",
       "2014-04-10 10:00:00            12.0                  0.0         0   \n",
       "2014-04-10 11:00:00            12.0                  0.0         0   \n",
       "2014-04-10 12:00:00            12.0                  0.0         0   \n",
       "\n",
       "                    Construction Event Closure  \n",
       "Time stamp                                      \n",
       "2014-04-10 08:00:00           No            No  \n",
       "2014-04-10 09:00:00           No            No  \n",
       "2014-04-10 10:00:00           No            No  \n",
       "2014-04-10 11:00:00           No            No  \n",
       "2014-04-10 12:00:00           No            No  "
      ]
     },
     "execution_count": 54,
     "metadata": {},
     "output_type": "execute_result"
    }
   ],
   "source": [
    "df['clean'][df['clean'].Elmntkey.isin({94736})].head()"
   ]
  },
  {
   "cell_type": "code",
   "execution_count": 55,
   "metadata": {},
   "outputs": [
    {
     "data": {
      "text/plain": [
       "Ballard    104\n",
       "Name: Area, dtype: int64"
      ]
     },
     "execution_count": 55,
     "metadata": {},
     "output_type": "execute_result"
    }
   ],
   "source": [
    "df['clean'][df['clean'].Elmntkey.isin({94736})].Area.value_counts().head()"
   ]
  },
  {
   "cell_type": "markdown",
   "metadata": {},
   "source": [
    "This column holds the ID of the parking lot. All entries with this ID is the same area.\n",
    "The column will be renamed to ID"
   ]
  },
  {
   "cell_type": "code",
   "execution_count": 56,
   "metadata": {
    "collapsed": true
   },
   "outputs": [],
   "source": [
    " df['clean'] = df['clean'].rename(columns = {'Elmntkey':'ID'})"
   ]
  },
  {
   "cell_type": "markdown",
   "metadata": {},
   "source": [
    "### Parking_Spaces"
   ]
  },
  {
   "cell_type": "code",
   "execution_count": 57,
   "metadata": {
    "scrolled": true
   },
   "outputs": [
    {
     "data": {
      "text/plain": [
       "0.0    12705\n",
       "6.0     9278\n",
       "7.0     9038\n",
       "5.0     9020\n",
       "8.0     8776\n",
       "Name: Parking_Spaces, dtype: int64"
      ]
     },
     "execution_count": 57,
     "metadata": {},
     "output_type": "execute_result"
    }
   ],
   "source": [
    "df['clean']['Parking_Spaces'].value_counts().head()"
   ]
  },
  {
   "cell_type": "markdown",
   "metadata": {},
   "source": [
    "As there are values with zero, this attribute has to be availible parking spaces.  \n",
    "Alternatively it could have been the total amount of spots, but as there are zero values it would not make any sense.  \n",
    "The column will be renamed to Free_Spaces."
   ]
  },
  {
   "cell_type": "code",
   "execution_count": 58,
   "metadata": {
    "collapsed": true
   },
   "outputs": [],
   "source": [
    "df['clean'] = df['clean'].rename(columns = {'Parking_Spaces':'Free_Spaces'})"
   ]
  },
  {
   "cell_type": "markdown",
   "metadata": {},
   "source": [
    "### Total vehicle count"
   ]
  },
  {
   "cell_type": "markdown",
   "metadata": {},
   "source": [
    "This column will be renamed to Used_Spaces"
   ]
  },
  {
   "cell_type": "code",
   "execution_count": 59,
   "metadata": {
    "collapsed": true
   },
   "outputs": [],
   "source": [
    "df['clean'] = df['clean'].rename(columns = {'Total_Vehicle_Count':'Used_Spaces'})"
   ]
  },
  {
   "cell_type": "markdown",
   "metadata": {},
   "source": [
    "### Total Parking spaces"
   ]
  },
  {
   "cell_type": "markdown",
   "metadata": {},
   "source": [
    "It would make sense to have a total parking spaces column, in addition to free spaces and vehicle count"
   ]
  },
  {
   "cell_type": "markdown",
   "metadata": {},
   "source": [
    "### Dp_Count"
   ]
  },
  {
   "cell_type": "code",
   "execution_count": 60,
   "metadata": {
    "scrolled": true
   },
   "outputs": [
    {
     "data": {
      "text/plain": [
       "0    67734\n",
       "1    14019\n",
       "2     6004\n",
       "3     2758\n",
       "4     1417\n",
       "Name: Dp_Count, dtype: int64"
      ]
     },
     "execution_count": 60,
     "metadata": {},
     "output_type": "execute_result"
    }
   ],
   "source": [
    "df['clean']['Dp_Count'].value_counts().head()"
   ]
  },
  {
   "cell_type": "markdown",
   "metadata": {},
   "source": [
    "This consists of very small numbers. It is my guess that Dp is dissabled parking spots. This column is not relevent, as our target group is not handicapped people.  \n",
    "This column will be dropped"
   ]
  },
  {
   "cell_type": "code",
   "execution_count": 61,
   "metadata": {
    "collapsed": true
   },
   "outputs": [],
   "source": [
    "df['clean'] = df['clean'].drop('Dp_Count',axis=1)"
   ]
  },
  {
   "cell_type": "markdown",
   "metadata": {},
   "source": [
    "### Construction"
   ]
  },
  {
   "cell_type": "code",
   "execution_count": 62,
   "metadata": {},
   "outputs": [
    {
     "data": {
      "text/plain": [
       "No     87674\n",
       "Yes     5948\n",
       "no        13\n",
       "yes        4\n",
       "Name: Construction, dtype: int64"
      ]
     },
     "execution_count": 62,
     "metadata": {},
     "output_type": "execute_result"
    }
   ],
   "source": [
    "df['clean']['Construction'].value_counts().head()"
   ]
  },
  {
   "cell_type": "code",
   "execution_count": 63,
   "metadata": {
    "scrolled": false
   },
   "outputs": [
    {
     "data": {
      "text/html": [
       "<div>\n",
       "<style>\n",
       "    .dataframe thead tr:only-child th {\n",
       "        text-align: right;\n",
       "    }\n",
       "\n",
       "    .dataframe thead th {\n",
       "        text-align: left;\n",
       "    }\n",
       "\n",
       "    .dataframe tbody tr th {\n",
       "        vertical-align: top;\n",
       "    }\n",
       "</style>\n",
       "<table border=\"1\" class=\"dataframe\">\n",
       "  <thead>\n",
       "    <tr style=\"text-align: right;\">\n",
       "      <th></th>\n",
       "      <th>ID</th>\n",
       "      <th>Area</th>\n",
       "      <th>Sub_Area</th>\n",
       "      <th>Side</th>\n",
       "      <th>Day</th>\n",
       "      <th>Parking_Category</th>\n",
       "      <th>Peak Hour? (Yes or No)</th>\n",
       "      <th>Free_Spaces</th>\n",
       "      <th>Used_Spaces</th>\n",
       "      <th>Construction</th>\n",
       "      <th>Event Closure</th>\n",
       "    </tr>\n",
       "    <tr>\n",
       "      <th>Time stamp</th>\n",
       "      <th></th>\n",
       "      <th></th>\n",
       "      <th></th>\n",
       "      <th></th>\n",
       "      <th></th>\n",
       "      <th></th>\n",
       "      <th></th>\n",
       "      <th></th>\n",
       "      <th></th>\n",
       "      <th></th>\n",
       "      <th></th>\n",
       "    </tr>\n",
       "  </thead>\n",
       "  <tbody>\n",
       "    <tr>\n",
       "      <th>2014-04-09 08:00:00</th>\n",
       "      <td>8010</td>\n",
       "      <td>Uptown Triangle</td>\n",
       "      <td>6TH AVE N BETWEEN THOMAS ST AND HARRISON ST</td>\n",
       "      <td>E</td>\n",
       "      <td>Weekday</td>\n",
       "      <td>No Parking Allowed</td>\n",
       "      <td>No</td>\n",
       "      <td>0.0</td>\n",
       "      <td>0.0</td>\n",
       "      <td>Yes</td>\n",
       "      <td>No</td>\n",
       "    </tr>\n",
       "    <tr>\n",
       "      <th>2014-04-09 08:00:00</th>\n",
       "      <td>77394</td>\n",
       "      <td>University District</td>\n",
       "      <td>BROOKLYN AVE NE BETWEEN NE 43RD ST AND NE 45TH ST</td>\n",
       "      <td>E</td>\n",
       "      <td>Weekday</td>\n",
       "      <td>No Parking Allowed</td>\n",
       "      <td>No</td>\n",
       "      <td>0.0</td>\n",
       "      <td>0.0</td>\n",
       "      <td>Yes</td>\n",
       "      <td>No</td>\n",
       "    </tr>\n",
       "    <tr>\n",
       "      <th>2014-04-09 08:00:00</th>\n",
       "      <td>53142</td>\n",
       "      <td>Uptown Triangle</td>\n",
       "      <td>6TH AVE N BETWEEN HARRISON ST AND REPUBLICAN ST</td>\n",
       "      <td>E</td>\n",
       "      <td>Weekday</td>\n",
       "      <td>No Parking Allowed</td>\n",
       "      <td>No</td>\n",
       "      <td>0.0</td>\n",
       "      <td>0.0</td>\n",
       "      <td>Yes</td>\n",
       "      <td>No</td>\n",
       "    </tr>\n",
       "    <tr>\n",
       "      <th>2014-04-09 08:00:00</th>\n",
       "      <td>56142</td>\n",
       "      <td>Uptown Triangle</td>\n",
       "      <td>HARRISON ST BETWEEN 6TH AVE N AND AURORA AVE N</td>\n",
       "      <td>S</td>\n",
       "      <td>Weekday</td>\n",
       "      <td>No Parking Allowed</td>\n",
       "      <td>No</td>\n",
       "      <td>0.0</td>\n",
       "      <td>0.0</td>\n",
       "      <td>Yes</td>\n",
       "      <td>No</td>\n",
       "    </tr>\n",
       "    <tr>\n",
       "      <th>2014-04-09 08:00:00</th>\n",
       "      <td>77393</td>\n",
       "      <td>University District</td>\n",
       "      <td>BROOKLYN AVE NE BETWEEN NE 43RD ST AND NE 45TH ST</td>\n",
       "      <td>W</td>\n",
       "      <td>Weekday</td>\n",
       "      <td>No Parking Allowed</td>\n",
       "      <td>No</td>\n",
       "      <td>0.0</td>\n",
       "      <td>0.0</td>\n",
       "      <td>Yes</td>\n",
       "      <td>No</td>\n",
       "    </tr>\n",
       "  </tbody>\n",
       "</table>\n",
       "</div>"
      ],
      "text/plain": [
       "                        ID                 Area  \\\n",
       "Time stamp                                        \n",
       "2014-04-09 08:00:00   8010      Uptown Triangle   \n",
       "2014-04-09 08:00:00  77394  University District   \n",
       "2014-04-09 08:00:00  53142      Uptown Triangle   \n",
       "2014-04-09 08:00:00  56142      Uptown Triangle   \n",
       "2014-04-09 08:00:00  77393  University District   \n",
       "\n",
       "                                                              Sub_Area Side  \\\n",
       "Time stamp                                                                    \n",
       "2014-04-09 08:00:00        6TH AVE N BETWEEN THOMAS ST AND HARRISON ST    E   \n",
       "2014-04-09 08:00:00  BROOKLYN AVE NE BETWEEN NE 43RD ST AND NE 45TH ST    E   \n",
       "2014-04-09 08:00:00    6TH AVE N BETWEEN HARRISON ST AND REPUBLICAN ST    E   \n",
       "2014-04-09 08:00:00     HARRISON ST BETWEEN 6TH AVE N AND AURORA AVE N    S   \n",
       "2014-04-09 08:00:00  BROOKLYN AVE NE BETWEEN NE 43RD ST AND NE 45TH ST    W   \n",
       "\n",
       "                         Day    Parking_Category Peak Hour? (Yes or No)  \\\n",
       "Time stamp                                                                \n",
       "2014-04-09 08:00:00  Weekday  No Parking Allowed                     No   \n",
       "2014-04-09 08:00:00  Weekday  No Parking Allowed                     No   \n",
       "2014-04-09 08:00:00  Weekday  No Parking Allowed                     No   \n",
       "2014-04-09 08:00:00  Weekday  No Parking Allowed                     No   \n",
       "2014-04-09 08:00:00  Weekday  No Parking Allowed                     No   \n",
       "\n",
       "                     Free_Spaces  Used_Spaces Construction Event Closure  \n",
       "Time stamp                                                                \n",
       "2014-04-09 08:00:00          0.0          0.0          Yes            No  \n",
       "2014-04-09 08:00:00          0.0          0.0          Yes            No  \n",
       "2014-04-09 08:00:00          0.0          0.0          Yes            No  \n",
       "2014-04-09 08:00:00          0.0          0.0          Yes            No  \n",
       "2014-04-09 08:00:00          0.0          0.0          Yes            No  "
      ]
     },
     "execution_count": 63,
     "metadata": {},
     "output_type": "execute_result"
    }
   ],
   "source": [
    "df['clean'][df['clean'].Construction.isin({'Yes'})].head()"
   ]
  },
  {
   "cell_type": "code",
   "execution_count": 64,
   "metadata": {},
   "outputs": [
    {
     "data": {
      "text/plain": [
       "0.0    5948\n",
       "Name: Used_Spaces, dtype: int64"
      ]
     },
     "execution_count": 64,
     "metadata": {},
     "output_type": "execute_result"
    }
   ],
   "source": [
    "obj = df['clean'][df['clean'].Construction.isin({'Yes'})]\n",
    "obj['Used_Spaces'].value_counts()"
   ]
  },
  {
   "cell_type": "markdown",
   "metadata": {},
   "source": [
    "It seems like when construction is true, it infers that the parking lot is closed.  \n",
    "It would make sense to remove the closed parking lots from the dataset."
   ]
  },
  {
   "cell_type": "code",
   "execution_count": 65,
   "metadata": {
    "collapsed": true
   },
   "outputs": [],
   "source": [
    "# dictionary\n",
    "di = {'no': 'No',\n",
    "      'yes': 'Yes',}\n",
    "\n",
    "# applying dictionary\n",
    "df['clean']['Construction'] = df['clean']['Construction'].replace(di,)"
   ]
  },
  {
   "cell_type": "code",
   "execution_count": 66,
   "metadata": {},
   "outputs": [
    {
     "data": {
      "text/plain": [
       "No    87687\n",
       "Name: Construction, dtype: int64"
      ]
     },
     "execution_count": 66,
     "metadata": {},
     "output_type": "execute_result"
    }
   ],
   "source": [
    "df['clean'] = df['clean'][df['clean'].Construction != 'Yes']\n",
    "df['clean']['Construction'].value_counts().head()"
   ]
  },
  {
   "cell_type": "code",
   "execution_count": 67,
   "metadata": {
    "collapsed": true
   },
   "outputs": [],
   "source": [
    "df['clean'] = df['clean'].drop('Construction',axis=1) "
   ]
  },
  {
   "cell_type": "markdown",
   "metadata": {},
   "source": [
    "### Event Closure"
   ]
  },
  {
   "cell_type": "code",
   "execution_count": 68,
   "metadata": {
    "scrolled": true
   },
   "outputs": [
    {
     "data": {
      "text/plain": [
       "No     86686\n",
       "Yes     1001\n",
       "Name: Event Closure, dtype: int64"
      ]
     },
     "execution_count": 68,
     "metadata": {},
     "output_type": "execute_result"
    }
   ],
   "source": [
    "df['clean']['Event Closure'].value_counts().head()"
   ]
  },
  {
   "cell_type": "code",
   "execution_count": 69,
   "metadata": {
    "scrolled": true
   },
   "outputs": [
    {
     "data": {
      "text/html": [
       "<div>\n",
       "<style>\n",
       "    .dataframe thead tr:only-child th {\n",
       "        text-align: right;\n",
       "    }\n",
       "\n",
       "    .dataframe thead th {\n",
       "        text-align: left;\n",
       "    }\n",
       "\n",
       "    .dataframe tbody tr th {\n",
       "        vertical-align: top;\n",
       "    }\n",
       "</style>\n",
       "<table border=\"1\" class=\"dataframe\">\n",
       "  <thead>\n",
       "    <tr style=\"text-align: right;\">\n",
       "      <th></th>\n",
       "      <th>ID</th>\n",
       "      <th>Area</th>\n",
       "      <th>Sub_Area</th>\n",
       "      <th>Side</th>\n",
       "      <th>Day</th>\n",
       "      <th>Parking_Category</th>\n",
       "      <th>Peak Hour? (Yes or No)</th>\n",
       "      <th>Free_Spaces</th>\n",
       "      <th>Used_Spaces</th>\n",
       "      <th>Event Closure</th>\n",
       "    </tr>\n",
       "    <tr>\n",
       "      <th>Time stamp</th>\n",
       "      <th></th>\n",
       "      <th></th>\n",
       "      <th></th>\n",
       "      <th></th>\n",
       "      <th></th>\n",
       "      <th></th>\n",
       "      <th></th>\n",
       "      <th></th>\n",
       "      <th></th>\n",
       "      <th></th>\n",
       "    </tr>\n",
       "  </thead>\n",
       "  <tbody>\n",
       "    <tr>\n",
       "      <th>2014-04-26 08:00:00</th>\n",
       "      <td>8858</td>\n",
       "      <td>Commercial Core</td>\n",
       "      <td>ALASKAN E RDWY WAY BETWEEN SPRING ST AND SENEC...</td>\n",
       "      <td>NE</td>\n",
       "      <td>Weekend</td>\n",
       "      <td>No Parking Allowed</td>\n",
       "      <td>No</td>\n",
       "      <td>0.0</td>\n",
       "      <td>0.0</td>\n",
       "      <td>Yes</td>\n",
       "    </tr>\n",
       "    <tr>\n",
       "      <th>2014-04-26 09:00:00</th>\n",
       "      <td>8858</td>\n",
       "      <td>Commercial Core</td>\n",
       "      <td>ALASKAN E RDWY WAY BETWEEN SPRING ST AND SENEC...</td>\n",
       "      <td>NE</td>\n",
       "      <td>Weekend</td>\n",
       "      <td>No Parking Allowed</td>\n",
       "      <td>No</td>\n",
       "      <td>0.0</td>\n",
       "      <td>0.0</td>\n",
       "      <td>Yes</td>\n",
       "    </tr>\n",
       "    <tr>\n",
       "      <th>2014-04-26 10:00:00</th>\n",
       "      <td>8858</td>\n",
       "      <td>Commercial Core</td>\n",
       "      <td>ALASKAN E RDWY WAY BETWEEN SPRING ST AND SENEC...</td>\n",
       "      <td>NE</td>\n",
       "      <td>Weekend</td>\n",
       "      <td>No Parking Allowed</td>\n",
       "      <td>No</td>\n",
       "      <td>0.0</td>\n",
       "      <td>0.0</td>\n",
       "      <td>Yes</td>\n",
       "    </tr>\n",
       "    <tr>\n",
       "      <th>2014-04-26 11:00:00</th>\n",
       "      <td>8858</td>\n",
       "      <td>Commercial Core</td>\n",
       "      <td>ALASKAN E RDWY WAY BETWEEN SPRING ST AND SENEC...</td>\n",
       "      <td>NE</td>\n",
       "      <td>Weekend</td>\n",
       "      <td>No Parking Allowed</td>\n",
       "      <td>No</td>\n",
       "      <td>0.0</td>\n",
       "      <td>0.0</td>\n",
       "      <td>Yes</td>\n",
       "    </tr>\n",
       "    <tr>\n",
       "      <th>2014-04-26 12:00:00</th>\n",
       "      <td>8858</td>\n",
       "      <td>Commercial Core</td>\n",
       "      <td>ALASKAN E RDWY WAY BETWEEN SPRING ST AND SENEC...</td>\n",
       "      <td>NE</td>\n",
       "      <td>Weekend</td>\n",
       "      <td>No Parking Allowed</td>\n",
       "      <td>No</td>\n",
       "      <td>0.0</td>\n",
       "      <td>0.0</td>\n",
       "      <td>Yes</td>\n",
       "    </tr>\n",
       "  </tbody>\n",
       "</table>\n",
       "</div>"
      ],
      "text/plain": [
       "                       ID             Area  \\\n",
       "Time stamp                                   \n",
       "2014-04-26 08:00:00  8858  Commercial Core   \n",
       "2014-04-26 09:00:00  8858  Commercial Core   \n",
       "2014-04-26 10:00:00  8858  Commercial Core   \n",
       "2014-04-26 11:00:00  8858  Commercial Core   \n",
       "2014-04-26 12:00:00  8858  Commercial Core   \n",
       "\n",
       "                                                              Sub_Area Side  \\\n",
       "Time stamp                                                                    \n",
       "2014-04-26 08:00:00  ALASKAN E RDWY WAY BETWEEN SPRING ST AND SENEC...   NE   \n",
       "2014-04-26 09:00:00  ALASKAN E RDWY WAY BETWEEN SPRING ST AND SENEC...   NE   \n",
       "2014-04-26 10:00:00  ALASKAN E RDWY WAY BETWEEN SPRING ST AND SENEC...   NE   \n",
       "2014-04-26 11:00:00  ALASKAN E RDWY WAY BETWEEN SPRING ST AND SENEC...   NE   \n",
       "2014-04-26 12:00:00  ALASKAN E RDWY WAY BETWEEN SPRING ST AND SENEC...   NE   \n",
       "\n",
       "                         Day    Parking_Category Peak Hour? (Yes or No)  \\\n",
       "Time stamp                                                                \n",
       "2014-04-26 08:00:00  Weekend  No Parking Allowed                     No   \n",
       "2014-04-26 09:00:00  Weekend  No Parking Allowed                     No   \n",
       "2014-04-26 10:00:00  Weekend  No Parking Allowed                     No   \n",
       "2014-04-26 11:00:00  Weekend  No Parking Allowed                     No   \n",
       "2014-04-26 12:00:00  Weekend  No Parking Allowed                     No   \n",
       "\n",
       "                     Free_Spaces  Used_Spaces Event Closure  \n",
       "Time stamp                                                   \n",
       "2014-04-26 08:00:00          0.0          0.0           Yes  \n",
       "2014-04-26 09:00:00          0.0          0.0           Yes  \n",
       "2014-04-26 10:00:00          0.0          0.0           Yes  \n",
       "2014-04-26 11:00:00          0.0          0.0           Yes  \n",
       "2014-04-26 12:00:00          0.0          0.0           Yes  "
      ]
     },
     "execution_count": 69,
     "metadata": {},
     "output_type": "execute_result"
    }
   ],
   "source": [
    "df['clean'][df['clean']['Event Closure'].isin({'Yes'})].head()"
   ]
  },
  {
   "cell_type": "code",
   "execution_count": 70,
   "metadata": {
    "scrolled": true
   },
   "outputs": [
    {
     "data": {
      "text/plain": [
       "0.0    1001\n",
       "Name: Free_Spaces, dtype: int64"
      ]
     },
     "execution_count": 70,
     "metadata": {},
     "output_type": "execute_result"
    }
   ],
   "source": [
    "obj = df['clean'][df['clean']['Event Closure'].isin({'Yes'})]\n",
    "obj['Free_Spaces'].value_counts()"
   ]
  },
  {
   "cell_type": "markdown",
   "metadata": {},
   "source": [
    "This column has the same properties as construction, but is triggered by the parking place being closed by an event.  \n",
    "The columns which eqauls true should be dropped."
   ]
  },
  {
   "cell_type": "code",
   "execution_count": 71,
   "metadata": {
    "collapsed": true
   },
   "outputs": [],
   "source": [
    "df['clean'] = df['clean'][df['clean']['Event Closure'] != 'Yes']"
   ]
  },
  {
   "cell_type": "code",
   "execution_count": 72,
   "metadata": {
    "collapsed": true
   },
   "outputs": [],
   "source": [
    "df['clean'] = df['clean'].drop('Event Closure',axis=1) "
   ]
  },
  {
   "cell_type": "markdown",
   "metadata": {},
   "source": [
    "### Peak Hour? (Yes or No)\n",
    "This column will be renamed for simplicity. The name tells the story of this attribute."
   ]
  },
  {
   "cell_type": "code",
   "execution_count": 73,
   "metadata": {
    "collapsed": true
   },
   "outputs": [],
   "source": [
    "df['clean'] = df['clean'].rename(columns = {'Peak Hour? (Yes or No)':'Peak Hour'})"
   ]
  },
  {
   "cell_type": "code",
   "execution_count": 74,
   "metadata": {},
   "outputs": [
    {
     "data": {
      "text/plain": [
       "(86686, 9)"
      ]
     },
     "execution_count": 74,
     "metadata": {},
     "output_type": "execute_result"
    }
   ],
   "source": [
    "df['clean'].shape"
   ]
  },
  {
   "cell_type": "markdown",
   "metadata": {},
   "source": [
    "### Final cleanup"
   ]
  },
  {
   "cell_type": "markdown",
   "metadata": {},
   "source": [
    "The last thing we should do, is to remove the types of parking spots we have no interest in.\n",
    "The only one of no interest would be the no parking allowed category"
   ]
  },
  {
   "cell_type": "code",
   "execution_count": 75,
   "metadata": {
    "scrolled": false
   },
   "outputs": [
    {
     "name": "stdout",
     "output_type": "stream",
     "text": [
      "Paid Parking\n",
      "4.0    7733\n",
      "3.0    7200\n",
      "5.0    7196\n",
      "0.0    6927\n",
      "6.0    6407\n",
      "Name: Used_Spaces, dtype: int64\n",
      "Restricted Parking Zone\n",
      "8.0     860\n",
      "7.0     811\n",
      "9.0     791\n",
      "6.0     655\n",
      "10.0    622\n",
      "Name: Used_Spaces, dtype: int64\n",
      "Time Limited Parking\n",
      "4.0    595\n",
      "0.0    508\n",
      "5.0    469\n",
      "3.0    434\n",
      "6.0    374\n",
      "Name: Used_Spaces, dtype: int64\n",
      "Unrestricted Parking\n",
      "7.0    340\n",
      "9.0    291\n",
      "8.0    279\n",
      "6.0    274\n",
      "5.0    270\n",
      "Name: Used_Spaces, dtype: int64\n",
      "No Parking Allowed\n",
      "0.0     4424\n",
      "2.0        5\n",
      "17.0       4\n",
      "1.0        3\n",
      "18.0       2\n",
      "Name: Used_Spaces, dtype: int64\n",
      "Carpool Parking\n",
      "8.0    22\n",
      "7.0    22\n",
      "6.0    12\n",
      "4.0    12\n",
      "9.0    10\n",
      "Name: Used_Spaces, dtype: int64\n"
     ]
    }
   ],
   "source": [
    "list = df['clean']['Parking_Category'].unique().tolist()\n",
    "\n",
    "for item in list:\n",
    "    print(item)\n",
    "    obj = df['clean'][df['clean']['Parking_Category'].isin({item})]\n",
    "    print(obj['Used_Spaces'].value_counts().head())"
   ]
  },
  {
   "cell_type": "code",
   "execution_count": 76,
   "metadata": {
    "collapsed": true
   },
   "outputs": [],
   "source": [
    "df['clean'] = df['clean'][df['clean']['Parking_Category'] != 'No Parking Allowed']"
   ]
  },
  {
   "cell_type": "markdown",
   "metadata": {},
   "source": [
    "## Splitting the dataset\n",
    "The dataset will be split into two version. One with the count based on sub area, and a smaller one with a count based on the entire area."
   ]
  },
  {
   "cell_type": "code",
   "execution_count": 77,
   "metadata": {},
   "outputs": [],
   "source": [
    "df['sub'] = df['clean'].reset_index()\n",
    "df['sub'] = df['sub'].groupby(['Time stamp','Area','Day','Parking_Category','Peak Hour','Sub_Area'], as_index=False)['Free_Spaces','Used_Spaces'].sum()\n",
    "df['sub'] = df['sub'].set_index('Time stamp')\n",
    "    \n",
    "df['area'] = df['clean'].reset_index()\n",
    "df['area'] = df['area'].groupby(['Time stamp','Area','Day','Parking_Category','Peak Hour'], as_index=False)['Free_Spaces','Used_Spaces'].sum()\n",
    "df['area'] = df['area'].set_index('Time stamp')"
   ]
  },
  {
   "cell_type": "code",
   "execution_count": 78,
   "metadata": {
    "scrolled": false
   },
   "outputs": [
    {
     "name": "stdout",
     "output_type": "stream",
     "text": [
      "(41250, 7)\n",
      "(2323, 6)\n"
     ]
    }
   ],
   "source": [
    "print(df['sub'].shape)\n",
    "print(df['area'].shape)"
   ]
  },
  {
   "cell_type": "markdown",
   "metadata": {},
   "source": [
    "### Setting a % full column on the datasets"
   ]
  },
  {
   "cell_type": "code",
   "execution_count": 79,
   "metadata": {},
   "outputs": [],
   "source": [
    "df['area']['% Full'] = round(df['area']['Free_Spaces']/(df['area']['Free_Spaces']+df['area']['Used_Spaces'])*100)\n",
    "df['sub']['% Full'] = round(df['sub']['Free_Spaces']/(df['sub']['Free_Spaces']+df['sub']['Used_Spaces'])*100)"
   ]
  },
  {
   "cell_type": "code",
   "execution_count": 80,
   "metadata": {},
   "outputs": [],
   "source": [
    "df['area'] = df['area'].dropna()\n",
    "df['sub'] = df['sub'].dropna()"
   ]
  },
  {
   "cell_type": "code",
   "execution_count": 81,
   "metadata": {},
   "outputs": [
    {
     "data": {
      "text/plain": [
       "122"
      ]
     },
     "execution_count": 81,
     "metadata": {},
     "output_type": "execute_result"
    }
   ],
   "source": [
    "78+44"
   ]
  },
  {
   "cell_type": "markdown",
   "metadata": {},
   "source": [
    "# Result"
   ]
  },
  {
   "cell_type": "code",
   "execution_count": 82,
   "metadata": {
    "scrolled": true
   },
   "outputs": [
    {
     "data": {
      "text/html": [
       "<div>\n",
       "<style>\n",
       "    .dataframe thead tr:only-child th {\n",
       "        text-align: right;\n",
       "    }\n",
       "\n",
       "    .dataframe thead th {\n",
       "        text-align: left;\n",
       "    }\n",
       "\n",
       "    .dataframe tbody tr th {\n",
       "        vertical-align: top;\n",
       "    }\n",
       "</style>\n",
       "<table border=\"1\" class=\"dataframe\">\n",
       "  <thead>\n",
       "    <tr style=\"text-align: right;\">\n",
       "      <th></th>\n",
       "      <th>Area</th>\n",
       "      <th>Day</th>\n",
       "      <th>Parking_Category</th>\n",
       "      <th>Peak Hour</th>\n",
       "      <th>Sub_Area</th>\n",
       "      <th>Free_Spaces</th>\n",
       "      <th>Used_Spaces</th>\n",
       "      <th>% full</th>\n",
       "    </tr>\n",
       "    <tr>\n",
       "      <th>Time stamp</th>\n",
       "      <th></th>\n",
       "      <th></th>\n",
       "      <th></th>\n",
       "      <th></th>\n",
       "      <th></th>\n",
       "      <th></th>\n",
       "      <th></th>\n",
       "      <th></th>\n",
       "    </tr>\n",
       "  </thead>\n",
       "  <tbody>\n",
       "    <tr>\n",
       "      <th>2014-04-08 08:00:00</th>\n",
       "      <td>12th Ave</td>\n",
       "      <td>Weekday</td>\n",
       "      <td>Paid Parking</td>\n",
       "      <td>No</td>\n",
       "      <td>12TH AVE BETWEEN E BARCLAY CT AND E JAMES CT</td>\n",
       "      <td>12.0</td>\n",
       "      <td>0.0</td>\n",
       "      <td>100.0</td>\n",
       "    </tr>\n",
       "    <tr>\n",
       "      <th>2014-04-08 08:00:00</th>\n",
       "      <td>12th Ave</td>\n",
       "      <td>Weekday</td>\n",
       "      <td>Paid Parking</td>\n",
       "      <td>No</td>\n",
       "      <td>12TH AVE BETWEEN E CHERRY ST AND E COLUMBIA ST</td>\n",
       "      <td>13.0</td>\n",
       "      <td>7.0</td>\n",
       "      <td>65.0</td>\n",
       "    </tr>\n",
       "    <tr>\n",
       "      <th>2014-04-08 08:00:00</th>\n",
       "      <td>12th Ave</td>\n",
       "      <td>Weekday</td>\n",
       "      <td>Paid Parking</td>\n",
       "      <td>No</td>\n",
       "      <td>12TH AVE BETWEEN E COLUMBIA ST AND E MARION ST</td>\n",
       "      <td>15.0</td>\n",
       "      <td>4.0</td>\n",
       "      <td>79.0</td>\n",
       "    </tr>\n",
       "    <tr>\n",
       "      <th>2014-04-08 08:00:00</th>\n",
       "      <td>12th Ave</td>\n",
       "      <td>Weekday</td>\n",
       "      <td>Paid Parking</td>\n",
       "      <td>No</td>\n",
       "      <td>12TH AVE BETWEEN E JAMES CT AND E CHERRY ST</td>\n",
       "      <td>4.0</td>\n",
       "      <td>2.0</td>\n",
       "      <td>67.0</td>\n",
       "    </tr>\n",
       "    <tr>\n",
       "      <th>2014-04-08 08:00:00</th>\n",
       "      <td>12th Ave</td>\n",
       "      <td>Weekday</td>\n",
       "      <td>Paid Parking</td>\n",
       "      <td>No</td>\n",
       "      <td>12TH AVE BETWEEN E JEFFERSON ST AND E BARCLAY CT</td>\n",
       "      <td>8.0</td>\n",
       "      <td>0.0</td>\n",
       "      <td>100.0</td>\n",
       "    </tr>\n",
       "  </tbody>\n",
       "</table>\n",
       "</div>"
      ],
      "text/plain": [
       "                         Area      Day Parking_Category Peak Hour  \\\n",
       "Time stamp                                                          \n",
       "2014-04-08 08:00:00  12th Ave  Weekday     Paid Parking        No   \n",
       "2014-04-08 08:00:00  12th Ave  Weekday     Paid Parking        No   \n",
       "2014-04-08 08:00:00  12th Ave  Weekday     Paid Parking        No   \n",
       "2014-04-08 08:00:00  12th Ave  Weekday     Paid Parking        No   \n",
       "2014-04-08 08:00:00  12th Ave  Weekday     Paid Parking        No   \n",
       "\n",
       "                                                             Sub_Area  \\\n",
       "Time stamp                                                              \n",
       "2014-04-08 08:00:00      12TH AVE BETWEEN E BARCLAY CT AND E JAMES CT   \n",
       "2014-04-08 08:00:00    12TH AVE BETWEEN E CHERRY ST AND E COLUMBIA ST   \n",
       "2014-04-08 08:00:00    12TH AVE BETWEEN E COLUMBIA ST AND E MARION ST   \n",
       "2014-04-08 08:00:00       12TH AVE BETWEEN E JAMES CT AND E CHERRY ST   \n",
       "2014-04-08 08:00:00  12TH AVE BETWEEN E JEFFERSON ST AND E BARCLAY CT   \n",
       "\n",
       "                     Free_Spaces  Used_Spaces  % full  \n",
       "Time stamp                                             \n",
       "2014-04-08 08:00:00         12.0          0.0   100.0  \n",
       "2014-04-08 08:00:00         13.0          7.0    65.0  \n",
       "2014-04-08 08:00:00         15.0          4.0    79.0  \n",
       "2014-04-08 08:00:00          4.0          2.0    67.0  \n",
       "2014-04-08 08:00:00          8.0          0.0   100.0  "
      ]
     },
     "execution_count": 82,
     "metadata": {},
     "output_type": "execute_result"
    }
   ],
   "source": [
    "df['sub'].head()"
   ]
  },
  {
   "cell_type": "code",
   "execution_count": 83,
   "metadata": {},
   "outputs": [
    {
     "data": {
      "text/html": [
       "<div>\n",
       "<style>\n",
       "    .dataframe thead tr:only-child th {\n",
       "        text-align: right;\n",
       "    }\n",
       "\n",
       "    .dataframe thead th {\n",
       "        text-align: left;\n",
       "    }\n",
       "\n",
       "    .dataframe tbody tr th {\n",
       "        vertical-align: top;\n",
       "    }\n",
       "</style>\n",
       "<table border=\"1\" class=\"dataframe\">\n",
       "  <thead>\n",
       "    <tr style=\"text-align: right;\">\n",
       "      <th></th>\n",
       "      <th>Area</th>\n",
       "      <th>Day</th>\n",
       "      <th>Parking_Category</th>\n",
       "      <th>Peak Hour</th>\n",
       "      <th>Free_Spaces</th>\n",
       "      <th>Used_Spaces</th>\n",
       "      <th>% full</th>\n",
       "    </tr>\n",
       "    <tr>\n",
       "      <th>Time stamp</th>\n",
       "      <th></th>\n",
       "      <th></th>\n",
       "      <th></th>\n",
       "      <th></th>\n",
       "      <th></th>\n",
       "      <th></th>\n",
       "      <th></th>\n",
       "    </tr>\n",
       "  </thead>\n",
       "  <tbody>\n",
       "    <tr>\n",
       "      <th>2014-04-08 08:00:00</th>\n",
       "      <td>12th Ave</td>\n",
       "      <td>Weekday</td>\n",
       "      <td>Paid Parking</td>\n",
       "      <td>No</td>\n",
       "      <td>78.0</td>\n",
       "      <td>22.0</td>\n",
       "      <td>78.0</td>\n",
       "    </tr>\n",
       "    <tr>\n",
       "      <th>2014-04-08 09:00:00</th>\n",
       "      <td>12th Ave</td>\n",
       "      <td>Weekday</td>\n",
       "      <td>Paid Parking</td>\n",
       "      <td>No</td>\n",
       "      <td>78.0</td>\n",
       "      <td>44.0</td>\n",
       "      <td>64.0</td>\n",
       "    </tr>\n",
       "    <tr>\n",
       "      <th>2014-04-08 10:00:00</th>\n",
       "      <td>12th Ave</td>\n",
       "      <td>Weekday</td>\n",
       "      <td>Paid Parking</td>\n",
       "      <td>No</td>\n",
       "      <td>78.0</td>\n",
       "      <td>48.0</td>\n",
       "      <td>62.0</td>\n",
       "    </tr>\n",
       "    <tr>\n",
       "      <th>2014-04-08 11:00:00</th>\n",
       "      <td>12th Ave</td>\n",
       "      <td>Weekday</td>\n",
       "      <td>Paid Parking</td>\n",
       "      <td>No</td>\n",
       "      <td>78.0</td>\n",
       "      <td>46.0</td>\n",
       "      <td>63.0</td>\n",
       "    </tr>\n",
       "    <tr>\n",
       "      <th>2014-04-08 12:00:00</th>\n",
       "      <td>12th Ave</td>\n",
       "      <td>Weekday</td>\n",
       "      <td>Paid Parking</td>\n",
       "      <td>No</td>\n",
       "      <td>78.0</td>\n",
       "      <td>51.0</td>\n",
       "      <td>60.0</td>\n",
       "    </tr>\n",
       "  </tbody>\n",
       "</table>\n",
       "</div>"
      ],
      "text/plain": [
       "                         Area      Day Parking_Category Peak Hour  \\\n",
       "Time stamp                                                          \n",
       "2014-04-08 08:00:00  12th Ave  Weekday     Paid Parking        No   \n",
       "2014-04-08 09:00:00  12th Ave  Weekday     Paid Parking        No   \n",
       "2014-04-08 10:00:00  12th Ave  Weekday     Paid Parking        No   \n",
       "2014-04-08 11:00:00  12th Ave  Weekday     Paid Parking        No   \n",
       "2014-04-08 12:00:00  12th Ave  Weekday     Paid Parking        No   \n",
       "\n",
       "                     Free_Spaces  Used_Spaces  % full  \n",
       "Time stamp                                             \n",
       "2014-04-08 08:00:00         78.0         22.0    78.0  \n",
       "2014-04-08 09:00:00         78.0         44.0    64.0  \n",
       "2014-04-08 10:00:00         78.0         48.0    62.0  \n",
       "2014-04-08 11:00:00         78.0         46.0    63.0  \n",
       "2014-04-08 12:00:00         78.0         51.0    60.0  "
      ]
     },
     "execution_count": 83,
     "metadata": {},
     "output_type": "execute_result"
    }
   ],
   "source": [
    "df['area'].head()"
   ]
  },
  {
   "cell_type": "markdown",
   "metadata": {},
   "source": [
    "The dataset is saved into a file called sub-area.csv and area.csv"
   ]
  },
  {
   "cell_type": "code",
   "execution_count": 84,
   "metadata": {
    "collapsed": true
   },
   "outputs": [],
   "source": [
    "df['sub'].to_csv('./Data/sub-area.csv')\n",
    "df['area'].to_csv('./Data/area.csv')"
   ]
  },
  {
   "cell_type": "code",
   "execution_count": null,
   "metadata": {},
   "outputs": [],
   "source": []
  },
  {
   "cell_type": "code",
   "execution_count": null,
   "metadata": {
    "collapsed": true
   },
   "outputs": [],
   "source": []
  }
 ],
 "metadata": {
  "kernelspec": {
   "display_name": "Python 3",
   "language": "python",
   "name": "python3"
  },
  "language_info": {
   "codemirror_mode": {
    "name": "ipython",
    "version": 3
   },
   "file_extension": ".py",
   "mimetype": "text/x-python",
   "name": "python",
   "nbconvert_exporter": "python",
   "pygments_lexer": "ipython3",
   "version": "3.6.3"
  }
 },
 "nbformat": 4,
 "nbformat_minor": 2
}
