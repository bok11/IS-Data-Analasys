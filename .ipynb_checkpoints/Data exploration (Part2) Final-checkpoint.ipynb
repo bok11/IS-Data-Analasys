{
 "cells": [
  {
   "cell_type": "code",
   "execution_count": 11,
   "metadata": {
    "collapsed": true
   },
   "outputs": [],
   "source": [
    "import pandas as pd\n",
    "import seaborn as sns\n",
    "import missingno as msno\n",
    "import matplotlib.pyplot as plt\n",
    "import numpy as np\n",
    "from datetime import datetime, timedelta"
   ]
  },
  {
   "cell_type": "markdown",
   "metadata": {},
   "source": [
    "# Load the data"
   ]
  },
  {
   "cell_type": "code",
   "execution_count": 12,
   "metadata": {},
   "outputs": [
    {
     "data": {
      "text/plain": [
       "(38709, 6)"
      ]
     },
     "execution_count": 12,
     "metadata": {},
     "output_type": "execute_result"
    }
   ],
   "source": [
    "df = pd.Series()\n",
    "df['raw'] = pd.read_csv('./Data/clean.csv',index_col='Time_Stamp',low_memory=False)\n",
    "df['raw'].shape"
   ]
  },
  {
   "cell_type": "code",
   "execution_count": 13,
   "metadata": {},
   "outputs": [
    {
     "data": {
      "text/html": [
       "<div>\n",
       "<style>\n",
       "    .dataframe thead tr:only-child th {\n",
       "        text-align: right;\n",
       "    }\n",
       "\n",
       "    .dataframe thead th {\n",
       "        text-align: left;\n",
       "    }\n",
       "\n",
       "    .dataframe tbody tr th {\n",
       "        vertical-align: top;\n",
       "    }\n",
       "</style>\n",
       "<table border=\"1\" class=\"dataframe\">\n",
       "  <thead>\n",
       "    <tr style=\"text-align: right;\">\n",
       "      <th></th>\n",
       "      <th>Weekday</th>\n",
       "      <th>Area</th>\n",
       "      <th>Sub_Area</th>\n",
       "      <th>Free_Spots</th>\n",
       "      <th>Used_Spots</th>\n",
       "      <th>Full%</th>\n",
       "    </tr>\n",
       "    <tr>\n",
       "      <th>Time_Stamp</th>\n",
       "      <th></th>\n",
       "      <th></th>\n",
       "      <th></th>\n",
       "      <th></th>\n",
       "      <th></th>\n",
       "      <th></th>\n",
       "    </tr>\n",
       "  </thead>\n",
       "  <tbody>\n",
       "    <tr>\n",
       "      <th>2014-04-08 08:00:00</th>\n",
       "      <td>Yes</td>\n",
       "      <td>12th Ave</td>\n",
       "      <td>12TH AVE BETWEEN E MARION ST AND E SPRING ST</td>\n",
       "      <td>12.0</td>\n",
       "      <td>0.0</td>\n",
       "      <td>0.0</td>\n",
       "    </tr>\n",
       "    <tr>\n",
       "      <th>2014-04-08 08:00:00</th>\n",
       "      <td>Yes</td>\n",
       "      <td>12th Ave</td>\n",
       "      <td>12TH AVE BETWEEN E COLUMBIA ST AND E MARION ST</td>\n",
       "      <td>13.0</td>\n",
       "      <td>7.0</td>\n",
       "      <td>35.0</td>\n",
       "    </tr>\n",
       "    <tr>\n",
       "      <th>2014-04-08 08:00:00</th>\n",
       "      <td>Yes</td>\n",
       "      <td>12th Ave</td>\n",
       "      <td>12TH AVE BETWEEN E SPRING ST AND E MADISON ST</td>\n",
       "      <td>15.0</td>\n",
       "      <td>4.0</td>\n",
       "      <td>21.0</td>\n",
       "    </tr>\n",
       "    <tr>\n",
       "      <th>2014-04-08 08:00:00</th>\n",
       "      <td>Yes</td>\n",
       "      <td>12th Ave</td>\n",
       "      <td>12TH AVE BETWEEN E JAMES CT AND E CHERRY ST</td>\n",
       "      <td>4.0</td>\n",
       "      <td>2.0</td>\n",
       "      <td>33.0</td>\n",
       "    </tr>\n",
       "    <tr>\n",
       "      <th>2014-04-08 08:00:00</th>\n",
       "      <td>Yes</td>\n",
       "      <td>12th Ave</td>\n",
       "      <td>12TH AVE BETWEEN E BARCLAY CT AND E JAMES CT</td>\n",
       "      <td>8.0</td>\n",
       "      <td>0.0</td>\n",
       "      <td>0.0</td>\n",
       "    </tr>\n",
       "  </tbody>\n",
       "</table>\n",
       "</div>"
      ],
      "text/plain": [
       "                    Weekday       Area  \\\n",
       "Time_Stamp                               \n",
       "2014-04-08 08:00:00     Yes  12th Ave    \n",
       "2014-04-08 08:00:00     Yes  12th Ave    \n",
       "2014-04-08 08:00:00     Yes  12th Ave    \n",
       "2014-04-08 08:00:00     Yes  12th Ave    \n",
       "2014-04-08 08:00:00     Yes  12th Ave    \n",
       "\n",
       "                                                           Sub_Area  \\\n",
       "Time_Stamp                                                            \n",
       "2014-04-08 08:00:00    12TH AVE BETWEEN E MARION ST AND E SPRING ST   \n",
       "2014-04-08 08:00:00  12TH AVE BETWEEN E COLUMBIA ST AND E MARION ST   \n",
       "2014-04-08 08:00:00   12TH AVE BETWEEN E SPRING ST AND E MADISON ST   \n",
       "2014-04-08 08:00:00     12TH AVE BETWEEN E JAMES CT AND E CHERRY ST   \n",
       "2014-04-08 08:00:00    12TH AVE BETWEEN E BARCLAY CT AND E JAMES CT   \n",
       "\n",
       "                     Free_Spots  Used_Spots  Full%  \n",
       "Time_Stamp                                          \n",
       "2014-04-08 08:00:00        12.0         0.0    0.0  \n",
       "2014-04-08 08:00:00        13.0         7.0   35.0  \n",
       "2014-04-08 08:00:00        15.0         4.0   21.0  \n",
       "2014-04-08 08:00:00         4.0         2.0   33.0  \n",
       "2014-04-08 08:00:00         8.0         0.0    0.0  "
      ]
     },
     "execution_count": 13,
     "metadata": {},
     "output_type": "execute_result"
    }
   ],
   "source": [
    "df['raw'].head()"
   ]
  },
  {
   "cell_type": "markdown",
   "metadata": {},
   "source": [
    "# Data selection"
   ]
  },
  {
   "cell_type": "markdown",
   "metadata": {},
   "source": [
    "In this section, i will prepare the test and training data for the LSTM neural network.  \n",
    "The goal of the model will be to predict how full a parking area is, based on previous data. I will investigate what sub area is the best candidate for this, and prepare a test and training set for the selected area.\n"
   ]
  },
  {
   "cell_type": "code",
   "execution_count": 4,
   "metadata": {},
   "outputs": [
    {
     "data": {
      "text/plain": [
       "NW 54TH SR ST BETWEEN 32ND AVE NW AND NW 54TH ST        77\n",
       "NW 54TH SR ST BETWEEN 30TH WR AVE NW AND 32ND AVE NW    75\n",
       "MAYNARD AVE S BETWEEN S JACKSON ST AND S KING ST        67\n",
       "7TH AVE S BETWEEN S MAIN ST AND S JACKSON ST            67\n",
       "MAYNARD AVE S BETWEEN S KING ST AND S WELLER ST         66\n",
       "Name: Sub_Area, dtype: int64"
      ]
     },
     "execution_count": 4,
     "metadata": {},
     "output_type": "execute_result"
    }
   ],
   "source": [
    "df['raw']['Sub_Area'].value_counts().head()"
   ]
  },
  {
   "cell_type": "markdown",
   "metadata": {},
   "source": [
    "NW 54TH SR ST BETWEEN 32ND AVE NW AND NW 54TH ST is the most frequent entry, and therefore this is choosen as the candidate."
   ]
  },
  {
   "cell_type": "code",
   "execution_count": 5,
   "metadata": {
    "collapsed": true
   },
   "outputs": [],
   "source": [
    "df['data'] = df['raw'][df['raw']['Sub_Area'].isin({'NW 54TH SR ST BETWEEN 32ND AVE NW AND NW 54TH ST'})]"
   ]
  },
  {
   "cell_type": "code",
   "execution_count": 6,
   "metadata": {},
   "outputs": [
    {
     "data": {
      "image/png": "[encoded data removed]",
      "text/plain": [
       "<matplotlib.figure.Figure at 0x7feef9ce8668>"
      ]
     },
     "metadata": {},
     "output_type": "display_data"
    }
   ],
   "source": [
    "#Time series plot\n",
    "plt.figure(figsize=(15,3));\n",
    "df['data']['Full%'].plot();\n",
    "plt.show();"
   ]
  },
  {
   "cell_type": "code",
   "execution_count": 7,
   "metadata": {},
   "outputs": [
    {
     "name": "stdout",
     "output_type": "stream",
     "text": [
      "{'2016-04-28', '2015-04-22', '2015-07-16', '2016-07-05', '2014-04-10', '2014-07-15'}\n"
     ]
    }
   ],
   "source": [
    "mylist = df['data'].index.tolist()\n",
    "date = []\n",
    "for datetime in mylist:\n",
    "    date.append(datetime.split(' ')[0])\n",
    "    \n",
    "print(set(date))"
   ]
  },
  {
   "cell_type": "markdown",
   "metadata": {},
   "source": [
    "The time series shows that the data spans over two years. By testing the unique dates in the dataset, it is revealed there are observations two times a year. First time is in April, and the second time is in June. I will choose one of these month, and predict the 2016 values based and train on the 2015 and 2014 values."
   ]
  },
  {
   "cell_type": "code",
   "execution_count": 8,
   "metadata": {},
   "outputs": [
    {
     "name": "stdout",
     "output_type": "stream",
     "text": [
      "The shape of April14 is: (13,)\n",
      "The shape of Jul14 is: (13,)\n",
      "The shape of April15 is: (13,)\n",
      "The shape of Jul15 is: (13,)\n",
      "The shape of April16 is: (12,)\n",
      "The shape of Jul16 is: (13,)\n"
     ]
    }
   ],
   "source": [
    "# Slice the dataset\n",
    "data = pd.Series()\n",
    "data['April14'] = df['data']['Full%'].loc['2014-04-10 08:00:00':'2014-04-10 20:00:00']\n",
    "data['Jul14'] = df['data']['Full%'].loc['2014-07-15 08:00:00':'2014-07-15 20:00:00']\n",
    "data['April15'] = df['data']['Full%'].loc['2015-04-22 08:00:00':'2015-04-22 20:00:00']\n",
    "data['Jul15'] = df['data']['Full%'].loc['2015-07-16 08:00:00':'2015-07-16 20:00:00']\n",
    "data['April16'] = df['data']['Full%'].loc['2016-04-28 08:00:00':'2016-04-28 20:00:00']\n",
    "data['Jul16'] = df['data']['Full%'].loc['2016-07-05 08:00:00':'2016-07-05 20:00:00']\n",
    "\n",
    "# print the shapes\n",
    "for index in data.index.tolist():\n",
    "    shape = data[index].shape\n",
    "    print('The shape of {} is: {}'.format(index,shape))"
   ]
  },
  {
   "cell_type": "markdown",
   "metadata": {},
   "source": [
    "This tells me that an abservation was missed in April 2016. This is not ideal, and therefore, i will move forward with the July data."
   ]
  },
  {
   "cell_type": "code",
   "execution_count": 9,
   "metadata": {},
   "outputs": [
    {
     "name": "stdout",
     "output_type": "stream",
     "text": [
      "(2, 12, 1)\n",
      "(1, 12, 1)\n"
     ]
    }
   ],
   "source": [
    "# create training set\n",
    "x_train = np.empty((2,12,1))\n",
    "y_train = np.empty((2,12,1))\n",
    "\n",
    "x_train[0] = data['Jul14'].values[1:13].reshape(12,1)\n",
    "y_train[0] = data['Jul14'].values[0:12].reshape(12,1)\n",
    "\n",
    "x_train[1] = data['Jul15'].values[1:13].reshape(12,1)\n",
    "y_train[1] = data['Jul15'].values[0:12].reshape(12,1)\n",
    "\n",
    "# create test set\n",
    "x_test = np.empty((1,13,1))\n",
    "y_test = np.empty((1,13,1))\n",
    "\n",
    "x_test = data['Jul16'].values[1:13].reshape(1,12,1)\n",
    "y_test = data['Jul16'].values[0:12].reshape(1,12,1)\n",
    "\n",
    "print(x_train.shape)\n",
    "print(x_test.shape)"
   ]
  },
  {
   "cell_type": "markdown",
   "metadata": {},
   "source": [
    "# Modeling"
   ]
  },
  {
   "cell_type": "code",
   "execution_count": 97,
   "metadata": {},
   "outputs": [
    {
     "name": "stdout",
     "output_type": "stream",
     "text": [
      "0:04:28.106181\n",
      "0:00:00\n",
      "batchsize 1 done in 0:00:33.829180\n",
      "Expected to finish in : 0:04:28.106181\n",
      "0:01:04.414330\n",
      "0:00:32.207165\n",
      "batchsize 2 done in 0:01:06.037340\n",
      "Expected to finish in : 0:01:36.621495\n"
     ]
    },
    {
     "ename": "KeyboardInterrupt",
     "evalue": "",
     "output_type": "error",
     "traceback": [
      "\u001b[0;31m---------------------------------------------------------------------------\u001b[0m",
      "\u001b[0;31mKeyboardInterrupt\u001b[0m                         Traceback (most recent call last)",
      "\u001b[0;32m<ipython-input-97-9e775b738149>\u001b[0m in \u001b[0;36m<module>\u001b[0;34m()\u001b[0m\n\u001b[1;32m     37\u001b[0m         \u001b[0;31m# fitting model\u001b[0m\u001b[0;34m\u001b[0m\u001b[0;34m\u001b[0m\u001b[0m\n\u001b[1;32m     38\u001b[0m         history = model.fit(x,y, validation_data=(x_test,y_test),\n\u001b[0;32m---> 39\u001b[0;31m         epochs = 1, batch_size=b, shuffle=False,verbose=0)\n\u001b[0m\u001b[1;32m     40\u001b[0m \u001b[0;34m\u001b[0m\u001b[0m\n\u001b[1;32m     41\u001b[0m         \u001b[0;31m# predict\u001b[0m\u001b[0;34m\u001b[0m\u001b[0;34m\u001b[0m\u001b[0m\n",
      "\u001b[0;32m~/anaconda3/lib/python3.6/site-packages/keras/models.py\u001b[0m in \u001b[0;36mfit\u001b[0;34m(self, x, y, batch_size, epochs, verbose, callbacks, validation_split, validation_data, shuffle, class_weight, sample_weight, initial_epoch, steps_per_epoch, validation_steps, **kwargs)\u001b[0m\n\u001b[1;32m    958\u001b[0m                               \u001b[0minitial_epoch\u001b[0m\u001b[0;34m=\u001b[0m\u001b[0minitial_epoch\u001b[0m\u001b[0;34m,\u001b[0m\u001b[0;34m\u001b[0m\u001b[0m\n\u001b[1;32m    959\u001b[0m                               \u001b[0msteps_per_epoch\u001b[0m\u001b[0;34m=\u001b[0m\u001b[0msteps_per_epoch\u001b[0m\u001b[0;34m,\u001b[0m\u001b[0;34m\u001b[0m\u001b[0m\n\u001b[0;32m--> 960\u001b[0;31m                               validation_steps=validation_steps)\n\u001b[0m\u001b[1;32m    961\u001b[0m \u001b[0;34m\u001b[0m\u001b[0m\n\u001b[1;32m    962\u001b[0m     def evaluate(self, x, y, batch_size=32, verbose=1,\n",
      "\u001b[0;32m~/anaconda3/lib/python3.6/site-packages/keras/engine/training.py\u001b[0m in \u001b[0;36mfit\u001b[0;34m(self, x, y, batch_size, epochs, verbose, callbacks, validation_split, validation_data, shuffle, class_weight, sample_weight, initial_epoch, steps_per_epoch, validation_steps, **kwargs)\u001b[0m\n\u001b[1;32m   1648\u001b[0m                               \u001b[0minitial_epoch\u001b[0m\u001b[0;34m=\u001b[0m\u001b[0minitial_epoch\u001b[0m\u001b[0;34m,\u001b[0m\u001b[0;34m\u001b[0m\u001b[0m\n\u001b[1;32m   1649\u001b[0m                               \u001b[0msteps_per_epoch\u001b[0m\u001b[0;34m=\u001b[0m\u001b[0msteps_per_epoch\u001b[0m\u001b[0;34m,\u001b[0m\u001b[0;34m\u001b[0m\u001b[0m\n\u001b[0;32m-> 1650\u001b[0;31m                               validation_steps=validation_steps)\n\u001b[0m\u001b[1;32m   1651\u001b[0m \u001b[0;34m\u001b[0m\u001b[0m\n\u001b[1;32m   1652\u001b[0m     def evaluate(self, x=None, y=None,\n",
      "\u001b[0;32m~/anaconda3/lib/python3.6/site-packages/keras/engine/training.py\u001b[0m in \u001b[0;36m_fit_loop\u001b[0;34m(self, f, ins, out_labels, batch_size, epochs, verbose, callbacks, val_f, val_ins, shuffle, callback_metrics, initial_epoch, steps_per_epoch, validation_steps)\u001b[0m\n\u001b[1;32m   1211\u001b[0m                     \u001b[0mbatch_logs\u001b[0m\u001b[0;34m[\u001b[0m\u001b[0;34m'size'\u001b[0m\u001b[0;34m]\u001b[0m \u001b[0;34m=\u001b[0m \u001b[0mlen\u001b[0m\u001b[0;34m(\u001b[0m\u001b[0mbatch_ids\u001b[0m\u001b[0;34m)\u001b[0m\u001b[0;34m\u001b[0m\u001b[0m\n\u001b[1;32m   1212\u001b[0m                     \u001b[0mcallbacks\u001b[0m\u001b[0;34m.\u001b[0m\u001b[0mon_batch_begin\u001b[0m\u001b[0;34m(\u001b[0m\u001b[0mbatch_index\u001b[0m\u001b[0;34m,\u001b[0m \u001b[0mbatch_logs\u001b[0m\u001b[0;34m)\u001b[0m\u001b[0;34m\u001b[0m\u001b[0m\n\u001b[0;32m-> 1213\u001b[0;31m                     \u001b[0mouts\u001b[0m \u001b[0;34m=\u001b[0m \u001b[0mf\u001b[0m\u001b[0;34m(\u001b[0m\u001b[0mins_batch\u001b[0m\u001b[0;34m)\u001b[0m\u001b[0;34m\u001b[0m\u001b[0m\n\u001b[0m\u001b[1;32m   1214\u001b[0m                     \u001b[0;32mif\u001b[0m \u001b[0;32mnot\u001b[0m \u001b[0misinstance\u001b[0m\u001b[0;34m(\u001b[0m\u001b[0mouts\u001b[0m\u001b[0;34m,\u001b[0m \u001b[0mlist\u001b[0m\u001b[0;34m)\u001b[0m\u001b[0;34m:\u001b[0m\u001b[0;34m\u001b[0m\u001b[0m\n\u001b[1;32m   1215\u001b[0m                         \u001b[0mouts\u001b[0m \u001b[0;34m=\u001b[0m \u001b[0;34m[\u001b[0m\u001b[0mouts\u001b[0m\u001b[0;34m]\u001b[0m\u001b[0;34m\u001b[0m\u001b[0m\n",
      "\u001b[0;32m~/anaconda3/lib/python3.6/site-packages/keras/backend/tensorflow_backend.py\u001b[0m in \u001b[0;36m__call__\u001b[0;34m(self, inputs)\u001b[0m\n\u001b[1;32m   2348\u001b[0m             \u001b[0mfeed_dict\u001b[0m\u001b[0;34m[\u001b[0m\u001b[0mtensor\u001b[0m\u001b[0;34m]\u001b[0m \u001b[0;34m=\u001b[0m \u001b[0mvalue\u001b[0m\u001b[0;34m\u001b[0m\u001b[0m\n\u001b[1;32m   2349\u001b[0m         \u001b[0mfetches\u001b[0m \u001b[0;34m=\u001b[0m \u001b[0mself\u001b[0m\u001b[0;34m.\u001b[0m\u001b[0moutputs\u001b[0m \u001b[0;34m+\u001b[0m \u001b[0;34m[\u001b[0m\u001b[0mself\u001b[0m\u001b[0;34m.\u001b[0m\u001b[0mupdates_op\u001b[0m\u001b[0;34m]\u001b[0m \u001b[0;34m+\u001b[0m \u001b[0mself\u001b[0m\u001b[0;34m.\u001b[0m\u001b[0mfetches\u001b[0m\u001b[0;34m\u001b[0m\u001b[0m\n\u001b[0;32m-> 2350\u001b[0;31m         \u001b[0msession\u001b[0m \u001b[0;34m=\u001b[0m \u001b[0mget_session\u001b[0m\u001b[0;34m(\u001b[0m\u001b[0;34m)\u001b[0m\u001b[0;34m\u001b[0m\u001b[0m\n\u001b[0m\u001b[1;32m   2351\u001b[0m         updated = session.run(fetches=fetches, feed_dict=feed_dict,\n\u001b[1;32m   2352\u001b[0m                               **self.session_kwargs)\n",
      "\u001b[0;32m~/anaconda3/lib/python3.6/site-packages/keras/backend/tensorflow_backend.py\u001b[0m in \u001b[0;36mget_session\u001b[0;34m()\u001b[0m\n\u001b[1;32m    179\u001b[0m                 \u001b[0;31m# not already marked as initialized.\u001b[0m\u001b[0;34m\u001b[0m\u001b[0;34m\u001b[0m\u001b[0m\n\u001b[1;32m    180\u001b[0m                 is_initialized = session.run(\n\u001b[0;32m--> 181\u001b[0;31m                     [tf.is_variable_initialized(v) for v in candidate_vars])\n\u001b[0m\u001b[1;32m    182\u001b[0m                 \u001b[0muninitialized_vars\u001b[0m \u001b[0;34m=\u001b[0m \u001b[0;34m[\u001b[0m\u001b[0;34m]\u001b[0m\u001b[0;34m\u001b[0m\u001b[0m\n\u001b[1;32m    183\u001b[0m                 \u001b[0;32mfor\u001b[0m \u001b[0mflag\u001b[0m\u001b[0;34m,\u001b[0m \u001b[0mv\u001b[0m \u001b[0;32min\u001b[0m \u001b[0mzip\u001b[0m\u001b[0;34m(\u001b[0m\u001b[0mis_initialized\u001b[0m\u001b[0;34m,\u001b[0m \u001b[0mcandidate_vars\u001b[0m\u001b[0;34m)\u001b[0m\u001b[0;34m:\u001b[0m\u001b[0;34m\u001b[0m\u001b[0m\n",
      "\u001b[0;32m~/anaconda3/lib/python3.6/site-packages/tensorflow/python/client/session.py\u001b[0m in \u001b[0;36mrun\u001b[0;34m(self, fetches, feed_dict, options, run_metadata)\u001b[0m\n\u001b[1;32m    887\u001b[0m     \u001b[0;32mtry\u001b[0m\u001b[0;34m:\u001b[0m\u001b[0;34m\u001b[0m\u001b[0m\n\u001b[1;32m    888\u001b[0m       result = self._run(None, fetches, feed_dict, options_ptr,\n\u001b[0;32m--> 889\u001b[0;31m                          run_metadata_ptr)\n\u001b[0m\u001b[1;32m    890\u001b[0m       \u001b[0;32mif\u001b[0m \u001b[0mrun_metadata\u001b[0m\u001b[0;34m:\u001b[0m\u001b[0;34m\u001b[0m\u001b[0m\n\u001b[1;32m    891\u001b[0m         \u001b[0mproto_data\u001b[0m \u001b[0;34m=\u001b[0m \u001b[0mtf_session\u001b[0m\u001b[0;34m.\u001b[0m\u001b[0mTF_GetBuffer\u001b[0m\u001b[0;34m(\u001b[0m\u001b[0mrun_metadata_ptr\u001b[0m\u001b[0;34m)\u001b[0m\u001b[0;34m\u001b[0m\u001b[0m\n",
      "\u001b[0;32m~/anaconda3/lib/python3.6/site-packages/tensorflow/python/client/session.py\u001b[0m in \u001b[0;36m_run\u001b[0;34m(self, handle, fetches, feed_dict, options, run_metadata)\u001b[0m\n\u001b[1;32m   1118\u001b[0m     \u001b[0;32mif\u001b[0m \u001b[0mfinal_fetches\u001b[0m \u001b[0;32mor\u001b[0m \u001b[0mfinal_targets\u001b[0m \u001b[0;32mor\u001b[0m \u001b[0;34m(\u001b[0m\u001b[0mhandle\u001b[0m \u001b[0;32mand\u001b[0m \u001b[0mfeed_dict_tensor\u001b[0m\u001b[0;34m)\u001b[0m\u001b[0;34m:\u001b[0m\u001b[0;34m\u001b[0m\u001b[0m\n\u001b[1;32m   1119\u001b[0m       results = self._do_run(handle, final_targets, final_fetches,\n\u001b[0;32m-> 1120\u001b[0;31m                              feed_dict_tensor, options, run_metadata)\n\u001b[0m\u001b[1;32m   1121\u001b[0m     \u001b[0;32melse\u001b[0m\u001b[0;34m:\u001b[0m\u001b[0;34m\u001b[0m\u001b[0m\n\u001b[1;32m   1122\u001b[0m       \u001b[0mresults\u001b[0m \u001b[0;34m=\u001b[0m \u001b[0;34m[\u001b[0m\u001b[0;34m]\u001b[0m\u001b[0;34m\u001b[0m\u001b[0m\n",
      "\u001b[0;32m~/anaconda3/lib/python3.6/site-packages/tensorflow/python/client/session.py\u001b[0m in \u001b[0;36m_do_run\u001b[0;34m(self, handle, target_list, fetch_list, feed_dict, options, run_metadata)\u001b[0m\n\u001b[1;32m   1315\u001b[0m     \u001b[0;32mif\u001b[0m \u001b[0mhandle\u001b[0m \u001b[0;32mis\u001b[0m \u001b[0;32mNone\u001b[0m\u001b[0;34m:\u001b[0m\u001b[0;34m\u001b[0m\u001b[0m\n\u001b[1;32m   1316\u001b[0m       return self._do_call(_run_fn, self._session, feeds, fetches, targets,\n\u001b[0;32m-> 1317\u001b[0;31m                            options, run_metadata)\n\u001b[0m\u001b[1;32m   1318\u001b[0m     \u001b[0;32melse\u001b[0m\u001b[0;34m:\u001b[0m\u001b[0;34m\u001b[0m\u001b[0m\n\u001b[1;32m   1319\u001b[0m       \u001b[0;32mreturn\u001b[0m \u001b[0mself\u001b[0m\u001b[0;34m.\u001b[0m\u001b[0m_do_call\u001b[0m\u001b[0;34m(\u001b[0m\u001b[0m_prun_fn\u001b[0m\u001b[0;34m,\u001b[0m \u001b[0mself\u001b[0m\u001b[0;34m.\u001b[0m\u001b[0m_session\u001b[0m\u001b[0;34m,\u001b[0m \u001b[0mhandle\u001b[0m\u001b[0;34m,\u001b[0m \u001b[0mfeeds\u001b[0m\u001b[0;34m,\u001b[0m \u001b[0mfetches\u001b[0m\u001b[0;34m)\u001b[0m\u001b[0;34m\u001b[0m\u001b[0m\n",
      "\u001b[0;32m~/anaconda3/lib/python3.6/site-packages/tensorflow/python/client/session.py\u001b[0m in \u001b[0;36m_do_call\u001b[0;34m(self, fn, *args)\u001b[0m\n\u001b[1;32m   1321\u001b[0m   \u001b[0;32mdef\u001b[0m \u001b[0m_do_call\u001b[0m\u001b[0;34m(\u001b[0m\u001b[0mself\u001b[0m\u001b[0;34m,\u001b[0m \u001b[0mfn\u001b[0m\u001b[0;34m,\u001b[0m \u001b[0;34m*\u001b[0m\u001b[0margs\u001b[0m\u001b[0;34m)\u001b[0m\u001b[0;34m:\u001b[0m\u001b[0;34m\u001b[0m\u001b[0m\n\u001b[1;32m   1322\u001b[0m     \u001b[0;32mtry\u001b[0m\u001b[0;34m:\u001b[0m\u001b[0;34m\u001b[0m\u001b[0m\n\u001b[0;32m-> 1323\u001b[0;31m       \u001b[0;32mreturn\u001b[0m \u001b[0mfn\u001b[0m\u001b[0;34m(\u001b[0m\u001b[0;34m*\u001b[0m\u001b[0margs\u001b[0m\u001b[0;34m)\u001b[0m\u001b[0;34m\u001b[0m\u001b[0m\n\u001b[0m\u001b[1;32m   1324\u001b[0m     \u001b[0;32mexcept\u001b[0m \u001b[0merrors\u001b[0m\u001b[0;34m.\u001b[0m\u001b[0mOpError\u001b[0m \u001b[0;32mas\u001b[0m \u001b[0me\u001b[0m\u001b[0;34m:\u001b[0m\u001b[0;34m\u001b[0m\u001b[0m\n\u001b[1;32m   1325\u001b[0m       \u001b[0mmessage\u001b[0m \u001b[0;34m=\u001b[0m \u001b[0mcompat\u001b[0m\u001b[0;34m.\u001b[0m\u001b[0mas_text\u001b[0m\u001b[0;34m(\u001b[0m\u001b[0me\u001b[0m\u001b[0;34m.\u001b[0m\u001b[0mmessage\u001b[0m\u001b[0;34m)\u001b[0m\u001b[0;34m\u001b[0m\u001b[0m\n",
      "\u001b[0;32m~/anaconda3/lib/python3.6/site-packages/tensorflow/python/client/session.py\u001b[0m in \u001b[0;36m_run_fn\u001b[0;34m(session, feed_dict, fetch_list, target_list, options, run_metadata)\u001b[0m\n\u001b[1;32m   1291\u001b[0m                 run_metadata):\n\u001b[1;32m   1292\u001b[0m       \u001b[0;31m# Ensure any changes to the graph are reflected in the runtime.\u001b[0m\u001b[0;34m\u001b[0m\u001b[0;34m\u001b[0m\u001b[0m\n\u001b[0;32m-> 1293\u001b[0;31m       \u001b[0mself\u001b[0m\u001b[0;34m.\u001b[0m\u001b[0m_extend_graph\u001b[0m\u001b[0;34m(\u001b[0m\u001b[0;34m)\u001b[0m\u001b[0;34m\u001b[0m\u001b[0m\n\u001b[0m\u001b[1;32m   1294\u001b[0m       \u001b[0;32mwith\u001b[0m \u001b[0merrors\u001b[0m\u001b[0;34m.\u001b[0m\u001b[0mraise_exception_on_not_ok_status\u001b[0m\u001b[0;34m(\u001b[0m\u001b[0;34m)\u001b[0m \u001b[0;32mas\u001b[0m \u001b[0mstatus\u001b[0m\u001b[0;34m:\u001b[0m\u001b[0;34m\u001b[0m\u001b[0m\n\u001b[1;32m   1295\u001b[0m         \u001b[0;32mif\u001b[0m \u001b[0mself\u001b[0m\u001b[0;34m.\u001b[0m\u001b[0m_created_with_new_api\u001b[0m\u001b[0;34m:\u001b[0m\u001b[0;34m\u001b[0m\u001b[0m\n",
      "\u001b[0;32m~/anaconda3/lib/python3.6/site-packages/tensorflow/python/client/session.py\u001b[0m in \u001b[0;36m_extend_graph\u001b[0;34m(self)\u001b[0m\n\u001b[1;32m   1352\u001b[0m         \u001b[0;32mwith\u001b[0m \u001b[0merrors\u001b[0m\u001b[0;34m.\u001b[0m\u001b[0mraise_exception_on_not_ok_status\u001b[0m\u001b[0;34m(\u001b[0m\u001b[0;34m)\u001b[0m \u001b[0;32mas\u001b[0m \u001b[0mstatus\u001b[0m\u001b[0;34m:\u001b[0m\u001b[0;34m\u001b[0m\u001b[0m\n\u001b[1;32m   1353\u001b[0m           tf_session.TF_ExtendGraph(\n\u001b[0;32m-> 1354\u001b[0;31m               self._session, graph_def.SerializeToString(), status)\n\u001b[0m\u001b[1;32m   1355\u001b[0m         \u001b[0mself\u001b[0m\u001b[0;34m.\u001b[0m\u001b[0m_opened\u001b[0m \u001b[0;34m=\u001b[0m \u001b[0;32mTrue\u001b[0m\u001b[0;34m\u001b[0m\u001b[0m\n\u001b[1;32m   1356\u001b[0m \u001b[0;34m\u001b[0m\u001b[0m\n",
      "\u001b[0;31mKeyboardInterrupt\u001b[0m: "
     ]
    }
   ],
   "source": [
    "from keras.models import Sequential\n",
    "from keras.layers import Dense, Dropout\n",
    "from keras.layers import LSTM\n",
    "\n",
    "\n",
    "start = datetime.now()\n",
    "#### two layer cross validation decision tree\n",
    "#select X and Y                                                \n",
    "x = x_train\n",
    "y = y_train\n",
    "\n",
    "# Tree complexity parameter - constraint on maximum depth\n",
    "Denseness = np.arange(1, 2, 5)\n",
    "batchsize = np.arange(1,5,1)\n",
    "\n",
    "\n",
    "# Initialize variable\n",
    "NN_Error_train = np.empty((len(Denseness),len(batchsize)))\n",
    "NN_Error_test = np.empty((len(Denseness),len(batchsize)))\n",
    "\n",
    "\n",
    "for run, b in enumerate(batchsize):\n",
    "\n",
    "    # inner loop (model selection)\n",
    "    for i, t in enumerate(Denseness):\n",
    "\n",
    "        model = Sequential()\n",
    "\n",
    "        # adding layers\n",
    "        model.add(LSTM(t, input_shape=(None,1), return_sequences=True))\n",
    "        model.add(Dropout(0.2))\n",
    "        model.add(Dense(1, activation = 'linear'))\n",
    "\n",
    "        # tweaking settings\n",
    "        model.compile(loss='mean_absolute_error', optimizer='adam',metrics=['accuracy'])\n",
    "\n",
    "        # fitting model\n",
    "        history = model.fit(x,y, validation_data=(x_test,y_test),\n",
    "        epochs = 1, batch_size=b, shuffle=False,verbose=0)\n",
    "\n",
    "        # predict\n",
    "        y_est_test = model.predict(x_test).reshape((-1,))\n",
    "        y_est_train = model.predict(x_train).reshape((-1,))\n",
    "\n",
    "        #evaluate misclasification in the current Kfold\n",
    "        misclass_rate_test = sum(np.abs(y_est_test - y_test.reshape(12))) / float(len(y_est_test))\n",
    "        misclass_rate_train = sum(np.abs(y_est_train - y_train.reshape(24))) / float(len(y_est_train))\n",
    "        NN_Error_test[i,run], NN_Error_train[i,run] = misclass_rate_test, misclass_rate_train\n",
    "\n",
    "        \n",
    "    \n",
    "    # create time variabels\n",
    "    runtime = datetime.now()-start\n",
    "    speed = datetime.now()-last\n",
    "    if run == 0:\n",
    "        delta = timedelta(0)\n",
    "    else:\n",
    "        delta = speed - delta \n",
    "    \n",
    "    ETA = timedelta(0)\n",
    "    \n",
    "    \n",
    "    #calculate ETA\n",
    "    base = speed*(len(batchsize)-run-1)\n",
    "    print(base)\n",
    "    ETA = base\n",
    "    print(delta)\n",
    "    \n",
    "    \n",
    "    if run > 0:\n",
    "        for i in range(len(batchsize)-run-1):\n",
    "            ETA = ETA + i*delta\n",
    "            left = left -1\n",
    "        \n",
    "        \n",
    "    \n",
    "    #for i in rounds:\n",
    "    #    left = (len(rounds)-i)\n",
    "    #    for j in range(left):\n",
    "    #        ETA = ETA+speed+delta*(j+i)\n",
    "       \n",
    "        \n",
    "    # print info    \n",
    "    print('batchsize {} done in {}'.format(b,runtime))\n",
    "    last = datetime.now()\n",
    "    \n",
    "    \n",
    "    print('Expected to finish in : {}'.format(str(ETA)))\n",
    "    \n",
    "    \n",
    "print('Script ran in {}'.format(runtime))\n",
    "# show result"
   ]
  },
  {
   "cell_type": "code",
   "execution_count": 98,
   "metadata": {},
   "outputs": [
    {
     "data": {
      "text/plain": [
       "datetime.timedelta(0, 66, 37340)"
      ]
     },
     "execution_count": 98,
     "metadata": {},
     "output_type": "execute_result"
    }
   ],
   "source": [
    "runtime*2"
   ]
  },
  {
   "cell_type": "code",
   "execution_count": 68,
   "metadata": {},
   "outputs": [
    {
     "name": "stdout",
     "output_type": "stream",
     "text": [
      "ETA:0:03:00\n",
      "ETA:0:02:00\n",
      "runtime:0:00:00.000422\n"
     ]
    }
   ],
   "source": [
    "x = timedelta(0,0, 0, 0, 1, 0, 0)\n",
    "delta = timedelta(0,0, 0, 0, 1, 0, 0)\n",
    "\n",
    "now = datetime.now()\n",
    "rounds = range(2)\n",
    "for i in rounds:\n",
    "    left = (len(rounds)-i)\n",
    "    ETA = timedelta(0)\n",
    "    \n",
    "    for j in range(left):\n",
    "        \n",
    "        ETA += x+delta*(j+i)\n",
    "    print('ETA:{}'.format(ETA))\n",
    "    \n",
    "print('runtime:{}'.format(datetime.now()-now))\n"
   ]
  },
  {
   "cell_type": "code",
   "execution_count": 29,
   "metadata": {},
   "outputs": [
    {
     "name": "stdout",
     "output_type": "stream",
     "text": [
      "65\n"
     ]
    }
   ],
   "source": [
    "delay = 2\n",
    "sumen = 0\n",
    "for i in range(1,11):\n",
    "    sumen += delay\n",
    "    delay +=1\n",
    "    \n",
    "print(sumen)"
   ]
  },
  {
   "cell_type": "markdown",
   "metadata": {},
   "source": []
  },
  {
   "cell_type": "code",
   "execution_count": 23,
   "metadata": {},
   "outputs": [
    {
     "data": {
      "image/png": "[encoded data removed]",
      "text/plain": [
       "<matplotlib.figure.Figure at 0x7f3dcf412358>"
      ]
     },
     "metadata": {},
     "output_type": "display_data"
    },
    {
     "data": {
      "image/png": "[encoded data removed]",
      "text/plain": [
       "<matplotlib.figure.Figure at 0x7f3dcf42b710>"
      ]
     },
     "metadata": {},
     "output_type": "display_data"
    }
   ],
   "source": [
    "f = plt.figure()\n",
    "plt.boxplot(NN_Error_test.T)\n",
    "plt.xlabel('Model complexity (max tree depth)')\n",
    "plt.ylabel('Test error across CV folds, K={0})'.format(10))\n",
    "\n",
    "f = plt.figure()\n",
    "plt.plot(Denseness, NN_Error_train.mean(1))\n",
    "plt.plot(Denseness, NN_Error_test.mean(1))\n",
    "plt.xlabel('Model complexity (max tree depth)')\n",
    "plt.ylabel('Error (misclassification rate, CV K={0})'.format(10))\n",
    "plt.legend(['Error_train','Error_test'])\n",
    "    \n",
    "plt.show()"
   ]
  },
  {
   "cell_type": "code",
   "execution_count": null,
   "metadata": {
    "collapsed": true
   },
   "outputs": [],
   "source": [
    "\"\"\"\n",
    "f = plt.figure()\n",
    "plt.plot(Denseness, NN_Error_train)\n",
    "plt.plot(Denseness, NN_Error_test)\n",
    "plt.xlabel('Model complexity (t-value')\n",
    "plt.ylabel('Error (misclassification rate)'.format(1))\n",
    "plt.legend(['Error_train','Error_test'])\n",
    "    \n",
    "plt.show()\n",
    "\"\"\";"
   ]
  },
  {
   "cell_type": "code",
   "execution_count": 27,
   "metadata": {},
   "outputs": [
    {
     "name": "stdout",
     "output_type": "stream",
     "text": [
      "Training and prediction done in 0:00:04.558185\n"
     ]
    }
   ],
   "source": [
    "from keras.models import Sequential\n",
    "from keras.layers import Dense, Dropout\n",
    "from keras.layers import LSTM\n",
    "\n",
    "start = datetime.now()\n",
    "\n",
    "model = Sequential()\n",
    "model.add(LSTM(45, input_shape=(None,1), return_sequences=True))\n",
    "model.add(Dropout(0.2))\n",
    "model.add(Dense(1, activation = 'linear'))\n",
    "model.compile(loss='mean_absolute_error', optimizer='adam',metrics=['accuracy'])\n",
    "model.fit(x_train, y_train, epochs=500, batch_size=10, verbose=0,validation_data=(x_test, y_test))\n",
    "y_pred = model.predict(x_test)\n",
    "\n",
    "print('Training and prediction done in {}'.format(datetime.now()-start))"
   ]
  },
  {
   "cell_type": "code",
   "execution_count": 16,
   "metadata": {},
   "outputs": [
    {
     "data": {
      "text/plain": [
       "array([[[  3.48055959e-02],\n",
       "        [ -1.01487398e+00],\n",
       "        [  9.88503075e+00],\n",
       "        [  4.17640800e+01],\n",
       "        [  4.59047585e+01],\n",
       "        [  3.95574303e+01],\n",
       "        [  4.33518753e+01],\n",
       "        [  1.89251270e+01],\n",
       "        [  3.02874966e+01],\n",
       "        [  4.69224930e+00],\n",
       "        [  4.37746048e+00],\n",
       "        [  4.20557594e+01]]], dtype=float32)"
      ]
     },
     "execution_count": 16,
     "metadata": {},
     "output_type": "execute_result"
    }
   ],
   "source": [
    "y_pred"
   ]
  },
  {
   "cell_type": "code",
   "execution_count": 28,
   "metadata": {},
   "outputs": [
    {
     "data": {
      "image/png": "[encoded data removed]",
      "text/plain": [
       "<matplotlib.figure.Figure at 0x7feec144a208>"
      ]
     },
     "metadata": {},
     "output_type": "display_data"
    }
   ],
   "source": [
    "obj = pd.DataFrame(data['Jul16'].iloc[1:])\n",
    "obj['pred'] = y_pred.reshape(12,1)\n",
    "obj.plot(figsize=(14,3))\n",
    "plt.legend(['Target values','Predicted values'])\n",
    "plt.title('Batch size = 10')\n",
    "plt.show()"
   ]
  },
  {
   "cell_type": "code",
   "execution_count": 72,
   "metadata": {},
   "outputs": [
    {
     "data": {
      "text/html": [
       "<div>\n",
       "<style>\n",
       "    .dataframe thead tr:only-child th {\n",
       "        text-align: right;\n",
       "    }\n",
       "\n",
       "    .dataframe thead th {\n",
       "        text-align: left;\n",
       "    }\n",
       "\n",
       "    .dataframe tbody tr th {\n",
       "        vertical-align: top;\n",
       "    }\n",
       "</style>\n",
       "<table border=\"1\" class=\"dataframe\">\n",
       "  <thead>\n",
       "    <tr style=\"text-align: right;\">\n",
       "      <th></th>\n",
       "      <th>Full%</th>\n",
       "      <th>pred</th>\n",
       "    </tr>\n",
       "    <tr>\n",
       "      <th>Time_Stamp</th>\n",
       "      <th></th>\n",
       "      <th></th>\n",
       "    </tr>\n",
       "  </thead>\n",
       "  <tbody>\n",
       "    <tr>\n",
       "      <th>2016-07-05 09:00:00</th>\n",
       "      <td>0.0</td>\n",
       "      <td>0.051292</td>\n",
       "    </tr>\n",
       "    <tr>\n",
       "      <th>2016-07-05 10:00:00</th>\n",
       "      <td>8.0</td>\n",
       "      <td>-0.685117</td>\n",
       "    </tr>\n",
       "    <tr>\n",
       "      <th>2016-07-05 11:00:00</th>\n",
       "      <td>40.0</td>\n",
       "      <td>7.522802</td>\n",
       "    </tr>\n",
       "    <tr>\n",
       "      <th>2016-07-05 12:00:00</th>\n",
       "      <td>45.0</td>\n",
       "      <td>43.595360</td>\n",
       "    </tr>\n",
       "    <tr>\n",
       "      <th>2016-07-05 13:00:00</th>\n",
       "      <td>37.0</td>\n",
       "      <td>46.861935</td>\n",
       "    </tr>\n",
       "    <tr>\n",
       "      <th>2016-07-05 14:00:00</th>\n",
       "      <td>43.0</td>\n",
       "      <td>40.708691</td>\n",
       "    </tr>\n",
       "    <tr>\n",
       "      <th>2016-07-05 15:00:00</th>\n",
       "      <td>14.0</td>\n",
       "      <td>44.836090</td>\n",
       "    </tr>\n",
       "    <tr>\n",
       "      <th>2016-07-05 16:00:00</th>\n",
       "      <td>29.0</td>\n",
       "      <td>20.694576</td>\n",
       "    </tr>\n",
       "    <tr>\n",
       "      <th>2016-07-05 17:00:00</th>\n",
       "      <td>8.0</td>\n",
       "      <td>39.144894</td>\n",
       "    </tr>\n",
       "    <tr>\n",
       "      <th>2016-07-05 18:00:00</th>\n",
       "      <td>8.0</td>\n",
       "      <td>5.469329</td>\n",
       "    </tr>\n",
       "    <tr>\n",
       "      <th>2016-07-05 19:00:00</th>\n",
       "      <td>44.0</td>\n",
       "      <td>2.751062</td>\n",
       "    </tr>\n",
       "    <tr>\n",
       "      <th>2016-07-05 20:00:00</th>\n",
       "      <td>20.0</td>\n",
       "      <td>41.421013</td>\n",
       "    </tr>\n",
       "  </tbody>\n",
       "</table>\n",
       "</div>"
      ],
      "text/plain": [
       "                     Full%       pred\n",
       "Time_Stamp                           \n",
       "2016-07-05 09:00:00    0.0   0.051292\n",
       "2016-07-05 10:00:00    8.0  -0.685117\n",
       "2016-07-05 11:00:00   40.0   7.522802\n",
       "2016-07-05 12:00:00   45.0  43.595360\n",
       "2016-07-05 13:00:00   37.0  46.861935\n",
       "2016-07-05 14:00:00   43.0  40.708691\n",
       "2016-07-05 15:00:00   14.0  44.836090\n",
       "2016-07-05 16:00:00   29.0  20.694576\n",
       "2016-07-05 17:00:00    8.0  39.144894\n",
       "2016-07-05 18:00:00    8.0   5.469329\n",
       "2016-07-05 19:00:00   44.0   2.751062\n",
       "2016-07-05 20:00:00   20.0  41.421013"
      ]
     },
     "execution_count": 72,
     "metadata": {},
     "output_type": "execute_result"
    }
   ],
   "source": [
    "obj"
   ]
  },
  {
   "cell_type": "code",
   "execution_count": null,
   "metadata": {
    "collapsed": true
   },
   "outputs": [],
   "source": [
    "pandas.concat()"
   ]
  }
 ],
 "metadata": {
  "kernelspec": {
   "display_name": "Python 3",
   "language": "python",
   "name": "python3"
  },
  "language_info": {
   "codemirror_mode": {
    "name": "ipython",
    "version": 3
   },
   "file_extension": ".py",
   "mimetype": "text/x-python",
   "name": "python",
   "nbconvert_exporter": "python",
   "pygments_lexer": "ipython3",
   "version": "3.6.3"
  }
 },
 "nbformat": 4,
 "nbformat_minor": 2
}
