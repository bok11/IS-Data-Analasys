{
 "cells": [
  {
   "cell_type": "code",
   "execution_count": 1,
   "metadata": {
    "collapsed": true
   },
   "outputs": [],
   "source": [
    "import pandas as pd\n",
    "import seaborn as sns\n",
    "import missingno as msno\n",
    "import matplotlib.pyplot as plt\n",
    "import numpy as np"
   ]
  },
  {
   "cell_type": "markdown",
   "metadata": {},
   "source": [
    "# Loading the data"
   ]
  },
  {
   "cell_type": "code",
   "execution_count": 10,
   "metadata": {},
   "outputs": [
    {
     "data": {
      "text/plain": [
       "(82243, 9)"
      ]
     },
     "execution_count": 10,
     "metadata": {},
     "output_type": "execute_result"
    }
   ],
   "source": [
    "df = pd.Series()\n",
    "df['raw'] = pd.read_csv('./Data/clean.csv',index_col='Time stamp',low_memory=False)\n",
    "df['raw'].shape"
   ]
  },
  {
   "cell_type": "code",
   "execution_count": 11,
   "metadata": {},
   "outputs": [
    {
     "data": {
      "text/html": [
       "<div>\n",
       "<style>\n",
       "    .dataframe thead tr:only-child th {\n",
       "        text-align: right;\n",
       "    }\n",
       "\n",
       "    .dataframe thead th {\n",
       "        text-align: left;\n",
       "    }\n",
       "\n",
       "    .dataframe tbody tr th {\n",
       "        vertical-align: top;\n",
       "    }\n",
       "</style>\n",
       "<table border=\"1\" class=\"dataframe\">\n",
       "  <thead>\n",
       "    <tr style=\"text-align: right;\">\n",
       "      <th></th>\n",
       "      <th>ID</th>\n",
       "      <th>Area</th>\n",
       "      <th>Sub_Area</th>\n",
       "      <th>Side</th>\n",
       "      <th>Day</th>\n",
       "      <th>Parking_Category</th>\n",
       "      <th>Peak Hour</th>\n",
       "      <th>Free_Spaces</th>\n",
       "      <th>Used_Spaces</th>\n",
       "    </tr>\n",
       "    <tr>\n",
       "      <th>Time stamp</th>\n",
       "      <th></th>\n",
       "      <th></th>\n",
       "      <th></th>\n",
       "      <th></th>\n",
       "      <th></th>\n",
       "      <th></th>\n",
       "      <th></th>\n",
       "      <th></th>\n",
       "      <th></th>\n",
       "    </tr>\n",
       "  </thead>\n",
       "  <tbody>\n",
       "    <tr>\n",
       "      <th>2014-04-08 08:00:00</th>\n",
       "      <td>24558</td>\n",
       "      <td>12th Ave</td>\n",
       "      <td>12TH AVE BETWEEN E MARION ST AND E SPRING ST</td>\n",
       "      <td>E</td>\n",
       "      <td>Weekday</td>\n",
       "      <td>Paid Parking</td>\n",
       "      <td>No</td>\n",
       "      <td>8.0</td>\n",
       "      <td>1.0</td>\n",
       "    </tr>\n",
       "    <tr>\n",
       "      <th>2014-04-08 08:00:00</th>\n",
       "      <td>24553</td>\n",
       "      <td>12th Ave</td>\n",
       "      <td>12TH AVE BETWEEN E CHERRY ST AND E COLUMBIA ST</td>\n",
       "      <td>W</td>\n",
       "      <td>Weekday</td>\n",
       "      <td>Paid Parking</td>\n",
       "      <td>No</td>\n",
       "      <td>7.0</td>\n",
       "      <td>3.0</td>\n",
       "    </tr>\n",
       "    <tr>\n",
       "      <th>2014-04-08 08:00:00</th>\n",
       "      <td>69437</td>\n",
       "      <td>12th Ave</td>\n",
       "      <td>12TH AVE BETWEEN E JAMES CT AND E CHERRY ST</td>\n",
       "      <td>W</td>\n",
       "      <td>Weekday</td>\n",
       "      <td>Paid Parking</td>\n",
       "      <td>No</td>\n",
       "      <td>4.0</td>\n",
       "      <td>2.0</td>\n",
       "    </tr>\n",
       "    <tr>\n",
       "      <th>2014-04-08 08:00:00</th>\n",
       "      <td>46725</td>\n",
       "      <td>12th Ave</td>\n",
       "      <td>12TH AVE BETWEEN E JEFFERSON ST AND E BARCLAY CT</td>\n",
       "      <td>W</td>\n",
       "      <td>Weekday</td>\n",
       "      <td>Paid Parking</td>\n",
       "      <td>No</td>\n",
       "      <td>5.0</td>\n",
       "      <td>0.0</td>\n",
       "    </tr>\n",
       "    <tr>\n",
       "      <th>2014-04-08 08:00:00</th>\n",
       "      <td>69441</td>\n",
       "      <td>12th Ave</td>\n",
       "      <td>12TH AVE BETWEEN E SPRING ST AND E MADISON ST</td>\n",
       "      <td>W</td>\n",
       "      <td>Weekday</td>\n",
       "      <td>Paid Parking</td>\n",
       "      <td>No</td>\n",
       "      <td>3.0</td>\n",
       "      <td>0.0</td>\n",
       "    </tr>\n",
       "  </tbody>\n",
       "</table>\n",
       "</div>"
      ],
      "text/plain": [
       "                        ID      Area  \\\n",
       "Time stamp                             \n",
       "2014-04-08 08:00:00  24558  12th Ave   \n",
       "2014-04-08 08:00:00  24553  12th Ave   \n",
       "2014-04-08 08:00:00  69437  12th Ave   \n",
       "2014-04-08 08:00:00  46725  12th Ave   \n",
       "2014-04-08 08:00:00  69441  12th Ave   \n",
       "\n",
       "                                                             Sub_Area Side  \\\n",
       "Time stamp                                                                   \n",
       "2014-04-08 08:00:00      12TH AVE BETWEEN E MARION ST AND E SPRING ST    E   \n",
       "2014-04-08 08:00:00    12TH AVE BETWEEN E CHERRY ST AND E COLUMBIA ST    W   \n",
       "2014-04-08 08:00:00       12TH AVE BETWEEN E JAMES CT AND E CHERRY ST    W   \n",
       "2014-04-08 08:00:00  12TH AVE BETWEEN E JEFFERSON ST AND E BARCLAY CT    W   \n",
       "2014-04-08 08:00:00     12TH AVE BETWEEN E SPRING ST AND E MADISON ST    W   \n",
       "\n",
       "                         Day Parking_Category Peak Hour  Free_Spaces  \\\n",
       "Time stamp                                                             \n",
       "2014-04-08 08:00:00  Weekday     Paid Parking        No          8.0   \n",
       "2014-04-08 08:00:00  Weekday     Paid Parking        No          7.0   \n",
       "2014-04-08 08:00:00  Weekday     Paid Parking        No          4.0   \n",
       "2014-04-08 08:00:00  Weekday     Paid Parking        No          5.0   \n",
       "2014-04-08 08:00:00  Weekday     Paid Parking        No          3.0   \n",
       "\n",
       "                     Used_Spaces  \n",
       "Time stamp                        \n",
       "2014-04-08 08:00:00          1.0  \n",
       "2014-04-08 08:00:00          3.0  \n",
       "2014-04-08 08:00:00          2.0  \n",
       "2014-04-08 08:00:00          0.0  \n",
       "2014-04-08 08:00:00          0.0  "
      ]
     },
     "execution_count": 11,
     "metadata": {},
     "output_type": "execute_result"
    }
   ],
   "source": [
    "df['raw'].head()"
   ]
  },
  {
   "cell_type": "markdown",
   "metadata": {},
   "source": [
    "# Data exploration"
   ]
  },
  {
   "cell_type": "markdown",
   "metadata": {},
   "source": [
    "The parts which are interesting, is the numeric data. Specifically, parking_spaces and Total Vehicle count is of interest. For non numeric data, the most interesting columns seem to be Subarea Label and Study_area. It could also be usefull to create a new column, indicating wether it is a weekday or a weekend, to research the difference."
   ]
  },
  {
   "cell_type": "markdown",
   "metadata": {},
   "source": [
    "## Numeric"
   ]
  },
  {
   "cell_type": "markdown",
   "metadata": {},
   "source": [
    "For reference, i will investigate the content of Parking_Spaces, as it is not clear what this means."
   ]
  },
  {
   "cell_type": "code",
   "execution_count": 12,
   "metadata": {},
   "outputs": [
    {
     "data": {
      "text/plain": [
       "6.0     9278\n",
       "7.0     9038\n",
       "5.0     9020\n",
       "8.0     8776\n",
       "4.0     7445\n",
       "9.0     7172\n",
       "3.0     5967\n",
       "10.0    5508\n",
       "2.0     3176\n",
       "11.0    2808\n",
       "Name: Free_Spaces, dtype: int64"
      ]
     },
     "execution_count": 12,
     "metadata": {},
     "output_type": "execute_result"
    }
   ],
   "source": [
    "df['raw']['Free_Spaces'].value_counts().head(10)"
   ]
  },
  {
   "cell_type": "code",
   "execution_count": 14,
   "metadata": {},
   "outputs": [
    {
     "name": "stdout",
     "output_type": "stream",
     "text": [
      "Entire dataset\n"
     ]
    },
    {
     "data": {
      "image/png": "[encoded data removed]",
      "text/plain": [
       "<matplotlib.figure.Figure at 0x7f5e745d6630>"
      ]
     },
     "metadata": {},
     "output_type": "display_data"
    },
    {
     "data": {
      "image/png": "[encoded data removed]",
      "text/plain": [
       "<matplotlib.figure.Figure at 0x7f5e74bb0da0>"
      ]
     },
     "metadata": {},
     "output_type": "display_data"
    }
   ],
   "source": [
    "print('Entire dataset')\n",
    "df['raw'][['Free_Spaces','Used_Spaces']].hist()\n",
    "plt.show()\n",
    "df['raw'][['Free_Spaces','Used_Spaces']].boxplot()\n",
    "plt.show()"
   ]
  },
  {
   "cell_type": "code",
   "execution_count": 15,
   "metadata": {
    "scrolled": false
   },
   "outputs": [
    {
     "name": "stdout",
     "output_type": "stream",
     "text": [
      "Weekdays\n"
     ]
    },
    {
     "data": {
      "image/png": "[encoded data removed]",
      "text/plain": [
       "<matplotlib.figure.Figure at 0x7f5e7498c8d0>"
      ]
     },
     "metadata": {},
     "output_type": "display_data"
    },
    {
     "data": {
      "image/png": "[encoded data removed]",
      "text/plain": [
       "<matplotlib.figure.Figure at 0x7f5e74adb710>"
      ]
     },
     "metadata": {},
     "output_type": "display_data"
    }
   ],
   "source": [
    "print('Weekdays')\n",
    "obj = df['raw'][df['raw'].Day.isin({'Weekday'})]\n",
    "obj[['Free_Spaces','Used_Spaces']].hist()\n",
    "plt.show()\n",
    "obj[['Free_Spaces','Used_Spaces']].boxplot()\n",
    "plt.show()"
   ]
  },
  {
   "cell_type": "code",
   "execution_count": 16,
   "metadata": {},
   "outputs": [
    {
     "name": "stdout",
     "output_type": "stream",
     "text": [
      "Sundays\n"
     ]
    },
    {
     "data": {
      "image/png": "[encoded data removed]",
      "text/plain": [
       "<matplotlib.figure.Figure at 0x7f5e74a80358>"
      ]
     },
     "metadata": {},
     "output_type": "display_data"
    },
    {
     "data": {
      "image/png": "[encoded data removed]",
      "text/plain": [
       "<matplotlib.figure.Figure at 0x7f5e74a5bd30>"
      ]
     },
     "metadata": {},
     "output_type": "display_data"
    }
   ],
   "source": [
    "print('Sundays')\n",
    "obj = df['raw'][df['raw'].Day.isin({'Sunday'})]\n",
    "obj[['Free_Spaces','Used_Spaces']].hist()\n",
    "plt.show()\n",
    "obj[['Free_Spaces','Used_Spaces']].boxplot()\n",
    "plt.show()"
   ]
  },
  {
   "cell_type": "code",
   "execution_count": 17,
   "metadata": {},
   "outputs": [
    {
     "name": "stdout",
     "output_type": "stream",
     "text": [
      "Event days\n"
     ]
    },
    {
     "data": {
      "image/png": "[encoded data removed]",
      "text/plain": [
       "<matplotlib.figure.Figure at 0x7f5e74af3c18>"
      ]
     },
     "metadata": {},
     "output_type": "display_data"
    },
    {
     "data": {
      "image/png": "[encoded data removed]",
      "text/plain": [
       "<matplotlib.figure.Figure at 0x7f5e74999550>"
      ]
     },
     "metadata": {},
     "output_type": "display_data"
    }
   ],
   "source": [
    "print('Event days')\n",
    "obj = df['raw'][df['raw'].Day.isin({'Event'})]\n",
    "obj[['Free_Spaces','Used_Spaces']].hist()\n",
    "plt.show()\n",
    "obj[['Free_Spaces','Used_Spaces']].boxplot()\n",
    "plt.show()"
   ]
  },
  {
   "cell_type": "code",
   "execution_count": null,
   "metadata": {
    "collapsed": true
   },
   "outputs": [],
   "source": []
  }
 ],
 "metadata": {
  "kernelspec": {
   "display_name": "Python 3",
   "language": "python",
   "name": "python3"
  },
  "language_info": {
   "codemirror_mode": {
    "name": "ipython",
    "version": 3
   },
   "file_extension": ".py",
   "mimetype": "text/x-python",
   "name": "python",
   "nbconvert_exporter": "python",
   "pygments_lexer": "ipython3",
   "version": "3.6.3"
  }
 },
 "nbformat": 4,
 "nbformat_minor": 2
}
