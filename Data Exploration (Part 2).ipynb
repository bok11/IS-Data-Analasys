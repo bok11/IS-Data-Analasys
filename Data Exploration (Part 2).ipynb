{
 "cells": [
  {
   "cell_type": "code",
   "execution_count": 1,
   "metadata": {
    "collapsed": true
   },
   "outputs": [],
   "source": [
    "import pandas as pd\n",
    "import seaborn as sns\n",
    "import missingno as msno\n",
    "import matplotlib.pyplot as plt\n",
    "import numpy as np"
   ]
  },
  {
   "cell_type": "markdown",
   "metadata": {},
   "source": [
    "# Loading the data"
   ]
  },
  {
   "cell_type": "code",
   "execution_count": 2,
   "metadata": {},
   "outputs": [
    {
     "data": {
      "text/plain": [
       "(38709, 6)"
      ]
     },
     "execution_count": 2,
     "metadata": {},
     "output_type": "execute_result"
    }
   ],
   "source": [
    "df = pd.Series()\n",
    "df['raw'] = pd.read_csv('./Data/clean.csv',index_col='Time_Stamp',low_memory=False)\n",
    "#df['area'] = pd.read_csv('./Data/area.csv',index_col='Time stamp',low_memory=False)\n",
    "df['raw'].shape"
   ]
  },
  {
   "cell_type": "code",
   "execution_count": 3,
   "metadata": {
    "scrolled": true
   },
   "outputs": [
    {
     "data": {
      "text/html": [
       "<div>\n",
       "<style>\n",
       "    .dataframe thead tr:only-child th {\n",
       "        text-align: right;\n",
       "    }\n",
       "\n",
       "    .dataframe thead th {\n",
       "        text-align: left;\n",
       "    }\n",
       "\n",
       "    .dataframe tbody tr th {\n",
       "        vertical-align: top;\n",
       "    }\n",
       "</style>\n",
       "<table border=\"1\" class=\"dataframe\">\n",
       "  <thead>\n",
       "    <tr style=\"text-align: right;\">\n",
       "      <th></th>\n",
       "      <th>Weekday</th>\n",
       "      <th>Area</th>\n",
       "      <th>Sub_Area</th>\n",
       "      <th>Free_Spots</th>\n",
       "      <th>Used_Spots</th>\n",
       "      <th>Full%</th>\n",
       "    </tr>\n",
       "    <tr>\n",
       "      <th>Time_Stamp</th>\n",
       "      <th></th>\n",
       "      <th></th>\n",
       "      <th></th>\n",
       "      <th></th>\n",
       "      <th></th>\n",
       "      <th></th>\n",
       "    </tr>\n",
       "  </thead>\n",
       "  <tbody>\n",
       "    <tr>\n",
       "      <th>2014-04-08 08:00:00</th>\n",
       "      <td>Yes</td>\n",
       "      <td>12th Ave</td>\n",
       "      <td>12TH AVE BETWEEN E MARION ST AND E SPRING ST</td>\n",
       "      <td>12.0</td>\n",
       "      <td>0.0</td>\n",
       "      <td>0.0</td>\n",
       "    </tr>\n",
       "    <tr>\n",
       "      <th>2014-04-08 08:00:00</th>\n",
       "      <td>Yes</td>\n",
       "      <td>12th Ave</td>\n",
       "      <td>12TH AVE BETWEEN E COLUMBIA ST AND E MARION ST</td>\n",
       "      <td>13.0</td>\n",
       "      <td>7.0</td>\n",
       "      <td>35.0</td>\n",
       "    </tr>\n",
       "    <tr>\n",
       "      <th>2014-04-08 08:00:00</th>\n",
       "      <td>Yes</td>\n",
       "      <td>12th Ave</td>\n",
       "      <td>12TH AVE BETWEEN E SPRING ST AND E MADISON ST</td>\n",
       "      <td>15.0</td>\n",
       "      <td>4.0</td>\n",
       "      <td>21.0</td>\n",
       "    </tr>\n",
       "    <tr>\n",
       "      <th>2014-04-08 08:00:00</th>\n",
       "      <td>Yes</td>\n",
       "      <td>12th Ave</td>\n",
       "      <td>12TH AVE BETWEEN E JAMES CT AND E CHERRY ST</td>\n",
       "      <td>4.0</td>\n",
       "      <td>2.0</td>\n",
       "      <td>33.0</td>\n",
       "    </tr>\n",
       "    <tr>\n",
       "      <th>2014-04-08 08:00:00</th>\n",
       "      <td>Yes</td>\n",
       "      <td>12th Ave</td>\n",
       "      <td>12TH AVE BETWEEN E BARCLAY CT AND E JAMES CT</td>\n",
       "      <td>8.0</td>\n",
       "      <td>0.0</td>\n",
       "      <td>0.0</td>\n",
       "    </tr>\n",
       "  </tbody>\n",
       "</table>\n",
       "</div>"
      ],
      "text/plain": [
       "                    Weekday       Area  \\\n",
       "Time_Stamp                               \n",
       "2014-04-08 08:00:00     Yes  12th Ave    \n",
       "2014-04-08 08:00:00     Yes  12th Ave    \n",
       "2014-04-08 08:00:00     Yes  12th Ave    \n",
       "2014-04-08 08:00:00     Yes  12th Ave    \n",
       "2014-04-08 08:00:00     Yes  12th Ave    \n",
       "\n",
       "                                                           Sub_Area  \\\n",
       "Time_Stamp                                                            \n",
       "2014-04-08 08:00:00    12TH AVE BETWEEN E MARION ST AND E SPRING ST   \n",
       "2014-04-08 08:00:00  12TH AVE BETWEEN E COLUMBIA ST AND E MARION ST   \n",
       "2014-04-08 08:00:00   12TH AVE BETWEEN E SPRING ST AND E MADISON ST   \n",
       "2014-04-08 08:00:00     12TH AVE BETWEEN E JAMES CT AND E CHERRY ST   \n",
       "2014-04-08 08:00:00    12TH AVE BETWEEN E BARCLAY CT AND E JAMES CT   \n",
       "\n",
       "                     Free_Spots  Used_Spots  Full%  \n",
       "Time_Stamp                                          \n",
       "2014-04-08 08:00:00        12.0         0.0    0.0  \n",
       "2014-04-08 08:00:00        13.0         7.0   35.0  \n",
       "2014-04-08 08:00:00        15.0         4.0   21.0  \n",
       "2014-04-08 08:00:00         4.0         2.0   33.0  \n",
       "2014-04-08 08:00:00         8.0         0.0    0.0  "
      ]
     },
     "execution_count": 3,
     "metadata": {},
     "output_type": "execute_result"
    }
   ],
   "source": [
    "df['raw'].head()"
   ]
  },
  {
   "cell_type": "markdown",
   "metadata": {},
   "source": [
    "# Data exploration"
   ]
  },
  {
   "cell_type": "markdown",
   "metadata": {},
   "source": [
    "Because this is an example, i will choose one specific parking area to predict. "
   ]
  },
  {
   "cell_type": "markdown",
   "metadata": {},
   "source": [
    "## Choosing the area"
   ]
  },
  {
   "cell_type": "markdown",
   "metadata": {},
   "source": [
    "For reference, i will investigate the content of Parking_Spaces, as it is not clear what this means."
   ]
  },
  {
   "cell_type": "code",
   "execution_count": 4,
   "metadata": {},
   "outputs": [
    {
     "data": {
      "text/plain": [
       "NW 54TH SR ST BETWEEN 32ND AVE NW AND NW 54TH ST        77\n",
       "NW 54TH SR ST BETWEEN 30TH WR AVE NW AND 32ND AVE NW    75\n",
       "MAYNARD AVE S BETWEEN S JACKSON ST AND S KING ST        67\n",
       "7TH AVE S BETWEEN S MAIN ST AND S JACKSON ST            67\n",
       "MAYNARD AVE S BETWEEN S KING ST AND S WELLER ST         66\n",
       "Name: Sub_Area, dtype: int64"
      ]
     },
     "execution_count": 4,
     "metadata": {},
     "output_type": "execute_result"
    }
   ],
   "source": [
    "df['raw']['Sub_Area'].value_counts().head()"
   ]
  },
  {
   "cell_type": "markdown",
   "metadata": {},
   "source": [
    "54TH SR ST BETWEEN 32ND AVE NW AND NW 54TH ST is the parking spot with the most entries. These entries will be the ones used for modeling."
   ]
  },
  {
   "cell_type": "code",
   "execution_count": 5,
   "metadata": {
    "collapsed": true
   },
   "outputs": [],
   "source": [
    "df['data'] = df['raw'][df['raw']['Sub_Area'].isin({'NW 54TH SR ST BETWEEN 32ND AVE NW AND NW 54TH ST'})]"
   ]
  },
  {
   "cell_type": "markdown",
   "metadata": {},
   "source": [
    "## Exploration"
   ]
  },
  {
   "cell_type": "code",
   "execution_count": 6,
   "metadata": {
    "scrolled": false
   },
   "outputs": [
    {
     "data": {
      "image/png": "[encoded data removed]",
      "text/plain": [
       "<matplotlib.figure.Figure at 0x7f5194f795f8>"
      ]
     },
     "metadata": {},
     "output_type": "display_data"
    }
   ],
   "source": [
    "#Time series plot\n",
    "plt.figure(figsize=(15,3));\n",
    "df['data']['Full%'].plot();\n",
    "plt.show();\n"
   ]
  },
  {
   "cell_type": "code",
   "execution_count": 7,
   "metadata": {},
   "outputs": [
    {
     "data": {
      "text/plain": [
       "12.0     28\n",
       "24.0     14\n",
       "68.0     13\n",
       "136.0    12\n",
       "7.0       3\n",
       "6.0       2\n",
       "14.0      1\n",
       "3.0       1\n",
       "22.0      1\n",
       "13.0      1\n",
       "Name: Free_Spots, dtype: int64"
      ]
     },
     "execution_count": 7,
     "metadata": {},
     "output_type": "execute_result"
    }
   ],
   "source": [
    "df['data']['Free_Spots'].value_counts().head(10)"
   ]
  },
  {
   "cell_type": "code",
   "execution_count": 8,
   "metadata": {},
   "outputs": [
    {
     "name": "stdout",
     "output_type": "stream",
     "text": [
      "Entire dataset\n"
     ]
    },
    {
     "data": {
      "image/png": "[encoded data removed]",
      "text/plain": [
       "<matplotlib.figure.Figure at 0x7f518d0bce10>"
      ]
     },
     "metadata": {},
     "output_type": "display_data"
    },
    {
     "data": {
      "image/png": "[encoded data removed]",
      "text/plain": [
       "<matplotlib.figure.Figure at 0x7f518cfce940>"
      ]
     },
     "metadata": {},
     "output_type": "display_data"
    }
   ],
   "source": [
    "print('Entire dataset')\n",
    "df['data'][['Free_Spots','Used_Spots']].hist()\n",
    "plt.show()\n",
    "df['data'][['Free_Spots','Used_Spots']].boxplot()\n",
    "plt.show()"
   ]
  },
  {
   "cell_type": "code",
   "execution_count": 9,
   "metadata": {
    "scrolled": false
   },
   "outputs": [
    {
     "name": "stdout",
     "output_type": "stream",
     "text": [
      "Weekdays\n"
     ]
    },
    {
     "data": {
      "image/png": "[encoded data removed]",
      "text/plain": [
       "<matplotlib.figure.Figure at 0x7f518d016d68>"
      ]
     },
     "metadata": {},
     "output_type": "display_data"
    },
    {
     "data": {
      "image/png": "[encoded data removed]",
      "text/plain": [
       "<matplotlib.figure.Figure at 0x7f518ce298d0>"
      ]
     },
     "metadata": {},
     "output_type": "display_data"
    }
   ],
   "source": [
    "print('Weekdays')\n",
    "obj = df['data'][df['data'].Weekday.isin({'Yes'})]\n",
    "obj[['Free_Spots','Used_Spots']].hist()\n",
    "plt.show()\n",
    "obj[['Free_Spots','Used_Spots']].boxplot()\n",
    "plt.show()"
   ]
  },
  {
   "cell_type": "code",
   "execution_count": 10,
   "metadata": {},
   "outputs": [
    {
     "name": "stdout",
     "output_type": "stream",
     "text": [
      "Weekends\n"
     ]
    },
    {
     "data": {
      "image/png": "[encoded data removed]",
      "text/plain": [
       "<matplotlib.figure.Figure at 0x7f518ce77320>"
      ]
     },
     "metadata": {},
     "output_type": "display_data"
    },
    {
     "data": {
      "image/png": "[encoded data removed]",
      "text/plain": [
       "<matplotlib.figure.Figure at 0x7f518cfb76d8>"
      ]
     },
     "metadata": {},
     "output_type": "display_data"
    }
   ],
   "source": [
    "print('Weekends')\n",
    "obj = df['data'][df['data'].Weekday.isin({'No'})]\n",
    "obj[['Free_Spots','Used_Spots']].hist()\n",
    "plt.show()\n",
    "obj[['Free_Spots','Used_Spots']].boxplot()\n",
    "plt.show()"
   ]
  },
  {
   "cell_type": "markdown",
   "metadata": {
    "collapsed": true
   },
   "source": [
    "The boxplots tell me that all observations was made on weekdays. This means i will not be able to guratantee the performance of weekends, as i cant validate the model on these days, and cannot look for differences between weekdays and weekends."
   ]
  },
  {
   "cell_type": "markdown",
   "metadata": {},
   "source": [
    "# Modeling"
   ]
  },
  {
   "cell_type": "markdown",
   "metadata": {},
   "source": [
    "## Test train split\n",
    "Before any modeling is done, the dataset will be spit into a test/train set."
   ]
  },
  {
   "cell_type": "code",
   "execution_count": 11,
   "metadata": {
    "collapsed": true
   },
   "outputs": [],
   "source": [
    "from sklearn.model_selection import train_test_split\n",
    "TRAIN,TEST,notused,notused = train_test_split(df['data']['Full%'],\n",
    "                                                    df['data']['Full%'], \n",
    "                                                    test_size=0.25)\n",
    "TRAIN.sort_index(inplace=True)\n",
    "TEST.sort_index(inplace=True)"
   ]
  },
  {
   "cell_type": "code",
   "execution_count": 12,
   "metadata": {},
   "outputs": [
    {
     "data": {
      "image/png": "[encoded data removed]",
      "text/plain": [
       "<matplotlib.figure.Figure at 0x7f518c53e6d8>"
      ]
     },
     "metadata": {},
     "output_type": "display_data"
    },
    {
     "data": {
      "image/png": "[encoded data removed]",
      "text/plain": [
       "<matplotlib.figure.Figure at 0x7f5194f18c50>"
      ]
     },
     "metadata": {},
     "output_type": "display_data"
    }
   ],
   "source": [
    "plt.figure(figsize=(15,3));\n",
    "TRAIN.plot(color='blue')\n",
    "plt.show();\n",
    "\n",
    "plt.figure(figsize=(15,3));\n",
    "TEST.plot(color='red',sharex=True)\n",
    "plt.show()"
   ]
  },
  {
   "cell_type": "markdown",
   "metadata": {},
   "source": [
    "## Modeling\n",
    "### LSTM Recurrent Neural Network"
   ]
  },
  {
   "cell_type": "markdown",
   "metadata": {},
   "source": [
    "To prepare the data for an LSTM network, i will have to create a x_train and y_train from the train part, and similarly for the test. the first entry of x_train should be TRAIN[0] and for y_train it should be TRAIN[1] because i am trying to predict the next value. I will have to discard the last value, as there is no y value for this entry."
   ]
  },
  {
   "cell_type": "code",
   "execution_count": 41,
   "metadata": {},
   "outputs": [
    {
     "name": "stdout",
     "output_type": "stream",
     "text": [
      "(56,)\n",
      "(19,)\n"
     ]
    }
   ],
   "source": [
    "# create train lists\n",
    "x_train = []\n",
    "y_train = []\n",
    "\n",
    "# create test lists\n",
    "x_test = []\n",
    "y_test = []\n",
    "\n",
    "# fill the train lists\n",
    "for i in range(len(TRAIN)-1):\n",
    "    x_train.append(TRAIN[i])\n",
    "    y_train.append(TRAIN[i+1])\n",
    "\n",
    "# fill the test lists\n",
    "for i in range(len(TEST)-1):\n",
    "    x_test.append(TEST[i])\n",
    "    y_test.append(TEST[i+1])\n",
    "\n",
    "# change the lists to numpy arrays\n",
    "x_train, y_train = np.array(x_train), np.array(y_train)\n",
    "x_test, y_test = np.array(x_test), np.array(y_test)\n",
    "\n",
    "print(x_train.shape)\n",
    "print(x_test.shape)\n",
    "\n",
    "\n"
   ]
  },
  {
   "cell_type": "code",
   "execution_count": 14,
   "metadata": {
    "collapsed": true
   },
   "outputs": [],
   "source": [
    "trainX = x_train.reshape(x_train.shape[0], 1, 1)\n",
    "trainY = y_train.reshape(y_train.shape[0], 1, 1)"
   ]
  },
  {
   "cell_type": "code",
   "execution_count": 43,
   "metadata": {},
   "outputs": [],
   "source": [
    "x_train = x_train.reshape(1,56,1)\n",
    "y_train = x_train.reshape(1,56,1)\n",
    "\n",
    "x_test = x_test.reshape(1,19,1)\n",
    "y_test = x_test.reshape(1,19,1)"
   ]
  },
  {
   "cell_type": "code",
   "execution_count": 16,
   "metadata": {},
   "outputs": [
    {
     "name": "stderr",
     "output_type": "stream",
     "text": [
      "Using TensorFlow backend.\n",
      "/home/bok/anaconda3/lib/python3.6/importlib/_bootstrap.py:219: RuntimeWarning: compiletime version 3.5 of module 'tensorflow.python.framework.fast_tensor_util' does not match runtime version 3.6\n",
      "  return f(*args, **kwds)\n"
     ]
    }
   ],
   "source": [
    "from keras.models import Sequential\n",
    "from keras.layers import Dense, Dropout\n",
    "from keras.layers import LSTM"
   ]
  },
  {
   "cell_type": "code",
   "execution_count": 58,
   "metadata": {},
   "outputs": [],
   "source": [
    "from sklearn import cross_validation\n",
    "import datetime\n",
    "\n",
    "#### two layer cross validation decision tree\n",
    "#select X and Y                                                \n",
    "x = x_train\n",
    "y = y_train\n",
    "\n",
    "# Tree complexity parameter - constraint on maximum depth\n",
    "Denseness = np.arange(1, 120, )\n",
    "\n",
    "\n",
    "# Initialize variable\n",
    "NN_Error_train = np.empty((len(Denseness)))\n",
    "NN_Error_test = np.empty((len(Denseness)))\n",
    "\n",
    "  \n",
    "# inner loop (model selection)\n",
    "for i, t in enumerate(Denseness):\n",
    "       \n",
    "    model = Sequential()\n",
    "\n",
    "    # adding layers\n",
    "    model.add(LSTM(t, input_shape=(None,1), return_sequences=True))\n",
    "    model.add(Dropout(0.2))\n",
    "    model.add(Dense(1, activation = 'linear'))\n",
    "\n",
    "    # tweaking settings\n",
    "    #adam = optimizers.Adam(lr=0.001, beta_1=0.9,\n",
    "    #beta_2=0.999, epsilon=1e-08, decay=0.0)\n",
    "    #model.compile(loss='binary_crossentropy', optimizer=adam, metrics=['accuracy'])\n",
    "    model.compile(loss='mean_absolute_error', optimizer='adam',metrics=['accuracy'])\n",
    "    \n",
    "    # fitting model\n",
    "    history = model.fit(x,y, validation_data=(x_test,y_test),\n",
    "    epochs = 25, batch_size=500, shuffle=False,verbose=0)\n",
    "\n",
    "    # predict\n",
    "    y_est_test = model.predict(x_test, batch_size = 1000).reshape((-1,))\n",
    "    y_est_train = model.predict(x_train, batch_size = 1000).reshape((-1,))\n",
    "\n",
    "    #evaluate misclasification in the current Kfold\n",
    "    misclass_rate_test = sum(np.abs(y_est_test - y_test.reshape(19))) / float(len(y_est_test))\n",
    "    misclass_rate_train = sum(np.abs(y_est_train - y_train.reshape(56))) / float(len(y_est_train))\n",
    "    NN_Error_test[i], NN_Error_train[i] = misclass_rate_test, misclass_rate_train\n"
   ]
  },
  {
   "cell_type": "code",
   "execution_count": 55,
   "metadata": {},
   "outputs": [
    {
     "data": {
      "text/plain": [
       "(10,)"
      ]
     },
     "execution_count": 55,
     "metadata": {},
     "output_type": "execute_result"
    }
   ],
   "source": [
    "NN_Error_test.shape"
   ]
  },
  {
   "cell_type": "code",
   "execution_count": 59,
   "metadata": {},
   "outputs": [
    {
     "data": {
      "image/png": "[encoded data removed]",
      "text/plain": [
       "<matplotlib.figure.Figure at 0x7f51561fef28>"
      ]
     },
     "metadata": {},
     "output_type": "display_data"
    }
   ],
   "source": [
    "f = plt.figure()\n",
    "plt.plot(Denseness, NN_Error_train)\n",
    "plt.plot(Denseness, NN_Error_test)\n",
    "plt.xlabel('Model complexity (t-value')\n",
    "plt.ylabel('Error (misclassification rate, CV K={0})'.format(1))\n",
    "plt.legend(['Error_train','Error_test'])\n",
    "    \n",
    "plt.show()"
   ]
  },
  {
   "cell_type": "code",
   "execution_count": 142,
   "metadata": {
    "scrolled": true
   },
   "outputs": [
    {
     "name": "stdout",
     "output_type": "stream",
     "text": [
      "Train on 2 samples, validate on 1 samples\n",
      "Epoch 1/500\n",
      " - 4s - loss: 27.6131 - acc: 0.1250 - val_loss: 23.1262 - val_acc: 0.0833\n",
      "Epoch 2/500\n",
      " - 0s - loss: 27.3934 - acc: 0.1667 - val_loss: 22.8348 - val_acc: 0.0833\n",
      "Epoch 3/500\n",
      " - 0s - loss: 27.0899 - acc: 0.1667 - val_loss: 22.5469 - val_acc: 0.0833\n",
      "Epoch 4/500\n",
      " - 0s - loss: 26.8961 - acc: 0.1667 - val_loss: 22.2636 - val_acc: 0.0833\n",
      "Epoch 5/500\n",
      " - 0s - loss: 26.6006 - acc: 0.1667 - val_loss: 21.9842 - val_acc: 0.0833\n",
      "Epoch 6/500\n",
      " - 0s - loss: 26.4093 - acc: 0.1667 - val_loss: 21.7001 - val_acc: 0.0000e+00\n",
      "Epoch 7/500\n",
      " - 0s - loss: 26.3034 - acc: 0.1250 - val_loss: 21.4077 - val_acc: 0.0000e+00\n",
      "Epoch 8/500\n",
      " - 0s - loss: 25.9517 - acc: 0.1250 - val_loss: 21.1131 - val_acc: 0.0000e+00\n",
      "Epoch 9/500\n",
      " - 0s - loss: 25.7100 - acc: 0.1250 - val_loss: 20.8097 - val_acc: 0.0000e+00\n",
      "Epoch 10/500\n",
      " - 0s - loss: 25.6490 - acc: 0.1250 - val_loss: 20.4896 - val_acc: 0.0000e+00\n",
      "Epoch 11/500\n",
      " - 0s - loss: 25.2010 - acc: 0.1250 - val_loss: 20.1589 - val_acc: 0.0000e+00\n",
      "Epoch 12/500\n",
      " - 0s - loss: 24.7829 - acc: 0.1250 - val_loss: 19.8117 - val_acc: 0.0000e+00\n",
      "Epoch 13/500\n",
      " - 0s - loss: 24.6215 - acc: 0.1250 - val_loss: 19.4500 - val_acc: 0.0000e+00\n",
      "Epoch 14/500\n",
      " - 0s - loss: 24.2543 - acc: 0.1250 - val_loss: 19.0809 - val_acc: 0.0000e+00\n",
      "Epoch 15/500\n",
      " - 0s - loss: 24.0607 - acc: 0.1250 - val_loss: 18.6944 - val_acc: 0.0000e+00\n",
      "Epoch 16/500\n",
      " - 0s - loss: 23.5706 - acc: 0.0833 - val_loss: 18.3026 - val_acc: 0.0833\n",
      "Epoch 17/500\n",
      " - 0s - loss: 23.3745 - acc: 0.1250 - val_loss: 17.9108 - val_acc: 0.0833\n",
      "Epoch 18/500\n",
      " - 0s - loss: 22.8527 - acc: 0.1250 - val_loss: 17.6088 - val_acc: 0.0833\n",
      "Epoch 19/500\n",
      " - 0s - loss: 22.7022 - acc: 0.1250 - val_loss: 17.3128 - val_acc: 0.0833\n",
      "Epoch 20/500\n",
      " - 0s - loss: 22.4846 - acc: 0.1250 - val_loss: 17.0665 - val_acc: 0.0833\n",
      "Epoch 21/500\n",
      " - 0s - loss: 22.2244 - acc: 0.1667 - val_loss: 16.8616 - val_acc: 0.0000e+00\n",
      "Epoch 22/500\n",
      " - 0s - loss: 22.0388 - acc: 0.1667 - val_loss: 16.6738 - val_acc: 0.0000e+00\n",
      "Epoch 23/500\n",
      " - 0s - loss: 21.5226 - acc: 0.1250 - val_loss: 16.4955 - val_acc: 0.0000e+00\n",
      "Epoch 24/500\n",
      " - 0s - loss: 21.4409 - acc: 0.1250 - val_loss: 16.3281 - val_acc: 0.0000e+00\n",
      "Epoch 25/500\n",
      " - 0s - loss: 21.0423 - acc: 0.1250 - val_loss: 16.1716 - val_acc: 0.0000e+00\n",
      "Epoch 26/500\n",
      " - 0s - loss: 21.3330 - acc: 0.1250 - val_loss: 16.0220 - val_acc: 0.0000e+00\n",
      "Epoch 27/500\n",
      " - 0s - loss: 21.0500 - acc: 0.0833 - val_loss: 15.8786 - val_acc: 0.0000e+00\n",
      "Epoch 28/500\n",
      " - 0s - loss: 20.9195 - acc: 0.1667 - val_loss: 15.7398 - val_acc: 0.0000e+00\n",
      "Epoch 29/500\n",
      " - 0s - loss: 20.9222 - acc: 0.1250 - val_loss: 15.6093 - val_acc: 0.0000e+00\n",
      "Epoch 30/500\n",
      " - 0s - loss: 20.7712 - acc: 0.1250 - val_loss: 15.4804 - val_acc: 0.0000e+00\n",
      "Epoch 31/500\n",
      " - 0s - loss: 20.6943 - acc: 0.0833 - val_loss: 15.3589 - val_acc: 0.0000e+00\n",
      "Epoch 32/500\n",
      " - 0s - loss: 20.4524 - acc: 0.0833 - val_loss: 15.2428 - val_acc: 0.0000e+00\n",
      "Epoch 33/500\n",
      " - 0s - loss: 20.2555 - acc: 0.1250 - val_loss: 15.1314 - val_acc: 0.0000e+00\n",
      "Epoch 34/500\n",
      " - 0s - loss: 20.3006 - acc: 0.0833 - val_loss: 15.0243 - val_acc: 0.0833\n",
      "Epoch 35/500\n",
      " - 0s - loss: 20.0882 - acc: 0.0833 - val_loss: 14.9197 - val_acc: 0.0833\n",
      "Epoch 36/500\n",
      " - 0s - loss: 20.1227 - acc: 0.0833 - val_loss: 14.8175 - val_acc: 0.0833\n",
      "Epoch 37/500\n",
      " - 0s - loss: 19.9450 - acc: 0.0833 - val_loss: 14.7157 - val_acc: 0.0833\n",
      "Epoch 38/500\n",
      " - 0s - loss: 20.0593 - acc: 0.0833 - val_loss: 14.6112 - val_acc: 0.0833\n",
      "Epoch 39/500\n",
      " - 0s - loss: 19.7579 - acc: 0.0833 - val_loss: 14.5042 - val_acc: 0.0833\n",
      "Epoch 40/500\n",
      " - 0s - loss: 19.7818 - acc: 0.0833 - val_loss: 14.3986 - val_acc: 0.1667\n",
      "Epoch 41/500\n",
      " - 0s - loss: 19.5984 - acc: 0.0833 - val_loss: 14.2911 - val_acc: 0.1667\n",
      "Epoch 42/500\n",
      " - 0s - loss: 19.2046 - acc: 0.0833 - val_loss: 14.2058 - val_acc: 0.1667\n",
      "Epoch 43/500\n",
      " - 0s - loss: 19.6561 - acc: 0.1250 - val_loss: 14.1310 - val_acc: 0.1667\n",
      "Epoch 44/500\n",
      " - 0s - loss: 19.6002 - acc: 0.1250 - val_loss: 14.0563 - val_acc: 0.0833\n",
      "Epoch 45/500\n",
      " - 0s - loss: 19.1890 - acc: 0.1250 - val_loss: 13.9720 - val_acc: 0.0833\n",
      "Epoch 46/500\n",
      " - 0s - loss: 18.7284 - acc: 0.1250 - val_loss: 13.8800 - val_acc: 0.0833\n",
      "Epoch 47/500\n",
      " - 0s - loss: 18.8744 - acc: 0.1250 - val_loss: 13.7825 - val_acc: 0.0833\n",
      "Epoch 48/500\n",
      " - 0s - loss: 18.9237 - acc: 0.1250 - val_loss: 13.6875 - val_acc: 0.0833\n",
      "Epoch 49/500\n",
      " - 0s - loss: 18.9682 - acc: 0.1250 - val_loss: 13.5850 - val_acc: 0.0833\n",
      "Epoch 50/500\n",
      " - 0s - loss: 18.4440 - acc: 0.1250 - val_loss: 13.4765 - val_acc: 0.0833\n",
      "Epoch 51/500\n",
      " - 0s - loss: 18.4904 - acc: 0.1250 - val_loss: 13.3656 - val_acc: 0.0833\n",
      "Epoch 52/500\n",
      " - 0s - loss: 18.6210 - acc: 0.1250 - val_loss: 13.2509 - val_acc: 0.0833\n",
      "Epoch 53/500\n",
      " - 0s - loss: 18.3603 - acc: 0.1667 - val_loss: 13.1207 - val_acc: 0.0833\n",
      "Epoch 54/500\n",
      " - 0s - loss: 17.8662 - acc: 0.1250 - val_loss: 12.9641 - val_acc: 0.0833\n",
      "Epoch 55/500\n",
      " - 0s - loss: 17.4536 - acc: 0.1250 - val_loss: 12.7939 - val_acc: 0.0833\n",
      "Epoch 56/500\n",
      " - 0s - loss: 17.8435 - acc: 0.1250 - val_loss: 12.6139 - val_acc: 0.0833\n",
      "Epoch 57/500\n",
      " - 0s - loss: 17.2692 - acc: 0.1667 - val_loss: 12.4482 - val_acc: 0.1667\n",
      "Epoch 58/500\n",
      " - 0s - loss: 17.3047 - acc: 0.1250 - val_loss: 12.2973 - val_acc: 0.1667\n",
      "Epoch 59/500\n",
      " - 0s - loss: 17.2612 - acc: 0.1250 - val_loss: 12.1817 - val_acc: 0.1667\n",
      "Epoch 60/500\n",
      " - 0s - loss: 17.0950 - acc: 0.1250 - val_loss: 12.0696 - val_acc: 0.1667\n",
      "Epoch 61/500\n",
      " - 0s - loss: 16.9192 - acc: 0.1250 - val_loss: 11.9487 - val_acc: 0.0833\n",
      "Epoch 62/500\n",
      " - 0s - loss: 16.8703 - acc: 0.1250 - val_loss: 11.8998 - val_acc: 0.1667\n",
      "Epoch 63/500\n",
      " - 0s - loss: 16.3465 - acc: 0.1667 - val_loss: 11.7096 - val_acc: 0.1667\n",
      "Epoch 64/500\n",
      " - 0s - loss: 16.0463 - acc: 0.1250 - val_loss: 11.5416 - val_acc: 0.2500\n",
      "Epoch 65/500\n",
      " - 0s - loss: 16.1215 - acc: 0.0833 - val_loss: 11.3925 - val_acc: 0.2500\n",
      "Epoch 66/500\n",
      " - 0s - loss: 16.1655 - acc: 0.1250 - val_loss: 11.3200 - val_acc: 0.2500\n",
      "Epoch 67/500\n",
      " - 0s - loss: 16.0731 - acc: 0.1667 - val_loss: 11.2706 - val_acc: 0.1667\n",
      "Epoch 68/500\n",
      " - 0s - loss: 15.4653 - acc: 0.1250 - val_loss: 11.2658 - val_acc: 0.1667\n",
      "Epoch 69/500\n",
      " - 0s - loss: 15.7355 - acc: 0.2083 - val_loss: 11.1785 - val_acc: 0.1667\n",
      "Epoch 70/500\n",
      " - 0s - loss: 15.4160 - acc: 0.1250 - val_loss: 11.0195 - val_acc: 0.1667\n",
      "Epoch 71/500\n",
      " - 0s - loss: 15.3018 - acc: 0.1250 - val_loss: 10.8755 - val_acc: 0.1667\n",
      "Epoch 72/500\n",
      " - 0s - loss: 15.4276 - acc: 0.1250 - val_loss: 10.7624 - val_acc: 0.1667\n",
      "Epoch 73/500\n",
      " - 0s - loss: 15.1818 - acc: 0.1667 - val_loss: 10.6250 - val_acc: 0.1667\n",
      "Epoch 74/500\n",
      " - 0s - loss: 15.0457 - acc: 0.1250 - val_loss: 10.5041 - val_acc: 0.1667\n",
      "Epoch 75/500\n",
      " - 0s - loss: 14.8047 - acc: 0.1667 - val_loss: 10.3982 - val_acc: 0.1667\n",
      "Epoch 76/500\n",
      " - 0s - loss: 14.7183 - acc: 0.1250 - val_loss: 10.3617 - val_acc: 0.1667\n",
      "Epoch 77/500\n",
      " - 0s - loss: 14.6265 - acc: 0.1667 - val_loss: 10.3500 - val_acc: 0.0833\n",
      "Epoch 78/500\n",
      " - 0s - loss: 14.5730 - acc: 0.0833 - val_loss: 10.2913 - val_acc: 0.1667\n",
      "Epoch 79/500\n",
      " - 0s - loss: 14.1203 - acc: 0.1250 - val_loss: 10.1999 - val_acc: 0.0833\n",
      "Epoch 80/500\n",
      " - 0s - loss: 13.7845 - acc: 0.1250 - val_loss: 10.0222 - val_acc: 0.0833\n",
      "Epoch 81/500\n",
      " - 0s - loss: 13.7785 - acc: 0.1250 - val_loss: 9.9269 - val_acc: 0.0833\n",
      "Epoch 82/500\n",
      " - 0s - loss: 14.1416 - acc: 0.2083 - val_loss: 9.8972 - val_acc: 0.0833\n",
      "Epoch 83/500\n",
      " - 0s - loss: 13.7111 - acc: 0.1667 - val_loss: 9.9370 - val_acc: 0.0000e+00\n",
      "Epoch 84/500\n",
      " - 0s - loss: 13.9742 - acc: 0.2083 - val_loss: 9.9623 - val_acc: 0.0000e+00\n",
      "Epoch 85/500\n",
      " - 0s - loss: 13.6044 - acc: 0.2083 - val_loss: 9.9211 - val_acc: 0.0000e+00\n",
      "Epoch 86/500\n",
      " - 0s - loss: 13.2668 - acc: 0.1667 - val_loss: 9.7852 - val_acc: 0.0000e+00\n",
      "Epoch 87/500\n",
      " - 0s - loss: 13.4861 - acc: 0.1667 - val_loss: 9.6967 - val_acc: 0.0000e+00\n",
      "Epoch 88/500\n",
      " - 0s - loss: 12.8639 - acc: 0.2083 - val_loss: 9.5082 - val_acc: 0.0000e+00\n",
      "Epoch 89/500\n",
      " - 0s - loss: 12.6944 - acc: 0.2083 - val_loss: 9.4417 - val_acc: 0.0000e+00\n",
      "Epoch 90/500\n",
      " - 0s - loss: 12.7187 - acc: 0.1250 - val_loss: 9.4443 - val_acc: 0.0000e+00\n",
      "Epoch 91/500\n",
      " - 0s - loss: 12.6429 - acc: 0.1667 - val_loss: 9.4484 - val_acc: 0.0000e+00\n",
      "Epoch 92/500\n",
      " - 0s - loss: 12.3515 - acc: 0.2083 - val_loss: 9.4215 - val_acc: 0.0000e+00\n",
      "Epoch 93/500\n",
      " - 0s - loss: 12.3806 - acc: 0.2083 - val_loss: 9.2978 - val_acc: 0.0833\n"
     ]
    },
    {
     "name": "stdout",
     "output_type": "stream",
     "text": [
      "Epoch 94/500\n",
      " - 0s - loss: 12.1592 - acc: 0.2083 - val_loss: 9.1337 - val_acc: 0.0833\n",
      "Epoch 95/500\n",
      " - 0s - loss: 12.1439 - acc: 0.2500 - val_loss: 9.0665 - val_acc: 0.0000e+00\n",
      "Epoch 96/500\n",
      " - 0s - loss: 12.0143 - acc: 0.2917 - val_loss: 8.9247 - val_acc: 0.0833\n",
      "Epoch 97/500\n",
      " - 0s - loss: 12.2098 - acc: 0.1250 - val_loss: 8.5551 - val_acc: 0.1667\n",
      "Epoch 98/500\n",
      " - 0s - loss: 11.8049 - acc: 0.1250 - val_loss: 8.4487 - val_acc: 0.1667\n",
      "Epoch 99/500\n",
      " - 0s - loss: 11.7346 - acc: 0.1667 - val_loss: 8.5628 - val_acc: 0.0833\n",
      "Epoch 100/500\n",
      " - 0s - loss: 11.6429 - acc: 0.2083 - val_loss: 8.5735 - val_acc: 0.0833\n",
      "Epoch 101/500\n",
      " - 0s - loss: 11.2100 - acc: 0.1667 - val_loss: 8.5851 - val_acc: 0.0000e+00\n",
      "Epoch 102/500\n",
      " - 0s - loss: 11.6489 - acc: 0.2500 - val_loss: 8.5705 - val_acc: 0.0000e+00\n",
      "Epoch 103/500\n",
      " - 0s - loss: 11.3994 - acc: 0.1667 - val_loss: 8.3924 - val_acc: 0.0000e+00\n",
      "Epoch 104/500\n",
      " - 0s - loss: 10.8700 - acc: 0.3333 - val_loss: 8.4143 - val_acc: 0.0000e+00\n",
      "Epoch 105/500\n",
      " - 0s - loss: 11.2719 - acc: 0.1667 - val_loss: 8.3585 - val_acc: 0.0000e+00\n",
      "Epoch 106/500\n",
      " - 0s - loss: 10.8405 - acc: 0.2917 - val_loss: 8.0502 - val_acc: 0.0000e+00\n",
      "Epoch 107/500\n",
      " - 0s - loss: 10.5472 - acc: 0.1250 - val_loss: 7.7936 - val_acc: 0.0833\n",
      "Epoch 108/500\n",
      " - 0s - loss: 10.8575 - acc: 0.1250 - val_loss: 7.7032 - val_acc: 0.0833\n",
      "Epoch 109/500\n",
      " - 0s - loss: 10.4677 - acc: 0.2083 - val_loss: 7.7732 - val_acc: 0.0000e+00\n",
      "Epoch 110/500\n",
      " - 0s - loss: 10.2348 - acc: 0.1250 - val_loss: 7.7015 - val_acc: 0.0000e+00\n",
      "Epoch 111/500\n",
      " - 0s - loss: 10.5017 - acc: 0.2917 - val_loss: 7.6719 - val_acc: 0.0000e+00\n",
      "Epoch 112/500\n",
      " - 0s - loss: 10.3481 - acc: 0.2500 - val_loss: 7.7308 - val_acc: 0.0000e+00\n",
      "Epoch 113/500\n",
      " - 0s - loss: 10.1401 - acc: 0.2500 - val_loss: 7.6848 - val_acc: 0.0000e+00\n",
      "Epoch 114/500\n",
      " - 0s - loss: 10.1431 - acc: 0.2083 - val_loss: 7.3723 - val_acc: 0.0833\n",
      "Epoch 115/500\n",
      " - 0s - loss: 10.0307 - acc: 0.2917 - val_loss: 7.0581 - val_acc: 0.0833\n",
      "Epoch 116/500\n",
      " - 0s - loss: 9.5639 - acc: 0.1667 - val_loss: 6.9335 - val_acc: 0.0833\n",
      "Epoch 117/500\n",
      " - 0s - loss: 10.0068 - acc: 0.1250 - val_loss: 6.9660 - val_acc: 0.0833\n",
      "Epoch 118/500\n",
      " - 0s - loss: 9.6809 - acc: 0.2500 - val_loss: 7.1193 - val_acc: 0.0833\n",
      "Epoch 119/500\n",
      " - 0s - loss: 9.7829 - acc: 0.1667 - val_loss: 7.0922 - val_acc: 0.0833\n",
      "Epoch 120/500\n",
      " - 0s - loss: 9.5924 - acc: 0.2500 - val_loss: 6.7947 - val_acc: 0.0000e+00\n",
      "Epoch 121/500\n",
      " - 0s - loss: 9.6296 - acc: 0.1667 - val_loss: 6.5190 - val_acc: 0.0833\n",
      "Epoch 122/500\n",
      " - 0s - loss: 9.0919 - acc: 0.0833 - val_loss: 6.5249 - val_acc: 0.0833\n",
      "Epoch 123/500\n",
      " - 0s - loss: 8.9749 - acc: 0.1667 - val_loss: 6.4942 - val_acc: 0.0833\n",
      "Epoch 124/500\n",
      " - 0s - loss: 9.4617 - acc: 0.1250 - val_loss: 6.4049 - val_acc: 0.0833\n",
      "Epoch 125/500\n",
      " - 0s - loss: 8.6851 - acc: 0.2500 - val_loss: 6.3014 - val_acc: 0.0000e+00\n",
      "Epoch 126/500\n",
      " - 0s - loss: 9.3378 - acc: 0.2083 - val_loss: 6.2698 - val_acc: 0.0000e+00\n",
      "Epoch 127/500\n",
      " - 0s - loss: 8.1517 - acc: 0.2083 - val_loss: 6.2487 - val_acc: 0.0000e+00\n",
      "Epoch 128/500\n",
      " - 0s - loss: 8.1130 - acc: 0.3333 - val_loss: 6.2958 - val_acc: 0.0000e+00\n",
      "Epoch 129/500\n",
      " - 0s - loss: 8.5788 - acc: 0.2500 - val_loss: 6.2228 - val_acc: 0.0000e+00\n",
      "Epoch 130/500\n",
      " - 0s - loss: 8.3204 - acc: 0.2083 - val_loss: 5.8258 - val_acc: 0.0000e+00\n",
      "Epoch 131/500\n",
      " - 0s - loss: 7.9884 - acc: 0.3333 - val_loss: 5.4970 - val_acc: 0.0833\n",
      "Epoch 132/500\n",
      " - 0s - loss: 9.3639 - acc: 0.1250 - val_loss: 5.2895 - val_acc: 0.0833\n",
      "Epoch 133/500\n",
      " - 0s - loss: 8.0575 - acc: 0.2500 - val_loss: 5.1947 - val_acc: 0.0833\n",
      "Epoch 134/500\n",
      " - 0s - loss: 7.9533 - acc: 0.2917 - val_loss: 5.1545 - val_acc: 0.0833\n",
      "Epoch 135/500\n",
      " - 0s - loss: 7.9038 - acc: 0.1250 - val_loss: 5.1559 - val_acc: 0.0833\n",
      "Epoch 136/500\n",
      " - 0s - loss: 8.0494 - acc: 0.1667 - val_loss: 5.1620 - val_acc: 0.0833\n",
      "Epoch 137/500\n",
      " - 0s - loss: 7.9552 - acc: 0.1667 - val_loss: 5.1495 - val_acc: 0.0833\n",
      "Epoch 138/500\n",
      " - 0s - loss: 7.5359 - acc: 0.1667 - val_loss: 5.2746 - val_acc: 0.0833\n",
      "Epoch 139/500\n",
      " - 0s - loss: 7.5084 - acc: 0.2500 - val_loss: 5.2578 - val_acc: 0.0833\n",
      "Epoch 140/500\n",
      " - 0s - loss: 7.6201 - acc: 0.2500 - val_loss: 5.0963 - val_acc: 0.0833\n",
      "Epoch 141/500\n",
      " - 0s - loss: 7.7020 - acc: 0.2083 - val_loss: 4.8113 - val_acc: 0.0833\n",
      "Epoch 142/500\n",
      " - 0s - loss: 7.0589 - acc: 0.2500 - val_loss: 4.5929 - val_acc: 0.0000e+00\n",
      "Epoch 143/500\n",
      " - 0s - loss: 7.4798 - acc: 0.1667 - val_loss: 4.4442 - val_acc: 0.0000e+00\n",
      "Epoch 144/500\n",
      " - 0s - loss: 6.9418 - acc: 0.1250 - val_loss: 4.2997 - val_acc: 0.0000e+00\n",
      "Epoch 145/500\n",
      " - 0s - loss: 6.4881 - acc: 0.1250 - val_loss: 4.2439 - val_acc: 0.0000e+00\n",
      "Epoch 146/500\n",
      " - 0s - loss: 6.9923 - acc: 0.1250 - val_loss: 4.2543 - val_acc: 0.0000e+00\n",
      "Epoch 147/500\n",
      " - 0s - loss: 6.8732 - acc: 0.2083 - val_loss: 4.5013 - val_acc: 0.0000e+00\n",
      "Epoch 148/500\n",
      " - 0s - loss: 6.5905 - acc: 0.1667 - val_loss: 4.5291 - val_acc: 0.0833\n",
      "Epoch 149/500\n",
      " - 0s - loss: 6.2224 - acc: 0.2500 - val_loss: 4.4762 - val_acc: 0.0833\n",
      "Epoch 150/500\n",
      " - 0s - loss: 6.5554 - acc: 0.2917 - val_loss: 4.2327 - val_acc: 0.0000e+00\n",
      "Epoch 151/500\n",
      " - 0s - loss: 6.8059 - acc: 0.1667 - val_loss: 3.8726 - val_acc: 0.0833\n",
      "Epoch 152/500\n",
      " - 0s - loss: 5.9392 - acc: 0.2083 - val_loss: 3.7718 - val_acc: 0.1667\n",
      "Epoch 153/500\n",
      " - 0s - loss: 6.4648 - acc: 0.2917 - val_loss: 3.7732 - val_acc: 0.0833\n",
      "Epoch 154/500\n",
      " - 0s - loss: 6.0095 - acc: 0.2500 - val_loss: 3.7656 - val_acc: 0.0833\n",
      "Epoch 155/500\n",
      " - 0s - loss: 5.9644 - acc: 0.4167 - val_loss: 3.7469 - val_acc: 0.0833\n",
      "Epoch 156/500\n",
      " - 0s - loss: 5.7731 - acc: 0.2917 - val_loss: 3.7296 - val_acc: 0.0833\n",
      "Epoch 157/500\n",
      " - 0s - loss: 5.9346 - acc: 0.2917 - val_loss: 3.6557 - val_acc: 0.0833\n",
      "Epoch 158/500\n",
      " - 0s - loss: 5.7783 - acc: 0.2500 - val_loss: 3.3767 - val_acc: 0.1667\n",
      "Epoch 159/500\n",
      " - 0s - loss: 5.1505 - acc: 0.2500 - val_loss: 3.1002 - val_acc: 0.2500\n",
      "Epoch 160/500\n",
      " - 0s - loss: 5.5124 - acc: 0.2083 - val_loss: 2.9378 - val_acc: 0.2500\n",
      "Epoch 161/500\n",
      " - 0s - loss: 5.6994 - acc: 0.2083 - val_loss: 2.9685 - val_acc: 0.1667\n",
      "Epoch 162/500\n",
      " - 0s - loss: 5.2923 - acc: 0.3333 - val_loss: 2.8907 - val_acc: 0.0833\n",
      "Epoch 163/500\n",
      " - 0s - loss: 5.5590 - acc: 0.2083 - val_loss: 2.7897 - val_acc: 0.0833\n",
      "Epoch 164/500\n",
      " - 0s - loss: 4.8496 - acc: 0.2500 - val_loss: 2.7687 - val_acc: 0.0833\n",
      "Epoch 165/500\n",
      " - 0s - loss: 5.0291 - acc: 0.2083 - val_loss: 2.7261 - val_acc: 0.0833\n",
      "Epoch 166/500\n",
      " - 0s - loss: 5.5760 - acc: 0.1667 - val_loss: 2.6636 - val_acc: 0.0833\n",
      "Epoch 167/500\n",
      " - 0s - loss: 5.0871 - acc: 0.2917 - val_loss: 2.6140 - val_acc: 0.1667\n",
      "Epoch 168/500\n",
      " - 0s - loss: 4.8484 - acc: 0.2083 - val_loss: 2.7311 - val_acc: 0.0833\n",
      "Epoch 169/500\n",
      " - 0s - loss: 4.2353 - acc: 0.2083 - val_loss: 2.7623 - val_acc: 0.0833\n",
      "Epoch 170/500\n",
      " - 0s - loss: 4.1907 - acc: 0.3750 - val_loss: 2.7965 - val_acc: 0.0000e+00\n",
      "Epoch 171/500\n",
      " - 0s - loss: 4.6764 - acc: 0.3333 - val_loss: 2.8082 - val_acc: 0.0000e+00\n",
      "Epoch 172/500\n",
      " - 0s - loss: 4.8919 - acc: 0.2083 - val_loss: 2.7858 - val_acc: 0.0000e+00\n",
      "Epoch 173/500\n",
      " - 0s - loss: 4.3870 - acc: 0.2917 - val_loss: 2.6662 - val_acc: 0.0833\n",
      "Epoch 174/500\n",
      " - 0s - loss: 3.5621 - acc: 0.2083 - val_loss: 2.4689 - val_acc: 0.1667\n",
      "Epoch 175/500\n",
      " - 0s - loss: 3.9766 - acc: 0.2500 - val_loss: 2.4433 - val_acc: 0.1667\n",
      "Epoch 176/500\n",
      " - 0s - loss: 3.8244 - acc: 0.1250 - val_loss: 2.4410 - val_acc: 0.1667\n",
      "Epoch 177/500\n",
      " - 0s - loss: 4.8223 - acc: 0.2083 - val_loss: 2.4001 - val_acc: 0.2500\n",
      "Epoch 178/500\n",
      " - 0s - loss: 4.0966 - acc: 0.2500 - val_loss: 2.4168 - val_acc: 0.1667\n",
      "Epoch 179/500\n",
      " - 0s - loss: 4.3598 - acc: 0.2083 - val_loss: 2.4082 - val_acc: 0.0833\n",
      "Epoch 180/500\n",
      " - 0s - loss: 4.2109 - acc: 0.3333 - val_loss: 2.3840 - val_acc: 0.0833\n",
      "Epoch 181/500\n",
      " - 0s - loss: 3.2583 - acc: 0.2917 - val_loss: 2.3664 - val_acc: 0.0000e+00\n",
      "Epoch 182/500\n",
      " - 0s - loss: 3.9821 - acc: 0.2917 - val_loss: 2.3601 - val_acc: 0.0833\n",
      "Epoch 183/500\n",
      " - 0s - loss: 3.5671 - acc: 0.2500 - val_loss: 2.3430 - val_acc: 0.0833\n",
      "Epoch 184/500\n",
      " - 0s - loss: 3.7530 - acc: 0.3750 - val_loss: 2.2787 - val_acc: 0.0833\n",
      "Epoch 185/500\n",
      " - 0s - loss: 3.8744 - acc: 0.2917 - val_loss: 2.2353 - val_acc: 0.0833\n",
      "Epoch 186/500\n",
      " - 0s - loss: 3.7415 - acc: 0.1667 - val_loss: 2.3212 - val_acc: 0.0833\n",
      "Epoch 187/500\n",
      " - 0s - loss: 3.6350 - acc: 0.2500 - val_loss: 2.2638 - val_acc: 0.0833\n"
     ]
    },
    {
     "name": "stdout",
     "output_type": "stream",
     "text": [
      "Epoch 188/500\n",
      " - 0s - loss: 2.5264 - acc: 0.2083 - val_loss: 2.1406 - val_acc: 0.0833\n",
      "Epoch 189/500\n",
      " - 0s - loss: 2.8428 - acc: 0.2500 - val_loss: 2.0312 - val_acc: 0.1667\n",
      "Epoch 190/500\n",
      " - 0s - loss: 3.5097 - acc: 0.1667 - val_loss: 2.0006 - val_acc: 0.0833\n",
      "Epoch 191/500\n",
      " - 0s - loss: 3.1015 - acc: 0.2500 - val_loss: 1.9069 - val_acc: 0.1667\n",
      "Epoch 192/500\n",
      " - 0s - loss: 2.6754 - acc: 0.2083 - val_loss: 1.9007 - val_acc: 0.1667\n",
      "Epoch 193/500\n",
      " - 0s - loss: 3.2051 - acc: 0.1667 - val_loss: 1.9946 - val_acc: 0.2500\n",
      "Epoch 194/500\n",
      " - 0s - loss: 2.9228 - acc: 0.2083 - val_loss: 1.9763 - val_acc: 0.1667\n",
      "Epoch 195/500\n",
      " - 0s - loss: 3.4080 - acc: 0.2083 - val_loss: 1.8906 - val_acc: 0.1667\n",
      "Epoch 196/500\n",
      " - 0s - loss: 2.6737 - acc: 0.2500 - val_loss: 1.8786 - val_acc: 0.1667\n",
      "Epoch 197/500\n",
      " - 0s - loss: 3.0963 - acc: 0.1667 - val_loss: 1.9782 - val_acc: 0.1667\n",
      "Epoch 198/500\n",
      " - 0s - loss: 2.2130 - acc: 0.3333 - val_loss: 1.9996 - val_acc: 0.1667\n",
      "Epoch 199/500\n",
      " - 0s - loss: 2.6853 - acc: 0.2083 - val_loss: 1.9644 - val_acc: 0.1667\n",
      "Epoch 200/500\n",
      " - 0s - loss: 2.3759 - acc: 0.2917 - val_loss: 1.7827 - val_acc: 0.2500\n",
      "Epoch 201/500\n",
      " - 0s - loss: 2.6275 - acc: 0.3333 - val_loss: 1.7170 - val_acc: 0.3333\n",
      "Epoch 202/500\n",
      " - 0s - loss: 2.2848 - acc: 0.3750 - val_loss: 1.8611 - val_acc: 0.2500\n",
      "Epoch 203/500\n",
      " - 0s - loss: 2.5912 - acc: 0.2917 - val_loss: 2.1585 - val_acc: 0.0833\n",
      "Epoch 204/500\n",
      " - 0s - loss: 2.6731 - acc: 0.1667 - val_loss: 2.4323 - val_acc: 0.1667\n",
      "Epoch 205/500\n",
      " - 0s - loss: 2.8643 - acc: 0.2083 - val_loss: 2.4248 - val_acc: 0.1667\n",
      "Epoch 206/500\n",
      " - 0s - loss: 2.5223 - acc: 0.2500 - val_loss: 2.2342 - val_acc: 0.1667\n",
      "Epoch 207/500\n",
      " - 0s - loss: 2.0696 - acc: 0.4167 - val_loss: 2.0778 - val_acc: 0.2500\n",
      "Epoch 208/500\n",
      " - 0s - loss: 2.8663 - acc: 0.2500 - val_loss: 2.1587 - val_acc: 0.0833\n",
      "Epoch 209/500\n",
      " - 0s - loss: 3.0193 - acc: 0.1667 - val_loss: 2.2629 - val_acc: 0.0833\n",
      "Epoch 210/500\n",
      " - 0s - loss: 2.3508 - acc: 0.1250 - val_loss: 2.2311 - val_acc: 0.0833\n",
      "Epoch 211/500\n",
      " - 0s - loss: 2.1416 - acc: 0.2500 - val_loss: 2.1866 - val_acc: 0.1667\n",
      "Epoch 212/500\n",
      " - 0s - loss: 2.2561 - acc: 0.2083 - val_loss: 2.2946 - val_acc: 0.2500\n",
      "Epoch 213/500\n",
      " - 0s - loss: 1.7547 - acc: 0.2917 - val_loss: 2.4997 - val_acc: 0.1667\n",
      "Epoch 214/500\n",
      " - 0s - loss: 2.2864 - acc: 0.1667 - val_loss: 2.3419 - val_acc: 0.2500\n",
      "Epoch 215/500\n",
      " - 0s - loss: 2.6424 - acc: 0.2500 - val_loss: 2.2948 - val_acc: 0.2500\n",
      "Epoch 216/500\n",
      " - 0s - loss: 2.2992 - acc: 0.3333 - val_loss: 2.3451 - val_acc: 0.1667\n",
      "Epoch 217/500\n",
      " - 0s - loss: 2.0188 - acc: 0.3750 - val_loss: 2.2738 - val_acc: 0.2500\n",
      "Epoch 218/500\n",
      " - 0s - loss: 2.2790 - acc: 0.3333 - val_loss: 2.2039 - val_acc: 0.1667\n",
      "Epoch 219/500\n",
      " - 0s - loss: 1.6879 - acc: 0.3333 - val_loss: 2.2247 - val_acc: 0.1667\n",
      "Epoch 220/500\n",
      " - 0s - loss: 2.1293 - acc: 0.2083 - val_loss: 2.2106 - val_acc: 0.1667\n",
      "Epoch 221/500\n",
      " - 0s - loss: 1.3380 - acc: 0.2917 - val_loss: 2.1587 - val_acc: 0.2500\n",
      "Epoch 222/500\n",
      " - 0s - loss: 2.3322 - acc: 0.1667 - val_loss: 2.1094 - val_acc: 0.2500\n",
      "Epoch 223/500\n",
      " - 0s - loss: 1.7977 - acc: 0.2083 - val_loss: 2.2832 - val_acc: 0.1667\n",
      "Epoch 224/500\n",
      " - 0s - loss: 1.8060 - acc: 0.2500 - val_loss: 2.2940 - val_acc: 0.1667\n",
      "Epoch 225/500\n",
      " - 0s - loss: 2.0656 - acc: 0.2917 - val_loss: 2.2319 - val_acc: 0.1667\n",
      "Epoch 226/500\n",
      " - 0s - loss: 1.9692 - acc: 0.2083 - val_loss: 2.3527 - val_acc: 0.2500\n",
      "Epoch 227/500\n",
      " - 0s - loss: 1.6719 - acc: 0.4583 - val_loss: 2.4884 - val_acc: 0.2500\n",
      "Epoch 228/500\n",
      " - 0s - loss: 2.3720 - acc: 0.2083 - val_loss: 2.5438 - val_acc: 0.1667\n",
      "Epoch 229/500\n",
      " - 0s - loss: 2.1343 - acc: 0.4167 - val_loss: 2.4103 - val_acc: 0.2500\n",
      "Epoch 230/500\n",
      " - 0s - loss: 2.1947 - acc: 0.2083 - val_loss: 2.3451 - val_acc: 0.2500\n",
      "Epoch 231/500\n",
      " - 0s - loss: 1.3530 - acc: 0.1250 - val_loss: 2.3662 - val_acc: 0.1667\n",
      "Epoch 232/500\n",
      " - 0s - loss: 1.7980 - acc: 0.3333 - val_loss: 2.4718 - val_acc: 0.2500\n",
      "Epoch 233/500\n",
      " - 0s - loss: 1.6358 - acc: 0.2500 - val_loss: 2.4975 - val_acc: 0.2500\n",
      "Epoch 234/500\n",
      " - 0s - loss: 1.5425 - acc: 0.2500 - val_loss: 2.4637 - val_acc: 0.1667\n",
      "Epoch 235/500\n",
      " - 0s - loss: 1.7420 - acc: 0.3750 - val_loss: 2.5273 - val_acc: 0.1667\n",
      "Epoch 236/500\n",
      " - 0s - loss: 1.8558 - acc: 0.2917 - val_loss: 2.6127 - val_acc: 0.0833\n",
      "Epoch 237/500\n",
      " - 0s - loss: 1.7692 - acc: 0.3333 - val_loss: 2.4641 - val_acc: 0.1667\n",
      "Epoch 238/500\n",
      " - 0s - loss: 2.0210 - acc: 0.2500 - val_loss: 2.3406 - val_acc: 0.2500\n",
      "Epoch 239/500\n",
      " - 0s - loss: 1.4507 - acc: 0.3333 - val_loss: 2.4393 - val_acc: 0.2500\n",
      "Epoch 240/500\n",
      " - 0s - loss: 1.8015 - acc: 0.2500 - val_loss: 2.4831 - val_acc: 0.2500\n",
      "Epoch 241/500\n",
      " - 0s - loss: 1.6408 - acc: 0.2500 - val_loss: 2.5157 - val_acc: 0.1667\n",
      "Epoch 242/500\n",
      " - 0s - loss: 1.6856 - acc: 0.3750 - val_loss: 2.5080 - val_acc: 0.1667\n",
      "Epoch 243/500\n",
      " - 0s - loss: 1.2703 - acc: 0.3333 - val_loss: 2.5220 - val_acc: 0.2500\n",
      "Epoch 244/500\n",
      " - 0s - loss: 1.9611 - acc: 0.2083 - val_loss: 2.4631 - val_acc: 0.1667\n",
      "Epoch 245/500\n",
      " - 0s - loss: 1.7338 - acc: 0.2083 - val_loss: 2.5318 - val_acc: 0.1667\n",
      "Epoch 246/500\n",
      " - 0s - loss: 1.4938 - acc: 0.3333 - val_loss: 2.6120 - val_acc: 0.1667\n",
      "Epoch 247/500\n",
      " - 0s - loss: 1.7769 - acc: 0.3333 - val_loss: 2.6745 - val_acc: 0.1667\n",
      "Epoch 248/500\n",
      " - 0s - loss: 1.5372 - acc: 0.2917 - val_loss: 2.6404 - val_acc: 0.2500\n",
      "Epoch 249/500\n",
      " - 0s - loss: 1.3532 - acc: 0.4583 - val_loss: 2.6638 - val_acc: 0.2500\n",
      "Epoch 250/500\n",
      " - 0s - loss: 1.7458 - acc: 0.3750 - val_loss: 2.6798 - val_acc: 0.3333\n",
      "Epoch 251/500\n",
      " - 0s - loss: 1.5583 - acc: 0.3333 - val_loss: 2.7279 - val_acc: 0.2500\n",
      "Epoch 252/500\n",
      " - 0s - loss: 1.8967 - acc: 0.2083 - val_loss: 2.7270 - val_acc: 0.1667\n",
      "Epoch 253/500\n",
      " - 0s - loss: 1.3602 - acc: 0.3333 - val_loss: 2.8049 - val_acc: 0.2500\n",
      "Epoch 254/500\n",
      " - 0s - loss: 1.8002 - acc: 0.2917 - val_loss: 2.8382 - val_acc: 0.0833\n",
      "Epoch 255/500\n",
      " - 0s - loss: 1.9620 - acc: 0.2500 - val_loss: 2.7482 - val_acc: 0.0833\n",
      "Epoch 256/500\n",
      " - 0s - loss: 2.2655 - acc: 0.2083 - val_loss: 2.7311 - val_acc: 0.1667\n",
      "Epoch 257/500\n",
      " - 0s - loss: 1.4559 - acc: 0.4167 - val_loss: 2.6750 - val_acc: 0.1667\n",
      "Epoch 258/500\n",
      " - 0s - loss: 1.1188 - acc: 0.4583 - val_loss: 2.5810 - val_acc: 0.2500\n",
      "Epoch 259/500\n",
      " - 0s - loss: 1.2416 - acc: 0.3333 - val_loss: 2.6065 - val_acc: 0.2500\n",
      "Epoch 260/500\n",
      " - 0s - loss: 1.3508 - acc: 0.4167 - val_loss: 2.7410 - val_acc: 0.2500\n",
      "Epoch 261/500\n",
      " - 0s - loss: 1.6677 - acc: 0.2500 - val_loss: 3.0148 - val_acc: 0.1667\n",
      "Epoch 262/500\n",
      " - 0s - loss: 1.4952 - acc: 0.2917 - val_loss: 3.1939 - val_acc: 0.1667\n",
      "Epoch 263/500\n",
      " - 0s - loss: 1.3230 - acc: 0.3333 - val_loss: 3.1061 - val_acc: 0.1667\n",
      "Epoch 264/500\n",
      " - 0s - loss: 1.9200 - acc: 0.2917 - val_loss: 2.8277 - val_acc: 0.1667\n",
      "Epoch 265/500\n",
      " - 0s - loss: 1.6180 - acc: 0.2500 - val_loss: 2.3865 - val_acc: 0.1667\n",
      "Epoch 266/500\n",
      " - 0s - loss: 1.7457 - acc: 0.2917 - val_loss: 2.2495 - val_acc: 0.3333\n",
      "Epoch 267/500\n",
      " - 0s - loss: 1.7526 - acc: 0.2500 - val_loss: 2.2369 - val_acc: 0.4167\n",
      "Epoch 268/500\n",
      " - 0s - loss: 1.3708 - acc: 0.2083 - val_loss: 2.3507 - val_acc: 0.2500\n",
      "Epoch 269/500\n",
      " - 0s - loss: 1.8726 - acc: 0.1667 - val_loss: 2.7599 - val_acc: 0.0833\n",
      "Epoch 270/500\n",
      " - 0s - loss: 1.4990 - acc: 0.3750 - val_loss: 3.2230 - val_acc: 0.1667\n",
      "Epoch 271/500\n",
      " - 0s - loss: 2.0939 - acc: 0.2917 - val_loss: 3.4524 - val_acc: 0.0833\n",
      "Epoch 272/500\n",
      " - 0s - loss: 1.6115 - acc: 0.2500 - val_loss: 3.5440 - val_acc: 0.1667\n",
      "Epoch 273/500\n",
      " - 0s - loss: 1.5418 - acc: 0.2083 - val_loss: 3.5009 - val_acc: 0.1667\n",
      "Epoch 274/500\n",
      " - 0s - loss: 1.6821 - acc: 0.4167 - val_loss: 3.3232 - val_acc: 0.1667\n",
      "Epoch 275/500\n",
      " - 0s - loss: 1.8946 - acc: 0.2500 - val_loss: 3.1394 - val_acc: 0.2500\n",
      "Epoch 276/500\n",
      " - 0s - loss: 1.7101 - acc: 0.3750 - val_loss: 3.0137 - val_acc: 0.3333\n",
      "Epoch 277/500\n",
      " - 0s - loss: 1.8139 - acc: 0.2917 - val_loss: 2.9472 - val_acc: 0.0833\n",
      "Epoch 278/500\n",
      " - 0s - loss: 1.3066 - acc: 0.4167 - val_loss: 2.9396 - val_acc: 0.0833\n",
      "Epoch 279/500\n",
      " - 0s - loss: 0.9744 - acc: 0.3750 - val_loss: 2.9207 - val_acc: 0.1667\n",
      "Epoch 280/500\n",
      " - 0s - loss: 1.4649 - acc: 0.2917 - val_loss: 2.8064 - val_acc: 0.1667\n",
      "Epoch 281/500\n",
      " - 0s - loss: 1.7896 - acc: 0.3333 - val_loss: 2.6183 - val_acc: 0.1667\n",
      "Epoch 282/500\n",
      " - 0s - loss: 1.8624 - acc: 0.2917 - val_loss: 2.4424 - val_acc: 0.2500\n",
      "Epoch 283/500\n",
      " - 0s - loss: 1.1816 - acc: 0.2917 - val_loss: 2.3018 - val_acc: 0.2500\n"
     ]
    },
    {
     "name": "stdout",
     "output_type": "stream",
     "text": [
      "Epoch 284/500\n",
      " - 0s - loss: 1.6008 - acc: 0.3333 - val_loss: 2.3125 - val_acc: 0.3333\n",
      "Epoch 285/500\n",
      " - 0s - loss: 1.6590 - acc: 0.2500 - val_loss: 2.3559 - val_acc: 0.2500\n",
      "Epoch 286/500\n",
      " - 0s - loss: 2.4106 - acc: 0.2083 - val_loss: 2.4809 - val_acc: 0.1667\n",
      "Epoch 287/500\n",
      " - 0s - loss: 1.8880 - acc: 0.2500 - val_loss: 2.5469 - val_acc: 0.0833\n",
      "Epoch 288/500\n",
      " - 0s - loss: 1.3768 - acc: 0.3750 - val_loss: 2.4751 - val_acc: 0.0833\n",
      "Epoch 289/500\n",
      " - 0s - loss: 1.4532 - acc: 0.4167 - val_loss: 2.3570 - val_acc: 0.1667\n",
      "Epoch 290/500\n",
      " - 0s - loss: 1.4374 - acc: 0.3333 - val_loss: 2.3068 - val_acc: 0.2500\n",
      "Epoch 291/500\n",
      " - 0s - loss: 1.6884 - acc: 0.2917 - val_loss: 2.4420 - val_acc: 0.1667\n",
      "Epoch 292/500\n",
      " - 0s - loss: 1.4623 - acc: 0.2917 - val_loss: 2.6851 - val_acc: 0.0833\n",
      "Epoch 293/500\n",
      " - 0s - loss: 1.2111 - acc: 0.4167 - val_loss: 2.7003 - val_acc: 0.0833\n",
      "Epoch 294/500\n",
      " - 0s - loss: 1.3210 - acc: 0.4167 - val_loss: 2.5446 - val_acc: 0.1667\n",
      "Epoch 295/500\n",
      " - 0s - loss: 1.6127 - acc: 0.3750 - val_loss: 2.4401 - val_acc: 0.1667\n",
      "Epoch 296/500\n",
      " - 0s - loss: 1.6374 - acc: 0.3750 - val_loss: 2.4006 - val_acc: 0.1667\n",
      "Epoch 297/500\n",
      " - 0s - loss: 1.9368 - acc: 0.2500 - val_loss: 2.4401 - val_acc: 0.2500\n",
      "Epoch 298/500\n",
      " - 0s - loss: 1.6237 - acc: 0.2917 - val_loss: 2.4732 - val_acc: 0.2500\n",
      "Epoch 299/500\n",
      " - 0s - loss: 1.4830 - acc: 0.4167 - val_loss: 2.5096 - val_acc: 0.3333\n",
      "Epoch 300/500\n",
      " - 0s - loss: 1.6523 - acc: 0.3750 - val_loss: 2.5113 - val_acc: 0.3333\n",
      "Epoch 301/500\n",
      " - 0s - loss: 1.5787 - acc: 0.3750 - val_loss: 2.4844 - val_acc: 0.3333\n",
      "Epoch 302/500\n",
      " - 0s - loss: 1.1468 - acc: 0.4167 - val_loss: 2.4308 - val_acc: 0.3333\n",
      "Epoch 303/500\n",
      " - 0s - loss: 1.7336 - acc: 0.2917 - val_loss: 2.4910 - val_acc: 0.2500\n",
      "Epoch 304/500\n",
      " - 0s - loss: 1.5359 - acc: 0.2917 - val_loss: 2.6071 - val_acc: 0.2500\n",
      "Epoch 305/500\n",
      " - 0s - loss: 1.5581 - acc: 0.3333 - val_loss: 2.6214 - val_acc: 0.1667\n",
      "Epoch 306/500\n",
      " - 0s - loss: 2.0335 - acc: 0.2917 - val_loss: 2.5280 - val_acc: 0.1667\n",
      "Epoch 307/500\n",
      " - 0s - loss: 1.7517 - acc: 0.2917 - val_loss: 2.6300 - val_acc: 0.2500\n",
      "Epoch 308/500\n",
      " - 0s - loss: 1.4300 - acc: 0.3750 - val_loss: 2.7292 - val_acc: 0.1667\n",
      "Epoch 309/500\n",
      " - 0s - loss: 1.5423 - acc: 0.3333 - val_loss: 2.8117 - val_acc: 0.1667\n",
      "Epoch 310/500\n",
      " - 0s - loss: 1.8775 - acc: 0.2500 - val_loss: 2.8936 - val_acc: 0.0833\n",
      "Epoch 311/500\n",
      " - 0s - loss: 1.4894 - acc: 0.2500 - val_loss: 2.8527 - val_acc: 0.1667\n",
      "Epoch 312/500\n",
      " - 0s - loss: 1.5982 - acc: 0.2500 - val_loss: 2.8242 - val_acc: 0.2500\n",
      "Epoch 313/500\n",
      " - 0s - loss: 1.3757 - acc: 0.3333 - val_loss: 2.8555 - val_acc: 0.2500\n",
      "Epoch 314/500\n",
      " - 0s - loss: 1.4546 - acc: 0.2917 - val_loss: 2.9284 - val_acc: 0.2500\n",
      "Epoch 315/500\n",
      " - 0s - loss: 1.3822 - acc: 0.3750 - val_loss: 3.0280 - val_acc: 0.0833\n",
      "Epoch 316/500\n",
      " - 0s - loss: 1.4208 - acc: 0.3333 - val_loss: 2.8914 - val_acc: 0.1667\n",
      "Epoch 317/500\n",
      " - 0s - loss: 1.3156 - acc: 0.2917 - val_loss: 2.7387 - val_acc: 0.0833\n",
      "Epoch 318/500\n",
      " - 0s - loss: 1.8364 - acc: 0.1667 - val_loss: 2.5232 - val_acc: 0.1667\n",
      "Epoch 319/500\n",
      " - 0s - loss: 1.7481 - acc: 0.2917 - val_loss: 2.5101 - val_acc: 0.1667\n",
      "Epoch 320/500\n",
      " - 0s - loss: 1.3888 - acc: 0.2917 - val_loss: 2.5882 - val_acc: 0.2500\n",
      "Epoch 321/500\n",
      " - 0s - loss: 1.5428 - acc: 0.3333 - val_loss: 2.5524 - val_acc: 0.2500\n",
      "Epoch 322/500\n",
      " - 0s - loss: 1.1657 - acc: 0.4167 - val_loss: 2.4484 - val_acc: 0.2500\n",
      "Epoch 323/500\n",
      " - 0s - loss: 1.5768 - acc: 0.2917 - val_loss: 2.3668 - val_acc: 0.4167\n",
      "Epoch 324/500\n",
      " - 0s - loss: 1.5825 - acc: 0.3750 - val_loss: 2.3195 - val_acc: 0.4167\n",
      "Epoch 325/500\n",
      " - 0s - loss: 1.3127 - acc: 0.2917 - val_loss: 2.3621 - val_acc: 0.4167\n",
      "Epoch 326/500\n",
      " - 0s - loss: 1.3487 - acc: 0.3333 - val_loss: 2.4249 - val_acc: 0.2500\n",
      "Epoch 327/500\n",
      " - 0s - loss: 1.6745 - acc: 0.2917 - val_loss: 2.2374 - val_acc: 0.3333\n",
      "Epoch 328/500\n",
      " - 0s - loss: 1.6205 - acc: 0.2500 - val_loss: 2.2987 - val_acc: 0.1667\n",
      "Epoch 329/500\n",
      " - 0s - loss: 1.4889 - acc: 0.2083 - val_loss: 2.7694 - val_acc: 0.0833\n",
      "Epoch 330/500\n",
      " - 0s - loss: 1.4145 - acc: 0.2083 - val_loss: 2.8893 - val_acc: 0.0833\n",
      "Epoch 331/500\n",
      " - 0s - loss: 1.7582 - acc: 0.2500 - val_loss: 2.6004 - val_acc: 0.0833\n",
      "Epoch 332/500\n",
      " - 0s - loss: 1.7002 - acc: 0.2083 - val_loss: 2.3357 - val_acc: 0.3333\n",
      "Epoch 333/500\n",
      " - 0s - loss: 1.7524 - acc: 0.3333 - val_loss: 2.4739 - val_acc: 0.1667\n",
      "Epoch 334/500\n",
      " - 0s - loss: 1.7869 - acc: 0.3333 - val_loss: 2.5832 - val_acc: 0.3333\n",
      "Epoch 335/500\n",
      " - 0s - loss: 1.7044 - acc: 0.2917 - val_loss: 2.6091 - val_acc: 0.3333\n",
      "Epoch 336/500\n",
      " - 0s - loss: 1.7854 - acc: 0.2083 - val_loss: 2.5850 - val_acc: 0.3333\n",
      "Epoch 337/500\n",
      " - 0s - loss: 2.3217 - acc: 0.2083 - val_loss: 2.5030 - val_acc: 0.2500\n",
      "Epoch 338/500\n",
      " - 0s - loss: 2.0181 - acc: 0.2917 - val_loss: 2.4921 - val_acc: 0.1667\n",
      "Epoch 339/500\n",
      " - 0s - loss: 1.3258 - acc: 0.2917 - val_loss: 2.4691 - val_acc: 0.2500\n",
      "Epoch 340/500\n",
      " - 0s - loss: 1.1443 - acc: 0.5000 - val_loss: 2.6033 - val_acc: 0.1667\n",
      "Epoch 341/500\n",
      " - 0s - loss: 1.4566 - acc: 0.3333 - val_loss: 2.6997 - val_acc: 0.1667\n",
      "Epoch 342/500\n",
      " - 0s - loss: 1.3235 - acc: 0.4167 - val_loss: 2.6288 - val_acc: 0.0833\n",
      "Epoch 343/500\n",
      " - 0s - loss: 1.1310 - acc: 0.4167 - val_loss: 2.5089 - val_acc: 0.1667\n",
      "Epoch 344/500\n",
      " - 0s - loss: 1.5664 - acc: 0.1250 - val_loss: 2.5488 - val_acc: 0.1667\n",
      "Epoch 345/500\n",
      " - 0s - loss: 1.8152 - acc: 0.2500 - val_loss: 2.6210 - val_acc: 0.1667\n",
      "Epoch 346/500\n",
      " - 0s - loss: 0.9426 - acc: 0.4167 - val_loss: 2.6169 - val_acc: 0.2500\n",
      "Epoch 347/500\n",
      " - 0s - loss: 1.6228 - acc: 0.3750 - val_loss: 2.5800 - val_acc: 0.3333\n",
      "Epoch 348/500\n",
      " - 0s - loss: 1.4936 - acc: 0.3750 - val_loss: 2.5662 - val_acc: 0.1667\n",
      "Epoch 349/500\n",
      " - 0s - loss: 1.8422 - acc: 0.3750 - val_loss: 2.5239 - val_acc: 0.2500\n",
      "Epoch 350/500\n",
      " - 0s - loss: 1.7000 - acc: 0.3333 - val_loss: 2.3308 - val_acc: 0.4167\n",
      "Epoch 351/500\n",
      " - 0s - loss: 1.5752 - acc: 0.2917 - val_loss: 2.3355 - val_acc: 0.5000\n",
      "Epoch 352/500\n",
      " - 0s - loss: 2.0753 - acc: 0.2083 - val_loss: 2.3726 - val_acc: 0.3333\n",
      "Epoch 353/500\n",
      " - 0s - loss: 1.0447 - acc: 0.4583 - val_loss: 2.3275 - val_acc: 0.4167\n",
      "Epoch 354/500\n",
      " - 0s - loss: 1.3864 - acc: 0.3750 - val_loss: 2.2925 - val_acc: 0.4167\n",
      "Epoch 355/500\n",
      " - 0s - loss: 1.5726 - acc: 0.2083 - val_loss: 2.3662 - val_acc: 0.3333\n",
      "Epoch 356/500\n",
      " - 0s - loss: 1.8280 - acc: 0.1667 - val_loss: 2.3203 - val_acc: 0.3333\n",
      "Epoch 357/500\n",
      " - 0s - loss: 1.3639 - acc: 0.3333 - val_loss: 2.3561 - val_acc: 0.4167\n",
      "Epoch 358/500\n",
      " - 0s - loss: 1.3458 - acc: 0.2917 - val_loss: 2.6298 - val_acc: 0.0833\n",
      "Epoch 359/500\n",
      " - 0s - loss: 1.7289 - acc: 0.2917 - val_loss: 2.9045 - val_acc: 0.0833\n",
      "Epoch 360/500\n",
      " - 0s - loss: 1.6122 - acc: 0.2917 - val_loss: 3.1650 - val_acc: 0.0833\n",
      "Epoch 361/500\n",
      " - 0s - loss: 2.0748 - acc: 0.2083 - val_loss: 3.2509 - val_acc: 0.1667\n",
      "Epoch 362/500\n",
      " - 0s - loss: 1.4662 - acc: 0.3750 - val_loss: 3.2955 - val_acc: 0.2500\n",
      "Epoch 363/500\n",
      " - 0s - loss: 1.7359 - acc: 0.2500 - val_loss: 3.3116 - val_acc: 0.1667\n",
      "Epoch 364/500\n",
      " - 0s - loss: 1.0517 - acc: 0.3750 - val_loss: 3.2224 - val_acc: 0.1667\n",
      "Epoch 365/500\n",
      " - 0s - loss: 1.0187 - acc: 0.4167 - val_loss: 2.9085 - val_acc: 0.1667\n",
      "Epoch 366/500\n",
      " - 0s - loss: 1.1234 - acc: 0.4167 - val_loss: 2.6512 - val_acc: 0.2500\n",
      "Epoch 367/500\n",
      " - 0s - loss: 1.9923 - acc: 0.2083 - val_loss: 2.7553 - val_acc: 0.1667\n",
      "Epoch 368/500\n",
      " - 0s - loss: 1.6388 - acc: 0.3333 - val_loss: 2.8604 - val_acc: 0.1667\n",
      "Epoch 369/500\n",
      " - 0s - loss: 1.5171 - acc: 0.2083 - val_loss: 2.8470 - val_acc: 0.1667\n",
      "Epoch 370/500\n",
      " - 0s - loss: 1.7035 - acc: 0.2917 - val_loss: 2.8632 - val_acc: 0.1667\n",
      "Epoch 371/500\n",
      " - 0s - loss: 1.6888 - acc: 0.2917 - val_loss: 2.9781 - val_acc: 0.1667\n",
      "Epoch 372/500\n",
      " - 0s - loss: 1.6282 - acc: 0.2917 - val_loss: 3.2310 - val_acc: 0.0833\n",
      "Epoch 373/500\n",
      " - 0s - loss: 1.1739 - acc: 0.4583 - val_loss: 3.2709 - val_acc: 0.0833\n",
      "Epoch 374/500\n",
      " - 0s - loss: 1.6761 - acc: 0.3750 - val_loss: 3.1868 - val_acc: 0.0833\n",
      "Epoch 375/500\n",
      " - 0s - loss: 1.5571 - acc: 0.2917 - val_loss: 3.0423 - val_acc: 0.0833\n",
      "Epoch 376/500\n",
      " - 0s - loss: 1.3134 - acc: 0.3333 - val_loss: 2.9464 - val_acc: 0.0833\n",
      "Epoch 377/500\n",
      " - 0s - loss: 1.3991 - acc: 0.2917 - val_loss: 2.9746 - val_acc: 0.0833\n",
      "Epoch 378/500\n",
      " - 0s - loss: 1.4152 - acc: 0.2917 - val_loss: 2.8689 - val_acc: 0.1667\n",
      "Epoch 379/500\n",
      " - 0s - loss: 1.7488 - acc: 0.2500 - val_loss: 2.8629 - val_acc: 0.1667\n"
     ]
    },
    {
     "name": "stdout",
     "output_type": "stream",
     "text": [
      "Epoch 380/500\n",
      " - 0s - loss: 1.4454 - acc: 0.2917 - val_loss: 2.8677 - val_acc: 0.1667\n",
      "Epoch 381/500\n",
      " - 0s - loss: 1.9138 - acc: 0.2083 - val_loss: 2.8411 - val_acc: 0.3333\n",
      "Epoch 382/500\n",
      " - 0s - loss: 1.3453 - acc: 0.2083 - val_loss: 2.8054 - val_acc: 0.3333\n",
      "Epoch 383/500\n",
      " - 0s - loss: 1.2783 - acc: 0.2500 - val_loss: 2.8381 - val_acc: 0.2500\n",
      "Epoch 384/500\n",
      " - 0s - loss: 1.4121 - acc: 0.3750 - val_loss: 2.8770 - val_acc: 0.2500\n",
      "Epoch 385/500\n",
      " - 0s - loss: 2.2449 - acc: 0.2500 - val_loss: 2.9058 - val_acc: 0.3333\n",
      "Epoch 386/500\n",
      " - 0s - loss: 1.5320 - acc: 0.3750 - val_loss: 3.1103 - val_acc: 0.2500\n",
      "Epoch 387/500\n",
      " - 0s - loss: 2.2889 - acc: 0.2917 - val_loss: 3.2335 - val_acc: 0.2500\n",
      "Epoch 388/500\n",
      " - 0s - loss: 1.6385 - acc: 0.3333 - val_loss: 3.1352 - val_acc: 0.1667\n",
      "Epoch 389/500\n",
      " - 0s - loss: 1.6414 - acc: 0.2083 - val_loss: 3.0618 - val_acc: 0.1667\n",
      "Epoch 390/500\n",
      " - 0s - loss: 1.1886 - acc: 0.4167 - val_loss: 2.9209 - val_acc: 0.1667\n",
      "Epoch 391/500\n",
      " - 0s - loss: 1.5157 - acc: 0.3750 - val_loss: 2.7790 - val_acc: 0.1667\n",
      "Epoch 392/500\n",
      " - 0s - loss: 1.5732 - acc: 0.2500 - val_loss: 2.6527 - val_acc: 0.1667\n",
      "Epoch 393/500\n",
      " - 0s - loss: 1.5592 - acc: 0.2917 - val_loss: 2.6397 - val_acc: 0.2500\n",
      "Epoch 394/500\n",
      " - 0s - loss: 1.7832 - acc: 0.3333 - val_loss: 2.8374 - val_acc: 0.1667\n",
      "Epoch 395/500\n",
      " - 0s - loss: 1.0953 - acc: 0.3333 - val_loss: 2.8979 - val_acc: 0.2500\n",
      "Epoch 396/500\n",
      " - 0s - loss: 1.0411 - acc: 0.4583 - val_loss: 2.9454 - val_acc: 0.1667\n",
      "Epoch 397/500\n",
      " - 0s - loss: 1.1872 - acc: 0.3750 - val_loss: 2.9721 - val_acc: 0.0833\n",
      "Epoch 398/500\n",
      " - 0s - loss: 1.9170 - acc: 0.2500 - val_loss: 2.8925 - val_acc: 0.1667\n",
      "Epoch 399/500\n",
      " - 0s - loss: 1.5728 - acc: 0.2500 - val_loss: 2.8608 - val_acc: 0.1667\n",
      "Epoch 400/500\n",
      " - 0s - loss: 1.7545 - acc: 0.3333 - val_loss: 2.8115 - val_acc: 0.0833\n",
      "Epoch 401/500\n",
      " - 0s - loss: 1.6089 - acc: 0.3333 - val_loss: 2.7647 - val_acc: 0.0833\n",
      "Epoch 402/500\n",
      " - 0s - loss: 1.6367 - acc: 0.2917 - val_loss: 2.7386 - val_acc: 0.1667\n",
      "Epoch 403/500\n",
      " - 0s - loss: 1.4866 - acc: 0.4167 - val_loss: 2.7707 - val_acc: 0.1667\n",
      "Epoch 404/500\n",
      " - 0s - loss: 0.9246 - acc: 0.3750 - val_loss: 2.8205 - val_acc: 0.1667\n",
      "Epoch 405/500\n",
      " - 0s - loss: 1.9456 - acc: 0.2083 - val_loss: 2.9285 - val_acc: 0.1667\n",
      "Epoch 406/500\n",
      " - 0s - loss: 1.2136 - acc: 0.2500 - val_loss: 2.8910 - val_acc: 0.1667\n",
      "Epoch 407/500\n",
      " - 0s - loss: 1.6289 - acc: 0.2917 - val_loss: 2.8071 - val_acc: 0.0833\n",
      "Epoch 408/500\n",
      " - 0s - loss: 1.5969 - acc: 0.3333 - val_loss: 2.7640 - val_acc: 0.0833\n",
      "Epoch 409/500\n",
      " - 0s - loss: 1.3372 - acc: 0.2917 - val_loss: 2.7682 - val_acc: 0.0833\n",
      "Epoch 410/500\n",
      " - 0s - loss: 1.6013 - acc: 0.3333 - val_loss: 2.8016 - val_acc: 0.1667\n",
      "Epoch 411/500\n",
      " - 0s - loss: 1.8594 - acc: 0.3333 - val_loss: 2.8401 - val_acc: 0.2500\n",
      "Epoch 412/500\n",
      " - 0s - loss: 1.2651 - acc: 0.3750 - val_loss: 2.8515 - val_acc: 0.2500\n",
      "Epoch 413/500\n",
      " - 0s - loss: 1.3548 - acc: 0.2917 - val_loss: 2.7827 - val_acc: 0.2500\n",
      "Epoch 414/500\n",
      " - 0s - loss: 1.7222 - acc: 0.2500 - val_loss: 2.6695 - val_acc: 0.4167\n",
      "Epoch 415/500\n",
      " - 0s - loss: 1.5402 - acc: 0.2500 - val_loss: 2.5968 - val_acc: 0.4167\n",
      "Epoch 416/500\n",
      " - 0s - loss: 1.3516 - acc: 0.4167 - val_loss: 2.5926 - val_acc: 0.2500\n",
      "Epoch 417/500\n",
      " - 0s - loss: 1.9241 - acc: 0.3333 - val_loss: 2.6825 - val_acc: 0.2500\n",
      "Epoch 418/500\n",
      " - 0s - loss: 2.2022 - acc: 0.3333 - val_loss: 2.7565 - val_acc: 0.1667\n",
      "Epoch 419/500\n",
      " - 0s - loss: 1.3596 - acc: 0.3750 - val_loss: 2.8008 - val_acc: 0.1667\n",
      "Epoch 420/500\n",
      " - 0s - loss: 1.6681 - acc: 0.2917 - val_loss: 2.6989 - val_acc: 0.1667\n",
      "Epoch 421/500\n",
      " - 0s - loss: 1.6980 - acc: 0.2917 - val_loss: 2.6434 - val_acc: 0.2500\n",
      "Epoch 422/500\n",
      " - 0s - loss: 2.2405 - acc: 0.1250 - val_loss: 2.6801 - val_acc: 0.1667\n",
      "Epoch 423/500\n",
      " - 0s - loss: 1.2885 - acc: 0.4167 - val_loss: 2.7391 - val_acc: 0.0833\n",
      "Epoch 424/500\n",
      " - 0s - loss: 1.5943 - acc: 0.2917 - val_loss: 2.7441 - val_acc: 0.1667\n",
      "Epoch 425/500\n",
      " - 0s - loss: 1.5030 - acc: 0.2500 - val_loss: 2.8649 - val_acc: 0.1667\n",
      "Epoch 426/500\n",
      " - 0s - loss: 1.2917 - acc: 0.2917 - val_loss: 2.9442 - val_acc: 0.0833\n",
      "Epoch 427/500\n",
      " - 0s - loss: 1.5783 - acc: 0.3750 - val_loss: 2.9203 - val_acc: 0.0833\n",
      "Epoch 428/500\n",
      " - 0s - loss: 1.3435 - acc: 0.2917 - val_loss: 2.8699 - val_acc: 0.0833\n",
      "Epoch 429/500\n",
      " - 0s - loss: 1.2327 - acc: 0.3750 - val_loss: 2.7510 - val_acc: 0.1667\n",
      "Epoch 430/500\n",
      " - 0s - loss: 1.3082 - acc: 0.4167 - val_loss: 2.6892 - val_acc: 0.1667\n",
      "Epoch 431/500\n",
      " - 0s - loss: 1.6442 - acc: 0.2917 - val_loss: 2.6470 - val_acc: 0.1667\n",
      "Epoch 432/500\n",
      " - 0s - loss: 1.1264 - acc: 0.5833 - val_loss: 2.7703 - val_acc: 0.1667\n",
      "Epoch 433/500\n",
      " - 0s - loss: 1.5072 - acc: 0.2083 - val_loss: 2.8051 - val_acc: 0.0833\n",
      "Epoch 434/500\n",
      " - 0s - loss: 1.4754 - acc: 0.2917 - val_loss: 2.7594 - val_acc: 0.0833\n",
      "Epoch 435/500\n",
      " - 0s - loss: 1.3034 - acc: 0.3750 - val_loss: 2.5917 - val_acc: 0.1667\n",
      "Epoch 436/500\n",
      " - 0s - loss: 1.6777 - acc: 0.2917 - val_loss: 2.5840 - val_acc: 0.1667\n",
      "Epoch 437/500\n",
      " - 0s - loss: 1.6241 - acc: 0.2500 - val_loss: 2.5696 - val_acc: 0.2500\n",
      "Epoch 438/500\n",
      " - 0s - loss: 1.5954 - acc: 0.2083 - val_loss: 2.9878 - val_acc: 0.0833\n",
      "Epoch 439/500\n",
      " - 0s - loss: 1.4169 - acc: 0.2500 - val_loss: 3.2499 - val_acc: 0.0833\n",
      "Epoch 440/500\n",
      " - 0s - loss: 1.5876 - acc: 0.3750 - val_loss: 3.3580 - val_acc: 0.0833\n",
      "Epoch 441/500\n",
      " - 0s - loss: 1.3235 - acc: 0.4583 - val_loss: 3.2512 - val_acc: 0.0833\n",
      "Epoch 442/500\n",
      " - 0s - loss: 1.4648 - acc: 0.3333 - val_loss: 3.1445 - val_acc: 0.0833\n",
      "Epoch 443/500\n",
      " - 0s - loss: 1.8287 - acc: 0.2083 - val_loss: 3.0434 - val_acc: 0.0833\n",
      "Epoch 444/500\n",
      " - 0s - loss: 1.6077 - acc: 0.4167 - val_loss: 2.8518 - val_acc: 0.1667\n",
      "Epoch 445/500\n",
      " - 0s - loss: 1.2132 - acc: 0.2500 - val_loss: 2.5786 - val_acc: 0.2500\n",
      "Epoch 446/500\n",
      " - 0s - loss: 1.7809 - acc: 0.3333 - val_loss: 2.3939 - val_acc: 0.5000\n",
      "Epoch 447/500\n",
      " - 0s - loss: 1.5248 - acc: 0.2917 - val_loss: 2.5903 - val_acc: 0.3333\n",
      "Epoch 448/500\n",
      " - 0s - loss: 1.6035 - acc: 0.3333 - val_loss: 2.7048 - val_acc: 0.2500\n",
      "Epoch 449/500\n",
      " - 0s - loss: 1.6508 - acc: 0.3333 - val_loss: 2.6569 - val_acc: 0.1667\n",
      "Epoch 450/500\n",
      " - 0s - loss: 1.9722 - acc: 0.2500 - val_loss: 2.5507 - val_acc: 0.3333\n",
      "Epoch 451/500\n",
      " - 0s - loss: 1.6287 - acc: 0.3750 - val_loss: 2.6267 - val_acc: 0.0833\n",
      "Epoch 452/500\n",
      " - 0s - loss: 1.7728 - acc: 0.2500 - val_loss: 2.7669 - val_acc: 0.0833\n",
      "Epoch 453/500\n",
      " - 0s - loss: 1.6034 - acc: 0.3333 - val_loss: 3.1054 - val_acc: 0.0833\n",
      "Epoch 454/500\n",
      " - 0s - loss: 1.7465 - acc: 0.2083 - val_loss: 3.2551 - val_acc: 0.0833\n",
      "Epoch 455/500\n",
      " - 0s - loss: 1.3708 - acc: 0.4167 - val_loss: 3.2151 - val_acc: 0.0833\n",
      "Epoch 456/500\n",
      " - 0s - loss: 1.5166 - acc: 0.4167 - val_loss: 3.1995 - val_acc: 0.0833\n",
      "Epoch 457/500\n",
      " - 0s - loss: 1.5603 - acc: 0.4583 - val_loss: 3.0305 - val_acc: 0.1667\n",
      "Epoch 458/500\n",
      " - 0s - loss: 1.6049 - acc: 0.3333 - val_loss: 2.7738 - val_acc: 0.1667\n",
      "Epoch 459/500\n",
      " - 0s - loss: 1.4547 - acc: 0.4167 - val_loss: 2.4107 - val_acc: 0.2500\n",
      "Epoch 460/500\n",
      " - 0s - loss: 1.9509 - acc: 0.2917 - val_loss: 2.1921 - val_acc: 0.4167\n",
      "Epoch 461/500\n",
      " - 0s - loss: 1.9669 - acc: 0.1667 - val_loss: 2.3094 - val_acc: 0.4167\n",
      "Epoch 462/500\n",
      " - 0s - loss: 1.3309 - acc: 0.2917 - val_loss: 2.3030 - val_acc: 0.4167\n",
      "Epoch 463/500\n",
      " - 0s - loss: 1.6549 - acc: 0.3333 - val_loss: 2.5434 - val_acc: 0.0833\n",
      "Epoch 464/500\n",
      " - 0s - loss: 1.6948 - acc: 0.2083 - val_loss: 3.0005 - val_acc: 0.0833\n",
      "Epoch 465/500\n",
      " - 0s - loss: 1.4362 - acc: 0.3333 - val_loss: 3.4787 - val_acc: 0.0833\n",
      "Epoch 466/500\n",
      " - 0s - loss: 1.5271 - acc: 0.2917 - val_loss: 3.8883 - val_acc: 0.0833\n",
      "Epoch 467/500\n",
      " - 0s - loss: 2.0544 - acc: 0.2500 - val_loss: 4.0216 - val_acc: 0.0833\n",
      "Epoch 468/500\n",
      " - 0s - loss: 1.9316 - acc: 0.2500 - val_loss: 3.9880 - val_acc: 0.0833\n",
      "Epoch 469/500\n",
      " - 0s - loss: 1.9451 - acc: 0.2500 - val_loss: 3.7087 - val_acc: 0.0833\n",
      "Epoch 470/500\n",
      " - 0s - loss: 1.7096 - acc: 0.3333 - val_loss: 3.3719 - val_acc: 0.0833\n",
      "Epoch 471/500\n",
      " - 0s - loss: 1.2403 - acc: 0.4167 - val_loss: 3.1478 - val_acc: 0.0833\n",
      "Epoch 472/500\n",
      " - 0s - loss: 1.5298 - acc: 0.2500 - val_loss: 2.8940 - val_acc: 0.0833\n",
      "Epoch 473/500\n",
      " - 0s - loss: 1.9526 - acc: 0.1667 - val_loss: 2.7791 - val_acc: 0.1667\n",
      "Epoch 474/500\n",
      " - 0s - loss: 1.4139 - acc: 0.3750 - val_loss: 2.7179 - val_acc: 0.1667\n",
      "Epoch 475/500\n",
      " - 0s - loss: 1.3408 - acc: 0.3750 - val_loss: 2.6492 - val_acc: 0.2500\n"
     ]
    },
    {
     "name": "stdout",
     "output_type": "stream",
     "text": [
      "Epoch 476/500\n",
      " - 0s - loss: 1.5815 - acc: 0.2917 - val_loss: 2.6553 - val_acc: 0.1667\n",
      "Epoch 477/500\n",
      " - 0s - loss: 1.1787 - acc: 0.3750 - val_loss: 2.7108 - val_acc: 0.1667\n",
      "Epoch 478/500\n",
      " - 0s - loss: 1.1093 - acc: 0.4583 - val_loss: 2.7111 - val_acc: 0.1667\n",
      "Epoch 479/500\n",
      " - 0s - loss: 1.8210 - acc: 0.2083 - val_loss: 2.8340 - val_acc: 0.0833\n",
      "Epoch 480/500\n",
      " - 0s - loss: 1.5048 - acc: 0.2917 - val_loss: 2.8337 - val_acc: 0.0833\n",
      "Epoch 481/500\n",
      " - 0s - loss: 1.6800 - acc: 0.2917 - val_loss: 2.7047 - val_acc: 0.1667\n",
      "Epoch 482/500\n",
      " - 0s - loss: 1.2642 - acc: 0.3333 - val_loss: 2.6820 - val_acc: 0.1667\n",
      "Epoch 483/500\n",
      " - 0s - loss: 1.5632 - acc: 0.3333 - val_loss: 2.6494 - val_acc: 0.1667\n",
      "Epoch 484/500\n",
      " - 0s - loss: 1.4898 - acc: 0.2917 - val_loss: 2.6155 - val_acc: 0.1667\n",
      "Epoch 485/500\n",
      " - 0s - loss: 1.5390 - acc: 0.2500 - val_loss: 2.7456 - val_acc: 0.0833\n",
      "Epoch 486/500\n",
      " - 0s - loss: 1.4217 - acc: 0.2500 - val_loss: 2.9259 - val_acc: 0.0833\n",
      "Epoch 487/500\n",
      " - 0s - loss: 1.3230 - acc: 0.2917 - val_loss: 3.0105 - val_acc: 0.0833\n",
      "Epoch 488/500\n",
      " - 0s - loss: 1.6827 - acc: 0.3750 - val_loss: 2.9914 - val_acc: 0.0833\n",
      "Epoch 489/500\n",
      " - 0s - loss: 1.5266 - acc: 0.4167 - val_loss: 2.8402 - val_acc: 0.0833\n",
      "Epoch 490/500\n",
      " - 0s - loss: 1.3560 - acc: 0.2917 - val_loss: 2.7265 - val_acc: 0.1667\n",
      "Epoch 491/500\n",
      " - 0s - loss: 1.8556 - acc: 0.2083 - val_loss: 2.7294 - val_acc: 0.0833\n",
      "Epoch 492/500\n",
      " - 0s - loss: 1.0402 - acc: 0.4583 - val_loss: 2.7329 - val_acc: 0.0833\n",
      "Epoch 493/500\n",
      " - 0s - loss: 1.7799 - acc: 0.3333 - val_loss: 2.7369 - val_acc: 0.1667\n",
      "Epoch 494/500\n",
      " - 0s - loss: 1.4404 - acc: 0.2083 - val_loss: 2.7594 - val_acc: 0.2500\n",
      "Epoch 495/500\n",
      " - 0s - loss: 1.3193 - acc: 0.3333 - val_loss: 2.7606 - val_acc: 0.2500\n",
      "Epoch 496/500\n",
      " - 0s - loss: 1.9982 - acc: 0.1250 - val_loss: 2.8550 - val_acc: 0.1667\n",
      "Epoch 497/500\n",
      " - 0s - loss: 1.0638 - acc: 0.4583 - val_loss: 2.9889 - val_acc: 0.0833\n",
      "Epoch 498/500\n",
      " - 0s - loss: 1.3756 - acc: 0.3333 - val_loss: 3.2157 - val_acc: 0.0833\n",
      "Epoch 499/500\n",
      " - 0s - loss: 2.0309 - acc: 0.2917 - val_loss: 3.4036 - val_acc: 0.0833\n",
      "Epoch 500/500\n",
      " - 0s - loss: 1.7185 - acc: 0.3333 - val_loss: 3.4153 - val_acc: 0.0833\n"
     ]
    }
   ],
   "source": [
    "model = Sequential()\n",
    "model.add(LSTM(95, input_shape=(None,1), return_sequences=True))\n",
    "model.add(Dropout(0.2))\n",
    "model.add(Dense(1, activation = 'linear'))\n",
    "model.compile(loss='mean_absolute_error', optimizer='adam',metrics=['accuracy'])\n",
    "model.fit(x_train, y_train, epochs=500, batch_size=1, verbose=2,validation_data=(x_test, y_test))\n",
    "y_pred = model.predict(x_test)"
   ]
  },
  {
   "cell_type": "code",
   "execution_count": 146,
   "metadata": {},
   "outputs": [
    {
     "data": {
      "image/png": "[encoded data removed]",
      "text/plain": [
       "<matplotlib.figure.Figure at 0x7f5106982710>"
      ]
     },
     "metadata": {},
     "output_type": "display_data"
    }
   ],
   "source": [
    "# true values plot\n",
    "plt.figure(figsize=(15,10))\n",
    "plt.subplot(2,2,1)\n",
    "plt.plot(x_test.reshape(12),y_test.reshape(12), ls='', marker='.');\n",
    "plt.title('True values');\n",
    "\n",
    "# predicted values plotb\n",
    "plt.subplot(2,2,2)\n",
    "plt.plot(x_test.reshape(12),y_pred.reshape(12), ls='', marker='.');\n",
    "plt.title('Predicted values');\n",
    "\n",
    "# Visualize accuracy performance\n",
    "plt.subplot(2,2,3)\n",
    "plt.plot(history.history['acc'])\n",
    "plt.plot(history.history['val_acc'])\n",
    "plt.title('Model accuracy')\n",
    "plt.ylabel('accuracy')\n",
    "plt.xlabel('epoch')\n",
    "plt.legend(['train', 'test'], loc='best')\n",
    "\n",
    "\n",
    "# Visualize loss performance (MSE)\n",
    "plt.subplot(2,2,4)\n",
    "plt.plot(history.history['loss'])\n",
    "plt.plot(history.history['val_loss'])\n",
    "plt.title('Model loss')\n",
    "plt.ylabel('loss')\n",
    "plt.xlabel('epoch')\n",
    "plt.legend(['train', 'test'], loc='best')\n",
    "plt.show()\n"
   ]
  },
  {
   "cell_type": "code",
   "execution_count": 23,
   "metadata": {},
   "outputs": [
    {
     "data": {
      "text/plain": [
       "(19, 19)"
      ]
     },
     "execution_count": 23,
     "metadata": {},
     "output_type": "execute_result"
    }
   ],
   "source": [
    "misclass_rate_test.shape"
   ]
  },
  {
   "cell_type": "code",
   "execution_count": 24,
   "metadata": {},
   "outputs": [
    {
     "data": {
      "text/plain": [
       "(10,)"
      ]
     },
     "execution_count": 24,
     "metadata": {},
     "output_type": "execute_result"
    }
   ],
   "source": [
    "NN_Error_test.shape"
   ]
  },
  {
   "cell_type": "code",
   "execution_count": 61,
   "metadata": {},
   "outputs": [
    {
     "data": {
      "text/plain": [
       "array([[  1.53901194e-02,   8.94083189e-03,   9.64351903e-03, ...,\n",
       "          1.24577701e-01,   1.15573406e-01,   1.10360452e-01],\n",
       "       [  5.11044051e-02,   4.46551176e-02,   4.53578047e-02, ...,\n",
       "          8.88634154e-02,   7.98591205e-02,   7.46461664e-02],\n",
       "       [  2.46702347e-03,   8.91631097e-03,   8.21362383e-03, ...,\n",
       "          1.42434844e-01,   1.33430549e-01,   1.28217595e-01],\n",
       "       ..., \n",
       "       [  5.15390119e-01,   5.08940832e-01,   5.09643519e-01, ...,\n",
       "          3.75422299e-01,   3.84426594e-01,   3.89639548e-01],\n",
       "       [  1.40390119e-01,   1.33940832e-01,   1.34643519e-01, ...,\n",
       "          4.22298908e-04,   9.42659378e-03,   1.46395479e-02],\n",
       "       [  1.40390119e-01,   1.33940832e-01,   1.34643519e-01, ...,\n",
       "          4.22298908e-04,   9.42659378e-03,   1.46395479e-02]])"
      ]
     },
     "execution_count": 61,
     "metadata": {},
     "output_type": "execute_result"
    }
   ],
   "source": [
    "sum(np.abs(y_est_train - y_train)) / float(len(y_est_train))"
   ]
  },
  {
   "cell_type": "code",
   "execution_count": 149,
   "metadata": {},
   "outputs": [
    {
     "data": {
      "text/plain": [
       "array([[[-3.06876749],\n",
       "        [ 0.07251677],\n",
       "        [ 1.34475803],\n",
       "        [ 7.18123245],\n",
       "        [ 4.94470596],\n",
       "        [ 5.19876099],\n",
       "        [ 3.18650436],\n",
       "        [ 2.53026581],\n",
       "        [ 2.65812302],\n",
       "        [-5.42852736],\n",
       "        [-3.57313442],\n",
       "        [ 1.7967186 ]]])"
      ]
     },
     "execution_count": 149,
     "metadata": {},
     "output_type": "execute_result"
    }
   ],
   "source": [
    "y_pred-y_test"
   ]
  },
  {
   "cell_type": "code",
   "execution_count": 30,
   "metadata": {},
   "outputs": [
    {
     "data": {
      "text/plain": [
       "(56,)"
      ]
     },
     "execution_count": 30,
     "metadata": {},
     "output_type": "execute_result"
    }
   ],
   "source": [
    "y_est_train.shape"
   ]
  },
  {
   "cell_type": "code",
   "execution_count": 38,
   "metadata": {},
   "outputs": [
    {
     "data": {
      "text/plain": [
       "(56,)"
      ]
     },
     "execution_count": 38,
     "metadata": {},
     "output_type": "execute_result"
    }
   ],
   "source": [
    "y_train.reshape(56).shape"
   ]
  },
  {
   "cell_type": "code",
   "execution_count": 74,
   "metadata": {},
   "outputs": [
    {
     "data": {
      "text/plain": [
       "(77, 6)"
      ]
     },
     "execution_count": 74,
     "metadata": {},
     "output_type": "execute_result"
    }
   ],
   "source": [
    "df['data'].shape"
   ]
  },
  {
   "cell_type": "code",
   "execution_count": 103,
   "metadata": {},
   "outputs": [],
   "source": [
    "data = pd.Series()\n",
    "data['April14'] = df['data']['Full%'].loc['2014-04-10 08:00:00':'2014-04-10 20:00:00']\n",
    "data['Jun14'] = df['data']['Full%'].loc['2014-07-15 08:00:00':'2014-07-15 20:00:00']\n",
    "data['April15'] = df['data']['Full%'].loc['2015-04-22 08:00:00':'2015-04-22 20:00:00']\n",
    "data['Jun15'] = df['data']['Full%'].loc['2015-07-16 08:00:00':'2015-07-16 20:00:00']\n",
    "data['April16'] = df['data']['Full%'].loc['2016-04-28 08:00:00':'2016-04-28 20:00:00']\n",
    "data['Jun16'] = df['data']['Full%'].loc['2016-07-05 08:00:00':'2016-07-05 20:00:00']\n"
   ]
  },
  {
   "cell_type": "code",
   "execution_count": 81,
   "metadata": {},
   "outputs": [
    {
     "data": {
      "text/plain": [
       "Index(['2014-04-10 08:00:00', '2014-04-10 09:00:00', '2014-04-10 10:00:00',\n",
       "       '2014-04-10 11:00:00', '2014-04-10 12:00:00', '2014-04-10 13:00:00',\n",
       "       '2014-04-10 14:00:00', '2014-04-10 15:00:00', '2014-04-10 16:00:00',\n",
       "       '2014-04-10 17:00:00', '2014-04-10 18:00:00', '2014-04-10 19:00:00',\n",
       "       '2014-04-10 20:00:00', '2014-07-15 08:00:00', '2014-07-15 09:00:00',\n",
       "       '2014-07-15 10:00:00', '2014-07-15 11:00:00', '2014-07-15 12:00:00',\n",
       "       '2014-07-15 13:00:00', '2014-07-15 14:00:00', '2014-07-15 15:00:00',\n",
       "       '2014-07-15 16:00:00', '2014-07-15 17:00:00', '2014-07-15 18:00:00',\n",
       "       '2014-07-15 19:00:00', '2014-07-15 20:00:00', '2015-04-22 08:00:00',\n",
       "       '2015-04-22 09:00:00', '2015-04-22 10:00:00', '2015-04-22 11:00:00',\n",
       "       '2015-04-22 12:00:00', '2015-04-22 13:00:00', '2015-04-22 14:00:00',\n",
       "       '2015-04-22 15:00:00', '2015-04-22 16:00:00', '2015-04-22 17:00:00',\n",
       "       '2015-04-22 18:00:00', '2015-04-22 19:00:00', '2015-04-22 20:00:00',\n",
       "       '2015-07-16 08:00:00', '2015-07-16 09:00:00', '2015-07-16 10:00:00',\n",
       "       '2015-07-16 11:00:00', '2015-07-16 12:00:00', '2015-07-16 13:00:00',\n",
       "       '2015-07-16 14:00:00', '2015-07-16 15:00:00', '2015-07-16 16:00:00',\n",
       "       '2015-07-16 17:00:00', '2015-07-16 18:00:00', '2015-07-16 19:00:00',\n",
       "       '2015-07-16 20:00:00', '2016-04-28 08:00:00', '2016-04-28 10:00:00',\n",
       "       '2016-04-28 11:00:00', '2016-04-28 12:00:00', '2016-04-28 13:00:00',\n",
       "       '2016-04-28 14:00:00', '2016-04-28 15:00:00', '2016-04-28 16:00:00',\n",
       "       '2016-04-28 17:00:00', '2016-04-28 18:00:00', '2016-04-28 19:00:00',\n",
       "       '2016-04-28 20:00:00', '2016-07-05 08:00:00', '2016-07-05 09:00:00',\n",
       "       '2016-07-05 10:00:00', '2016-07-05 11:00:00', '2016-07-05 12:00:00',\n",
       "       '2016-07-05 13:00:00', '2016-07-05 14:00:00', '2016-07-05 15:00:00',\n",
       "       '2016-07-05 16:00:00', '2016-07-05 17:00:00', '2016-07-05 18:00:00',\n",
       "       '2016-07-05 19:00:00', '2016-07-05 20:00:00'],\n",
       "      dtype='object', name='Time_Stamp')"
      ]
     },
     "execution_count": 81,
     "metadata": {},
     "output_type": "execute_result"
    }
   ],
   "source": [
    "df['data']['Full%'].index"
   ]
  },
  {
   "cell_type": "code",
   "execution_count": 115,
   "metadata": {},
   "outputs": [
    {
     "name": "stdout",
     "output_type": "stream",
     "text": [
      "The shape of April14 is: (13,)\n",
      "The shape of Jun14 is: (13,)\n",
      "The shape of April15 is: (13,)\n",
      "The shape of Jun15 is: (13,)\n",
      "The shape of April16 is: (12,)\n",
      "The shape of Jun16 is: (13,)\n"
     ]
    }
   ],
   "source": [
    "for index in data.index.tolist():\n",
    "    shape = data[index].shape\n",
    "    print('The shape of {} is: {}'.format(index,shape))"
   ]
  },
  {
   "cell_type": "code",
   "execution_count": 87,
   "metadata": {},
   "outputs": [
    {
     "data": {
      "text/plain": [
       "Index(['1', '2', '3', '4', '5', '6'], dtype='object')"
      ]
     },
     "execution_count": 87,
     "metadata": {},
     "output_type": "execute_result"
    }
   ],
   "source": [
    "data.index"
   ]
  },
  {
   "cell_type": "code",
   "execution_count": 113,
   "metadata": {},
   "outputs": [
    {
     "data": {
      "text/plain": [
       "Index(['April14', 'Jun14', 'April15', 'Jun15', 'April16', 'Jun16'], dtype='object')"
      ]
     },
     "execution_count": 113,
     "metadata": {},
     "output_type": "execute_result"
    }
   ],
   "source": [
    "data.index"
   ]
  },
  {
   "cell_type": "code",
   "execution_count": 141,
   "metadata": {},
   "outputs": [
    {
     "name": "stdout",
     "output_type": "stream",
     "text": [
      "(2, 12, 1)\n",
      "(1, 12, 1)\n"
     ]
    }
   ],
   "source": [
    "train = np.empty((2,13,1))\n",
    "test = np.empty((1,13,1))\n",
    "\n",
    "train[0] = data['Jun14'].values.reshape(13,1)\n",
    "train[1] = data['Jun15'].values.reshape(13,1)\n",
    "\n",
    "test = data['Jun16'].values.reshape(13,1)\n",
    "\n",
    "# create train lists\n",
    "x_train = np.empty((2,12,1))\n",
    "y_train = np.empty((2,12,1))\n",
    "\n",
    "x_train[0] = data['Jun14'].values[1:13].reshape(12,1)\n",
    "y_train[0] = data['Jun14'].values[0:12].reshape(12,1)\n",
    "\n",
    "x_train[1] = data['Jun15'].values[1:13].reshape(12,1)\n",
    "y_train[1] = data['Jun15'].values[0:12].reshape(12,1)\n",
    "\n",
    "# create test lists\n",
    "x_test = np.empty((1,13,1))\n",
    "y_test = np.empty((1,13,1))\n",
    "\n",
    "x_test = data['Jun16'].values[1:13].reshape(1,12,1)\n",
    "y_test = data['Jun16'].values[0:12].reshape(1,12,1)\n",
    "\n",
    "print(x_train.shape)\n",
    "print(x_test.shape)\n"
   ]
  },
  {
   "cell_type": "code",
   "execution_count": 92,
   "metadata": {},
   "outputs": [
    {
     "data": {
      "text/plain": [
       "(2, 13, 1)"
      ]
     },
     "execution_count": 92,
     "metadata": {},
     "output_type": "execute_result"
    }
   ],
   "source": [
    "X_train.shape"
   ]
  },
  {
   "cell_type": "code",
   "execution_count": 120,
   "metadata": {},
   "outputs": [],
   "source": [
    "X_train[0] = data['Jun14'].values.reshape(13,1)\n",
    "X_train[1] = data['Jun15'].values.reshape(13,1)\n",
    "Y_train = data['Jun16'].values.reshape(1,13,1)\n"
   ]
  },
  {
   "cell_type": "code",
   "execution_count": 124,
   "metadata": {},
   "outputs": [
    {
     "data": {
      "text/plain": [
       "array([[  3.],\n",
       "       [  0.],\n",
       "       [  0.],\n",
       "       [  0.],\n",
       "       [  0.],\n",
       "       [ 14.],\n",
       "       [  8.],\n",
       "       [  0.],\n",
       "       [  0.],\n",
       "       [  0.],\n",
       "       [  0.],\n",
       "       [  0.]])"
      ]
     },
     "execution_count": 124,
     "metadata": {},
     "output_type": "execute_result"
    }
   ],
   "source": [
    "data['April14'].values.reshape(13,1)[1:13]"
   ]
  },
  {
   "cell_type": "code",
   "execution_count": 123,
   "metadata": {},
   "outputs": [
    {
     "data": {
      "text/plain": [
       "(13, 1)"
      ]
     },
     "execution_count": 123,
     "metadata": {},
     "output_type": "execute_result"
    }
   ],
   "source": [
    "X_train[0].shape"
   ]
  },
  {
   "cell_type": "code",
   "execution_count": null,
   "metadata": {
    "collapsed": true
   },
   "outputs": [],
   "source": [
    "y_train"
   ]
  },
  {
   "cell_type": "code",
   "execution_count": 125,
   "metadata": {},
   "outputs": [
    {
     "data": {
      "text/plain": [
       "array([[  1.],\n",
       "       [  3.],\n",
       "       [  0.],\n",
       "       [  0.],\n",
       "       [  0.],\n",
       "       [  0.],\n",
       "       [ 14.],\n",
       "       [  8.],\n",
       "       [  0.],\n",
       "       [  0.],\n",
       "       [  0.],\n",
       "       [  0.],\n",
       "       [  0.]])"
      ]
     },
     "execution_count": 125,
     "metadata": {},
     "output_type": "execute_result"
    }
   ],
   "source": [
    "data['April14'].values.reshape(13,1)"
   ]
  },
  {
   "cell_type": "code",
   "execution_count": 128,
   "metadata": {},
   "outputs": [
    {
     "data": {
      "text/plain": [
       "(13,)"
      ]
     },
     "execution_count": 128,
     "metadata": {},
     "output_type": "execute_result"
    }
   ],
   "source": [
    "data['April14'].values.shape"
   ]
  },
  {
   "cell_type": "code",
   "execution_count": 132,
   "metadata": {},
   "outputs": [
    {
     "data": {
      "text/plain": [
       "(13,)"
      ]
     },
     "execution_count": 132,
     "metadata": {},
     "output_type": "execute_result"
    }
   ],
   "source": [
    "data['April14'].values.shape"
   ]
  },
  {
   "cell_type": "code",
   "execution_count": null,
   "metadata": {
    "collapsed": true
   },
   "outputs": [],
   "source": []
  }
 ],
 "metadata": {
  "kernelspec": {
   "display_name": "Python 3",
   "language": "python",
   "name": "python3"
  },
  "language_info": {
   "codemirror_mode": {
    "name": "ipython",
    "version": 3
   },
   "file_extension": ".py",
   "mimetype": "text/x-python",
   "name": "python",
   "nbconvert_exporter": "python",
   "pygments_lexer": "ipython3",
   "version": "3.6.3"
  }
 },
 "nbformat": 4,
 "nbformat_minor": 2
}
